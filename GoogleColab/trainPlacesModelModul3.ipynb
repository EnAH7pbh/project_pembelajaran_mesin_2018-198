{
  "nbformat": 4,
  "nbformat_minor": 0,
  "metadata": {
    "colab": {
      "name": "trainPlacesModelModul3.ipynb",
      "provenance": [],
      "machine_shape": "hm",
      "mount_file_id": "1UdJipcsuDOyca6bGK5Yq_WBU2jEbJKkJ",
      "authorship_tag": "ABX9TyOx2rCG3LeHsQPIyl39vucA",
      "include_colab_link": true
    },
    "kernelspec": {
      "name": "python3",
      "display_name": "Python 3"
    },
    "language_info": {
      "name": "python"
    },
    "accelerator": "GPU"
  },
  "cells": [
    {
      "cell_type": "markdown",
      "metadata": {
        "id": "view-in-github",
        "colab_type": "text"
      },
      "source": [
        "<a href=\"https://colab.research.google.com/github/ahmadcah/project_pembelajaran_mesin_2018-198/blob/main/GoogleColab/trainPlacesModelModul3.ipynb\" target=\"_parent\"><img src=\"https://colab.research.google.com/assets/colab-badge.svg\" alt=\"Open In Colab\"/></a>"
      ]
    },
    {
      "cell_type": "code",
      "metadata": {
        "id": "FWzv0Bkd12Ac"
      },
      "source": [
        "!rm -rf /content/p365s"
      ],
      "execution_count": null,
      "outputs": []
    },
    {
      "cell_type": "code",
      "metadata": {
        "id": "UOs5GZ65o1wK"
      },
      "source": [
        "!rm -rf /content/places365_standard"
      ],
      "execution_count": null,
      "outputs": []
    },
    {
      "cell_type": "code",
      "metadata": {
        "id": "y7FbRPwpntxz"
      },
      "source": [
        "from numba import cuda \n",
        "device = cuda.get_current_device()\n",
        "device.reset()"
      ],
      "execution_count": null,
      "outputs": []
    },
    {
      "cell_type": "code",
      "metadata": {
        "id": "nCTlnm1CM6yX"
      },
      "source": [
        "import tarfile\n",
        "\n",
        "tar = tarfile.open(\"/content/drive/MyDrive/Data/places365standard_easyformat.tar\", \"r:\")\n",
        "tar.extractall(path='/content')\n",
        "tar.close()"
      ],
      "execution_count": null,
      "outputs": []
    },
    {
      "cell_type": "code",
      "metadata": {
        "id": "AgNPcB4Mt6V4"
      },
      "source": [
        "import os\n",
        "\n",
        "def count_file(target):\n",
        "  totalImageFile = 0\n",
        "  for f in os.listdir(target):\n",
        "    for i in os.listdir(target+\"/\"+f):\n",
        "      totalImageFile +=1\n",
        "  print(totalImageFile)"
      ],
      "execution_count": null,
      "outputs": []
    },
    {
      "cell_type": "code",
      "metadata": {
        "colab": {
          "base_uri": "https://localhost:8080/"
        },
        "id": "jFJcZb7OppX0",
        "outputId": "a184dfb9-88a2-4eaa-96cb-35bff871b4f8"
      },
      "source": [
        "count_file(\"/content/places365_standard/train\")\n",
        "count_file(\"/content/places365_standard/val\")"
      ],
      "execution_count": null,
      "outputs": [
        {
          "output_type": "stream",
          "name": "stdout",
          "text": [
            "1803460\n",
            "36500\n"
          ]
        }
      ]
    },
    {
      "cell_type": "code",
      "metadata": {
        "colab": {
          "base_uri": "https://localhost:8080/"
        },
        "id": "gHzkvZFLxJsI",
        "outputId": "70b7d5ba-0f0a-4c63-8d18-c0f03977bc2b"
      },
      "source": [
        "print(1803460+36500)"
      ],
      "execution_count": null,
      "outputs": [
        {
          "output_type": "stream",
          "name": "stdout",
          "text": [
            "1839960\n"
          ]
        }
      ]
    },
    {
      "cell_type": "code",
      "metadata": {
        "colab": {
          "base_uri": "https://localhost:8080/"
        },
        "id": "xB09D_kfoOk9",
        "outputId": "33d46643-90ee-4362-867c-c2a2552920cc"
      },
      "source": [
        "total = 1839960\n",
        "train = int(total*0.80)\n",
        "valid = int(total*0.19)\n",
        "test = int(total*0.01)\n",
        "print(\"total: \",total,\"train: \",train,\"valid: \",valid,\"test: \",test)"
      ],
      "execution_count": null,
      "outputs": [
        {
          "output_type": "stream",
          "name": "stdout",
          "text": [
            "total:  1839960 train:  1471968 valid:  349592 test:  18399\n"
          ]
        }
      ]
    },
    {
      "cell_type": "code",
      "metadata": {
        "id": "8VQUgjtNukKT"
      },
      "source": [
        "import shutil\n",
        "valF = \"/content/places365_standard/val\"\n",
        "for f in os.listdir(valF):\n",
        "  t = valF+\"/\"+f\n",
        "  for i in os.listdir(t):\n",
        "    original = t+\"/\"+i\n",
        "    target = '/content/places365_standard/train/'+f+\"/\"+i\n",
        "    shutil.move(original,target)"
      ],
      "execution_count": null,
      "outputs": []
    },
    {
      "cell_type": "code",
      "metadata": {
        "colab": {
          "base_uri": "https://localhost:8080/"
        },
        "id": "4GcK88sawy6j",
        "outputId": "73b8c805-8511-40b9-87ca-eb52e5d9e356"
      },
      "source": [
        "count_file(\"/content/places365_standard/train\")\n",
        "count_file(\"/content/places365_standard/val\")"
      ],
      "execution_count": null,
      "outputs": [
        {
          "output_type": "stream",
          "name": "stdout",
          "text": [
            "1839960\n",
            "0\n"
          ]
        }
      ]
    },
    {
      "cell_type": "code",
      "metadata": {
        "id": "0GJnqlBHxar9"
      },
      "source": [
        "root = \"/content/p365s\"\n",
        "train_dir = \"/content/p365s/train\"\n",
        "valid_dir = \"/content/p365s/valid\"\n",
        "testi_dir = \"/content/p365s/testing\" \n",
        "os.mkdir(root)\n",
        "os.mkdir(train_dir)\n",
        "os.mkdir(valid_dir)\n",
        "os.mkdir(testi_dir)\n",
        "for i in os.listdir(\"/content/places365_standard/train\"):\n",
        "  os.mkdir(train_dir+\"/\"+i)\n",
        "  os.mkdir(valid_dir+\"/\"+i)\n",
        "  os.mkdir(testi_dir+\"/\"+i)"
      ],
      "execution_count": null,
      "outputs": []
    },
    {
      "cell_type": "code",
      "metadata": {
        "colab": {
          "base_uri": "https://localhost:8080/"
        },
        "id": "yqWPL2RKytoA",
        "outputId": "63640c69-5dcd-41cf-c3ad-5e8f8e7e898f"
      },
      "source": [
        "print(len(os.listdir(train_dir)))\n",
        "print(len(os.listdir(valid_dir)))\n",
        "print(len(os.listdir(testi_dir)))"
      ],
      "execution_count": null,
      "outputs": [
        {
          "output_type": "stream",
          "name": "stdout",
          "text": [
            "365\n",
            "365\n",
            "365\n"
          ]
        }
      ]
    },
    {
      "cell_type": "code",
      "metadata": {
        "id": "_eO5Ww0_pEQ4"
      },
      "source": [
        "import random\n",
        "\n",
        "def split_data(SOURCE, TRAINING, VALIDATION, TESTING, VAL_SIZE, TEST_SIZE):\n",
        "    l = len(os.listdir(SOURCE))\n",
        "    VAL_limit = int(l * VAL_SIZE)\n",
        "    TEST_limit = int(l * TEST_SIZE)\n",
        "    for i, f in enumerate(random.sample(os.listdir(SOURCE), l)):\n",
        "        if os.path.getsize(SOURCE + \"/\" + f) > 0:\n",
        "            if i < TEST_limit:\n",
        "                shutil.move(SOURCE + \"/\" + f, TESTING + \"/\" + f)\n",
        "            elif i >= TEST_limit and i < VAL_limit+TEST_limit:\n",
        "                shutil.move(SOURCE + \"/\" + f, VALIDATION + \"/\" + f)\n",
        "            else:\n",
        "              shutil.move(SOURCE + \"/\" + f, TRAINING + \"/\" + f)\n",
        "        else:\n",
        "            print(f + \" is zero length, so ignoring\")"
      ],
      "execution_count": null,
      "outputs": []
    },
    {
      "cell_type": "code",
      "metadata": {
        "id": "89x428NEzh9C"
      },
      "source": [
        "roots = \"/content/places365_standard/train\"\n",
        "for f in os.listdir(roots):\n",
        "  SOURCE = roots+\"/\"+f\n",
        "  TRAINING = train_dir+\"/\"+f\n",
        "  VALIDATION = valid_dir+\"/\"+f\n",
        "  TESTING = testi_dir+\"/\"+f\n",
        "  VAL_SIZE = 0.19\n",
        "  TEST_SIZE = 0.01\n",
        "  split_data(SOURCE, TRAINING, VALIDATION, TESTING, VAL_SIZE, TEST_SIZE)"
      ],
      "execution_count": null,
      "outputs": []
    },
    {
      "cell_type": "code",
      "metadata": {
        "colab": {
          "base_uri": "https://localhost:8080/"
        },
        "id": "vy3IrrKM7hR-",
        "outputId": "4655c781-38d2-4434-e448-0be293ac76c5"
      },
      "source": [
        "count_file(\"/content/places365_standard/train\")\n",
        "count_file(\"/content/places365_standard/val\")"
      ],
      "execution_count": null,
      "outputs": [
        {
          "output_type": "stream",
          "name": "stdout",
          "text": [
            "0\n",
            "0\n"
          ]
        }
      ]
    },
    {
      "cell_type": "code",
      "metadata": {
        "colab": {
          "base_uri": "https://localhost:8080/"
        },
        "id": "ja2_PlAeNrO3",
        "outputId": "807fa226-bda2-4f16-9be7-92743133cc6c"
      },
      "source": [
        "import tensorflow as tf\n",
        "\n",
        "bs = 32\n",
        "\n",
        "training_datagen = tf.keras.preprocessing.image.ImageDataGenerator(\n",
        "      rescale = 1./255,\n",
        "\t    rotation_range=40,\n",
        "      width_shift_range=0.2,\n",
        "      height_shift_range=0.2,\n",
        "      shear_range=0.2,\n",
        "      zoom_range=0.2,\n",
        "      horizontal_flip=True,\n",
        "      fill_mode='nearest')\n",
        "\n",
        "train_generator = training_datagen.flow_from_directory(\n",
        "\ttrain_dir,\n",
        "\ttarget_size=(256,256),\n",
        "\tclass_mode='categorical',\n",
        "  batch_size=bs)\n",
        "\n",
        "validation_datagen = tf.keras.preprocessing.image.ImageDataGenerator(rescale = 1./255)\n",
        "\n",
        "validation_generator = validation_datagen.flow_from_directory(\n",
        "\tvalid_dir,\n",
        "\ttarget_size=(256,256),\n",
        "\tclass_mode='categorical',\n",
        "  batch_size=bs)\n",
        "\n",
        "testing_datagen = tf.keras.preprocessing.image.ImageDataGenerator(rescale = 1./255)\n",
        "\n",
        "testing_generator = validation_datagen.flow_from_directory(\n",
        "\ttesti_dir,\n",
        "\ttarget_size=(256,256),\n",
        "\tclass_mode='categorical',\n",
        "  batch_size=bs)"
      ],
      "execution_count": null,
      "outputs": [
        {
          "output_type": "stream",
          "name": "stdout",
          "text": [
            "Found 1471994 images belonging to 365 classes.\n",
            "Found 349578 images belonging to 365 classes.\n",
            "Found 18388 images belonging to 365 classes.\n"
          ]
        }
      ]
    },
    {
      "cell_type": "code",
      "metadata": {
        "colab": {
          "base_uri": "https://localhost:8080/"
        },
        "id": "xN28gmPW7j5b",
        "outputId": "36f3cfaf-bee1-45c7-f1c0-fe38f8fa9a18"
      },
      "source": [
        "ltc = len(train_generator.classes) \n",
        "lvc = len(validation_generator.classes)\n",
        "ltsc = len(testing_generator.classes) \n",
        "totalgen = ltc + lvc + ltsc\n",
        "print(\"gen total: \",totalgen)\n",
        "print(\"train: \",ltc/totalgen*100,\"%\")\n",
        "print(\"valid: \",lvc/totalgen*100,\"%\")\n",
        "print(\"testi: \",ltsc/totalgen*100,\"%\")"
      ],
      "execution_count": null,
      "outputs": [
        {
          "output_type": "stream",
          "name": "stdout",
          "text": [
            "gen total:  1839960\n",
            "train:  80.00141307419727 %\n",
            "valid:  18.999217374290744 %\n",
            "testi:  0.9993695515119894 %\n"
          ]
        }
      ]
    },
    {
      "cell_type": "code",
      "metadata": {
        "colab": {
          "base_uri": "https://localhost:8080/"
        },
        "id": "k0gfX44_7GUH",
        "outputId": "6cef3573-d6bc-453f-aae7-ebcacf275860"
      },
      "source": [
        "total = 1839960\n",
        "train = int(total*0.80)\n",
        "valid = int(total*0.19)\n",
        "test = int(total*0.01)\n",
        "print(\"total: \",total,\"train: \",train,\"valid: \",valid,\"test: \",test)"
      ],
      "execution_count": null,
      "outputs": [
        {
          "output_type": "stream",
          "name": "stdout",
          "text": [
            "total:  1839960 train:  1471968 valid:  349592 test:  18399\n"
          ]
        }
      ]
    },
    {
      "cell_type": "code",
      "metadata": {
        "colab": {
          "base_uri": "https://localhost:8080/"
        },
        "id": "0q6ecXrVSgw9",
        "outputId": "462647d1-2a31-4c55-a49b-611e2ef96057"
      },
      "source": [
        "model = tf.keras.models.Sequential([\n",
        "    tf.keras.layers.Conv2D(64, (3,3), activation='relu', input_shape=(256, 256, 3)),\n",
        "    tf.keras.layers.Conv2D(128, (3,3), activation='relu', padding=\"same\"),\n",
        "    tf.keras.layers.BatchNormalization(),\n",
        "    tf.keras.layers.MaxPooling2D(2,2),\n",
        "    tf.keras.layers.Conv2D(128, (3,3), activation='relu', padding=\"same\"),\n",
        "    tf.keras.layers.BatchNormalization(),\n",
        "    tf.keras.layers.MaxPooling2D(2,2),\n",
        "    tf.keras.layers.Conv2D(128, (3,3), activation='relu', padding=\"same\"),\n",
        "    tf.keras.layers.BatchNormalization(),\n",
        "    tf.keras.layers.MaxPooling2D(2,2),\n",
        "    tf.keras.layers.Conv2D(256, (3,3), activation='relu', padding=\"same\"),\n",
        "    tf.keras.layers.BatchNormalization(),\n",
        "    tf.keras.layers.MaxPooling2D(2,2),\n",
        "    tf.keras.layers.Dropout(0.5),\n",
        "    tf.keras.layers.Flatten(),\n",
        "    tf.keras.layers.Dense(256, activation='relu'),\n",
        "    tf.keras.layers.Dense(365, activation='softmax')\n",
        "])\n",
        "model.summary()"
      ],
      "execution_count": null,
      "outputs": [
        {
          "output_type": "stream",
          "name": "stdout",
          "text": [
            "Model: \"sequential\"\n",
            "_________________________________________________________________\n",
            "Layer (type)                 Output Shape              Param #   \n",
            "=================================================================\n",
            "conv2d (Conv2D)              (None, 254, 254, 64)      1792      \n",
            "_________________________________________________________________\n",
            "conv2d_1 (Conv2D)            (None, 254, 254, 128)     73856     \n",
            "_________________________________________________________________\n",
            "batch_normalization (BatchNo (None, 254, 254, 128)     512       \n",
            "_________________________________________________________________\n",
            "max_pooling2d (MaxPooling2D) (None, 127, 127, 128)     0         \n",
            "_________________________________________________________________\n",
            "conv2d_2 (Conv2D)            (None, 127, 127, 128)     147584    \n",
            "_________________________________________________________________\n",
            "batch_normalization_1 (Batch (None, 127, 127, 128)     512       \n",
            "_________________________________________________________________\n",
            "max_pooling2d_1 (MaxPooling2 (None, 63, 63, 128)       0         \n",
            "_________________________________________________________________\n",
            "conv2d_3 (Conv2D)            (None, 63, 63, 128)       147584    \n",
            "_________________________________________________________________\n",
            "batch_normalization_2 (Batch (None, 63, 63, 128)       512       \n",
            "_________________________________________________________________\n",
            "max_pooling2d_2 (MaxPooling2 (None, 31, 31, 128)       0         \n",
            "_________________________________________________________________\n",
            "conv2d_4 (Conv2D)            (None, 31, 31, 256)       295168    \n",
            "_________________________________________________________________\n",
            "batch_normalization_3 (Batch (None, 31, 31, 256)       1024      \n",
            "_________________________________________________________________\n",
            "max_pooling2d_3 (MaxPooling2 (None, 15, 15, 256)       0         \n",
            "_________________________________________________________________\n",
            "dropout (Dropout)            (None, 15, 15, 256)       0         \n",
            "_________________________________________________________________\n",
            "flatten (Flatten)            (None, 57600)             0         \n",
            "_________________________________________________________________\n",
            "dense (Dense)                (None, 256)               14745856  \n",
            "_________________________________________________________________\n",
            "dense_1 (Dense)              (None, 365)               93805     \n",
            "=================================================================\n",
            "Total params: 15,508,205\n",
            "Trainable params: 15,506,925\n",
            "Non-trainable params: 1,280\n",
            "_________________________________________________________________\n"
          ]
        }
      ]
    },
    {
      "cell_type": "code",
      "metadata": {
        "id": "MUk0QNF08vrB"
      },
      "source": [
        "callbacksEarlyStopping = tf.keras.callbacks.EarlyStopping(monitor='loss', patience=5)\n",
        "class CallbackAccuracy(tf.keras.callbacks.Callback):\n",
        "    def on_epoch_end(self, epoch, logs=None):\n",
        "        if logs is None:\n",
        "            logs = {}\n",
        "        if logs.get('acc') > 0.98 and logs.get('val_acc') > 0.98:\n",
        "            self.model.stop_training = True"
      ],
      "execution_count": null,
      "outputs": []
    },
    {
      "cell_type": "code",
      "metadata": {
        "id": "MCKoRvjMTZ2W"
      },
      "source": [
        "model.compile(loss = 'categorical_crossentropy', \n",
        "              optimizer='rmsprop', \n",
        "              metrics=['acc'])"
      ],
      "execution_count": null,
      "outputs": []
    },
    {
      "cell_type": "code",
      "metadata": {
        "colab": {
          "base_uri": "https://localhost:8080/"
        },
        "id": "njjRPYYJ9Lsz",
        "outputId": "698aad8b-8a65-4094-c4f5-1a372239af80"
      },
      "source": [
        "spe = ltc //bs\n",
        "print(spe)\n",
        "vs = len(validation_generator.classes)//bs\n",
        "print(vs)"
      ],
      "execution_count": null,
      "outputs": [
        {
          "output_type": "stream",
          "name": "stdout",
          "text": [
            "45999\n",
            "10924\n"
          ]
        }
      ]
    },
    {
      "cell_type": "code",
      "metadata": {
        "colab": {
          "base_uri": "https://localhost:8080/"
        },
        "id": "z2__HbF6ToO2",
        "outputId": "8fda916b-ed50-4dac-dc4b-c933cafb5568"
      },
      "source": [
        "history = model.fit(train_generator, \n",
        "                    epochs=100, \n",
        "                    steps_per_epoch=64,\n",
        "                    validation_data = validation_generator, \n",
        "                    verbose = 1, \n",
        "                    validation_steps=32)"
      ],
      "execution_count": null,
      "outputs": [
        {
          "output_type": "stream",
          "name": "stdout",
          "text": [
            "Epoch 1/100\n",
            "64/64 [==============================] - 53s 532ms/step - loss: 9.2808 - acc: 0.0054 - val_loss: 6.6940 - val_acc: 0.0029\n",
            "Epoch 2/100\n",
            "64/64 [==============================] - 34s 526ms/step - loss: 6.2033 - acc: 0.0034 - val_loss: 7.8833 - val_acc: 0.0029\n",
            "Epoch 3/100\n",
            "64/64 [==============================] - 34s 523ms/step - loss: 6.0190 - acc: 0.0044 - val_loss: 6.0183 - val_acc: 0.0020\n",
            "Epoch 4/100\n",
            "64/64 [==============================] - 33s 519ms/step - loss: 5.9342 - acc: 0.0034 - val_loss: 6.0772 - val_acc: 0.0049\n",
            "Epoch 5/100\n",
            "64/64 [==============================] - 34s 523ms/step - loss: 6.0010 - acc: 0.0020 - val_loss: 8.8730 - val_acc: 0.0000e+00\n",
            "Epoch 6/100\n",
            "64/64 [==============================] - 34s 523ms/step - loss: 5.9255 - acc: 0.0024 - val_loss: 5.9066 - val_acc: 0.0049\n",
            "Epoch 7/100\n",
            "64/64 [==============================] - 34s 521ms/step - loss: 5.9024 - acc: 0.0049 - val_loss: 5.9007 - val_acc: 0.0020\n",
            "Epoch 8/100\n",
            "64/64 [==============================] - 34s 522ms/step - loss: 5.9737 - acc: 0.0044 - val_loss: 5.9849 - val_acc: 0.0020\n",
            "Epoch 9/100\n",
            "64/64 [==============================] - 33s 519ms/step - loss: 5.9157 - acc: 0.0029 - val_loss: 6.1701 - val_acc: 0.0020\n",
            "Epoch 10/100\n",
            "64/64 [==============================] - 33s 514ms/step - loss: 5.9112 - acc: 0.0020 - val_loss: 5.9011 - val_acc: 0.0029\n",
            "Epoch 11/100\n",
            "64/64 [==============================] - 33s 516ms/step - loss: 5.9000 - acc: 0.0020 - val_loss: 6.3416 - val_acc: 0.0059\n",
            "Epoch 12/100\n",
            "64/64 [==============================] - 33s 517ms/step - loss: 5.9028 - acc: 9.7656e-04 - val_loss: 5.9136 - val_acc: 0.0020\n",
            "Epoch 13/100\n",
            "64/64 [==============================] - 33s 516ms/step - loss: 5.9238 - acc: 9.7656e-04 - val_loss: 5.9103 - val_acc: 0.0020\n",
            "Epoch 14/100\n",
            "64/64 [==============================] - 33s 520ms/step - loss: 5.9064 - acc: 0.0020 - val_loss: 6.2101 - val_acc: 0.0039\n",
            "Epoch 15/100\n",
            "64/64 [==============================] - 33s 520ms/step - loss: 5.8993 - acc: 0.0029 - val_loss: 5.9005 - val_acc: 0.0039\n",
            "Epoch 16/100\n",
            "64/64 [==============================] - 34s 523ms/step - loss: 5.8990 - acc: 0.0024 - val_loss: 5.8985 - val_acc: 0.0029\n",
            "Epoch 17/100\n",
            "64/64 [==============================] - 33s 515ms/step - loss: 5.9013 - acc: 4.8828e-04 - val_loss: 5.8970 - val_acc: 0.0039\n",
            "Epoch 18/100\n",
            "64/64 [==============================] - 33s 517ms/step - loss: 5.8994 - acc: 0.0024 - val_loss: 5.8999 - val_acc: 0.0020\n",
            "Epoch 19/100\n",
            "64/64 [==============================] - 33s 519ms/step - loss: 5.9064 - acc: 0.0020 - val_loss: 5.8975 - val_acc: 0.0049\n",
            "Epoch 20/100\n",
            "64/64 [==============================] - 33s 515ms/step - loss: 5.8995 - acc: 0.0034 - val_loss: 5.8982 - val_acc: 0.0020\n",
            "Epoch 21/100\n",
            "64/64 [==============================] - 33s 513ms/step - loss: 5.8992 - acc: 0.0015 - val_loss: 5.9016 - val_acc: 0.0020\n",
            "Epoch 22/100\n",
            "64/64 [==============================] - 33s 513ms/step - loss: 5.9008 - acc: 0.0024 - val_loss: 5.8975 - val_acc: 0.0029\n",
            "Epoch 23/100\n",
            "64/64 [==============================] - 33s 511ms/step - loss: 5.9000 - acc: 0.0020 - val_loss: 5.9028 - val_acc: 0.0039\n",
            "Epoch 24/100\n",
            "64/64 [==============================] - 33s 513ms/step - loss: 5.9006 - acc: 0.0034 - val_loss: 5.8981 - val_acc: 0.0020\n",
            "Epoch 25/100\n",
            "64/64 [==============================] - 33s 511ms/step - loss: 5.8992 - acc: 0.0015 - val_loss: 5.8982 - val_acc: 0.0039\n",
            "Epoch 26/100\n",
            "64/64 [==============================] - 33s 516ms/step - loss: 5.8994 - acc: 0.0024 - val_loss: 5.8993 - val_acc: 0.0029\n",
            "Epoch 27/100\n",
            "64/64 [==============================] - 33s 509ms/step - loss: 5.9025 - acc: 0.0044 - val_loss: 5.8959 - val_acc: 0.0020\n",
            "Epoch 28/100\n",
            "64/64 [==============================] - 33s 509ms/step - loss: 5.8984 - acc: 0.0034 - val_loss: 5.8990 - val_acc: 0.0068\n",
            "Epoch 29/100\n",
            "64/64 [==============================] - 33s 511ms/step - loss: 5.8988 - acc: 0.0015 - val_loss: 5.8992 - val_acc: 0.0020\n",
            "Epoch 30/100\n",
            "64/64 [==============================] - 33s 509ms/step - loss: 5.8986 - acc: 9.7656e-04 - val_loss: 5.8974 - val_acc: 0.0059\n",
            "Epoch 31/100\n",
            "64/64 [==============================] - 33s 509ms/step - loss: 5.9004 - acc: 0.0024 - val_loss: 5.8993 - val_acc: 0.0039\n",
            "Epoch 32/100\n",
            "64/64 [==============================] - 33s 507ms/step - loss: 5.9007 - acc: 0.0024 - val_loss: 5.8978 - val_acc: 0.0049\n",
            "Epoch 33/100\n",
            "64/64 [==============================] - 33s 508ms/step - loss: 5.9001 - acc: 0.0024 - val_loss: 5.8977 - val_acc: 0.0039\n",
            "Epoch 34/100\n",
            "64/64 [==============================] - 33s 512ms/step - loss: 5.8993 - acc: 0.0029 - val_loss: 5.8992 - val_acc: 0.0039\n",
            "Epoch 35/100\n",
            "64/64 [==============================] - 33s 508ms/step - loss: 5.9008 - acc: 0.0015 - val_loss: 5.9000 - val_acc: 0.0078\n",
            "Epoch 36/100\n",
            "64/64 [==============================] - 33s 508ms/step - loss: 5.8990 - acc: 0.0020 - val_loss: 5.8975 - val_acc: 9.7656e-04\n",
            "Epoch 37/100\n",
            "64/64 [==============================] - 33s 507ms/step - loss: 5.8991 - acc: 0.0044 - val_loss: 5.8994 - val_acc: 0.0020\n",
            "Epoch 38/100\n",
            "64/64 [==============================] - 33s 508ms/step - loss: 5.9006 - acc: 9.7656e-04 - val_loss: 5.8995 - val_acc: 9.7656e-04\n",
            "Epoch 39/100\n",
            "64/64 [==============================] - 33s 510ms/step - loss: 5.9013 - acc: 0.0020 - val_loss: 5.8981 - val_acc: 0.0020\n",
            "Epoch 40/100\n",
            "64/64 [==============================] - 33s 507ms/step - loss: 5.8992 - acc: 0.0034 - val_loss: 5.8956 - val_acc: 0.0020\n",
            "Epoch 41/100\n",
            "64/64 [==============================] - 33s 507ms/step - loss: 5.8991 - acc: 0.0029 - val_loss: 5.9007 - val_acc: 0.0029\n",
            "Epoch 42/100\n",
            "64/64 [==============================] - 33s 506ms/step - loss: 5.9006 - acc: 0.0049 - val_loss: 5.8975 - val_acc: 0.0020\n",
            "Epoch 43/100\n",
            "64/64 [==============================] - 33s 509ms/step - loss: 5.8986 - acc: 0.0020 - val_loss: 5.9019 - val_acc: 9.7656e-04\n",
            "Epoch 44/100\n",
            "64/64 [==============================] - 33s 509ms/step - loss: 5.9017 - acc: 0.0024 - val_loss: 5.9066 - val_acc: 0.0029\n",
            "Epoch 45/100\n",
            "64/64 [==============================] - 33s 505ms/step - loss: 5.8992 - acc: 0.0034 - val_loss: 5.9002 - val_acc: 0.0039\n",
            "Epoch 46/100\n",
            "64/64 [==============================] - 33s 507ms/step - loss: 5.8997 - acc: 0.0034 - val_loss: 5.8982 - val_acc: 0.0039\n",
            "Epoch 47/100\n",
            "64/64 [==============================] - 33s 507ms/step - loss: 5.8997 - acc: 0.0020 - val_loss: 5.8982 - val_acc: 0.0020\n",
            "Epoch 48/100\n",
            "64/64 [==============================] - 33s 509ms/step - loss: 5.8977 - acc: 0.0015 - val_loss: 5.9023 - val_acc: 0.0029\n",
            "Epoch 49/100\n",
            "64/64 [==============================] - 33s 506ms/step - loss: 5.9002 - acc: 0.0020 - val_loss: 5.8975 - val_acc: 0.0000e+00\n",
            "Epoch 50/100\n",
            "64/64 [==============================] - 33s 506ms/step - loss: 5.8997 - acc: 0.0029 - val_loss: 5.9057 - val_acc: 9.7656e-04\n",
            "Epoch 51/100\n",
            "64/64 [==============================] - 32s 504ms/step - loss: 5.9030 - acc: 0.0015 - val_loss: 5.8999 - val_acc: 0.0049\n",
            "Epoch 52/100\n",
            "64/64 [==============================] - 32s 501ms/step - loss: 5.9017 - acc: 0.0049 - val_loss: 5.9007 - val_acc: 0.0020\n",
            "Epoch 53/100\n",
            "64/64 [==============================] - 33s 505ms/step - loss: 5.9009 - acc: 0.0020 - val_loss: 5.8987 - val_acc: 0.0020\n",
            "Epoch 54/100\n",
            "64/64 [==============================] - 32s 503ms/step - loss: 5.8990 - acc: 0.0034 - val_loss: 5.9029 - val_acc: 0.0029\n",
            "Epoch 55/100\n",
            "64/64 [==============================] - 32s 502ms/step - loss: 5.9149 - acc: 0.0034 - val_loss: 5.8976 - val_acc: 0.0029\n",
            "Epoch 56/100\n",
            "64/64 [==============================] - 33s 506ms/step - loss: 5.9013 - acc: 4.8828e-04 - val_loss: 5.9048 - val_acc: 9.7656e-04\n",
            "Epoch 57/100\n",
            "64/64 [==============================] - 32s 502ms/step - loss: 5.8991 - acc: 9.7656e-04 - val_loss: 5.8979 - val_acc: 9.7656e-04\n",
            "Epoch 58/100\n",
            "64/64 [==============================] - 32s 504ms/step - loss: 5.8995 - acc: 0.0034 - val_loss: 5.9025 - val_acc: 0.0020\n",
            "Epoch 59/100\n",
            "64/64 [==============================] - 32s 503ms/step - loss: 5.8980 - acc: 0.0024 - val_loss: 5.9015 - val_acc: 0.0049\n",
            "Epoch 60/100\n",
            "64/64 [==============================] - 33s 507ms/step - loss: 5.8989 - acc: 0.0034 - val_loss: 5.8981 - val_acc: 0.0000e+00\n",
            "Epoch 61/100\n",
            "64/64 [==============================] - 32s 502ms/step - loss: 5.9001 - acc: 0.0024 - val_loss: 5.9006 - val_acc: 9.7656e-04\n",
            "Epoch 62/100\n",
            "64/64 [==============================] - 32s 503ms/step - loss: 5.9006 - acc: 0.0049 - val_loss: 5.9012 - val_acc: 0.0000e+00\n",
            "Epoch 63/100\n",
            "64/64 [==============================] - 33s 507ms/step - loss: 5.9000 - acc: 0.0044 - val_loss: 5.8996 - val_acc: 0.0059\n",
            "Epoch 64/100\n",
            "64/64 [==============================] - 33s 509ms/step - loss: 5.9017 - acc: 0.0015 - val_loss: 5.9016 - val_acc: 0.0020\n",
            "Epoch 65/100\n",
            "64/64 [==============================] - 33s 510ms/step - loss: 5.8960 - acc: 0.0024 - val_loss: 5.9004 - val_acc: 0.0020\n",
            "Epoch 66/100\n",
            "64/64 [==============================] - 32s 500ms/step - loss: 5.8987 - acc: 0.0024 - val_loss: 5.8986 - val_acc: 9.7656e-04\n",
            "Epoch 67/100\n",
            "64/64 [==============================] - 32s 501ms/step - loss: 5.8995 - acc: 0.0020 - val_loss: 5.8994 - val_acc: 0.0029\n",
            "Epoch 68/100\n",
            "64/64 [==============================] - 32s 502ms/step - loss: 5.9025 - acc: 0.0039 - val_loss: 5.8962 - val_acc: 0.0049\n",
            "Epoch 69/100\n",
            "64/64 [==============================] - 32s 502ms/step - loss: 5.8997 - acc: 0.0049 - val_loss: 5.8948 - val_acc: 0.0029\n",
            "Epoch 70/100\n",
            "64/64 [==============================] - 32s 499ms/step - loss: 5.9012 - acc: 0.0034 - val_loss: 5.9002 - val_acc: 0.0049\n",
            "Epoch 71/100\n",
            "64/64 [==============================] - 32s 500ms/step - loss: 5.9032 - acc: 0.0015 - val_loss: 5.9039 - val_acc: 0.0029\n",
            "Epoch 72/100\n",
            "64/64 [==============================] - 32s 500ms/step - loss: 5.9243 - acc: 0.0054 - val_loss: 5.9000 - val_acc: 9.7656e-04\n",
            "Epoch 73/100\n",
            "64/64 [==============================] - 32s 501ms/step - loss: 5.9225 - acc: 0.0039 - val_loss: 5.9012 - val_acc: 0.0039\n",
            "Epoch 74/100\n",
            "64/64 [==============================] - 32s 502ms/step - loss: 5.9059 - acc: 0.0029 - val_loss: 5.8995 - val_acc: 0.0029\n",
            "Epoch 75/100\n",
            "64/64 [==============================] - 32s 501ms/step - loss: 5.8982 - acc: 0.0044 - val_loss: 5.9015 - val_acc: 0.0020\n",
            "Epoch 76/100\n",
            "64/64 [==============================] - 32s 499ms/step - loss: 5.9016 - acc: 0.0034 - val_loss: 5.8989 - val_acc: 0.0039\n",
            "Epoch 77/100\n",
            "64/64 [==============================] - 32s 503ms/step - loss: 5.9028 - acc: 0.0020 - val_loss: 9.1690 - val_acc: 0.0039\n",
            "Epoch 78/100\n",
            "64/64 [==============================] - 32s 505ms/step - loss: 5.8999 - acc: 0.0020 - val_loss: 5.9862 - val_acc: 0.0020\n",
            "Epoch 79/100\n",
            "64/64 [==============================] - 32s 498ms/step - loss: 5.9002 - acc: 0.0024 - val_loss: 5.8999 - val_acc: 0.0068\n",
            "Epoch 80/100\n",
            "64/64 [==============================] - 32s 497ms/step - loss: 5.9007 - acc: 0.0020 - val_loss: 5.8970 - val_acc: 0.0039\n",
            "Epoch 81/100\n",
            "64/64 [==============================] - 32s 494ms/step - loss: 5.8991 - acc: 0.0020 - val_loss: 5.9002 - val_acc: 0.0049\n",
            "Epoch 82/100\n",
            "64/64 [==============================] - 32s 499ms/step - loss: 5.9018 - acc: 9.7656e-04 - val_loss: 5.9001 - val_acc: 0.0039\n",
            "Epoch 83/100\n",
            "64/64 [==============================] - 32s 503ms/step - loss: 5.8990 - acc: 0.0020 - val_loss: 5.8969 - val_acc: 0.0059\n",
            "Epoch 84/100\n",
            "64/64 [==============================] - 32s 501ms/step - loss: 5.9002 - acc: 0.0020 - val_loss: 5.8994 - val_acc: 0.0029\n",
            "Epoch 85/100\n",
            "64/64 [==============================] - 32s 497ms/step - loss: 5.8992 - acc: 0.0015 - val_loss: 5.8995 - val_acc: 0.0020\n",
            "Epoch 86/100\n",
            "64/64 [==============================] - 32s 502ms/step - loss: 5.9022 - acc: 0.0034 - val_loss: 5.8979 - val_acc: 0.0039\n",
            "Epoch 87/100\n",
            "64/64 [==============================] - 32s 499ms/step - loss: 5.9025 - acc: 0.0024 - val_loss: 5.8970 - val_acc: 0.0029\n",
            "Epoch 88/100\n",
            "64/64 [==============================] - 32s 497ms/step - loss: 5.8977 - acc: 0.0044 - val_loss: 5.8984 - val_acc: 0.0029\n",
            "Epoch 89/100\n",
            "64/64 [==============================] - 32s 498ms/step - loss: 5.9023 - acc: 0.0020 - val_loss: 5.9003 - val_acc: 0.0020\n",
            "Epoch 90/100\n",
            "64/64 [==============================] - 32s 496ms/step - loss: 5.8989 - acc: 0.0029 - val_loss: 5.9013 - val_acc: 0.0020\n",
            "Epoch 91/100\n",
            "64/64 [==============================] - 32s 501ms/step - loss: 5.9113 - acc: 0.0024 - val_loss: 5.9032 - val_acc: 0.0020\n",
            "Epoch 92/100\n",
            "64/64 [==============================] - 32s 500ms/step - loss: 5.9033 - acc: 0.0024 - val_loss: 5.9017 - val_acc: 9.7656e-04\n",
            "Epoch 93/100\n",
            "64/64 [==============================] - 32s 502ms/step - loss: 5.8996 - acc: 0.0015 - val_loss: 5.8994 - val_acc: 9.7656e-04\n",
            "Epoch 94/100\n",
            "64/64 [==============================] - 32s 501ms/step - loss: 5.9026 - acc: 4.8828e-04 - val_loss: 5.8977 - val_acc: 0.0029\n",
            "Epoch 95/100\n",
            "64/64 [==============================] - 32s 501ms/step - loss: 5.8986 - acc: 9.7656e-04 - val_loss: 5.8976 - val_acc: 0.0068\n",
            "Epoch 96/100\n",
            "64/64 [==============================] - 32s 498ms/step - loss: 5.9008 - acc: 0.0039 - val_loss: 5.8979 - val_acc: 0.0039\n",
            "Epoch 97/100\n",
            "64/64 [==============================] - 32s 496ms/step - loss: 5.8968 - acc: 0.0034 - val_loss: 5.9021 - val_acc: 0.0029\n",
            "Epoch 98/100\n",
            "64/64 [==============================] - 32s 499ms/step - loss: 5.8999 - acc: 0.0020 - val_loss: 5.9013 - val_acc: 0.0020\n",
            "Epoch 99/100\n",
            "64/64 [==============================] - 32s 495ms/step - loss: 5.9020 - acc: 4.8828e-04 - val_loss: 5.9034 - val_acc: 0.0039\n",
            "Epoch 100/100\n",
            "64/64 [==============================] - 32s 497ms/step - loss: 5.8998 - acc: 9.7656e-04 - val_loss: 5.9000 - val_acc: 0.0029\n"
          ]
        }
      ]
    },
    {
      "cell_type": "code",
      "metadata": {
        "colab": {
          "base_uri": "https://localhost:8080/"
        },
        "id": "FN5lUcyDY46E",
        "outputId": "07af7730-6c02-4c68-852b-1fb803b42810"
      },
      "source": [
        "model2 = tf.keras.models.Sequential([\n",
        "    tf.keras.layers.Conv2D(64, (3,3), activation='relu', input_shape=(256, 256, 3)),\n",
        "    tf.keras.layers.Conv2D(128, (3,3), activation='relu', padding=\"same\"),\n",
        "    tf.keras.layers.BatchNormalization(),\n",
        "    tf.keras.layers.MaxPooling2D(2,2),\n",
        "    tf.keras.layers.Conv2D(128, (3,3), activation='relu', padding=\"same\"),\n",
        "    tf.keras.layers.BatchNormalization(),\n",
        "    tf.keras.layers.MaxPooling2D(2,2),\n",
        "    tf.keras.layers.Conv2D(128, (3,3), activation='relu', padding=\"same\"),\n",
        "    tf.keras.layers.BatchNormalization(),\n",
        "    tf.keras.layers.MaxPooling2D(2,2),\n",
        "    tf.keras.layers.Conv2D(256, (3,3), activation='relu', padding=\"same\"),\n",
        "    tf.keras.layers.BatchNormalization(),\n",
        "    tf.keras.layers.MaxPooling2D(2,2),\n",
        "    tf.keras.layers.Dropout(0.5),\n",
        "    tf.keras.layers.Flatten(),\n",
        "    tf.keras.layers.Dense(256, activation='relu'),\n",
        "    tf.keras.layers.Dense(365, activation='softmax')\n",
        "])\n",
        "\n",
        "model2.summary()"
      ],
      "execution_count": null,
      "outputs": [
        {
          "output_type": "stream",
          "name": "stdout",
          "text": [
            "Model: \"sequential_1\"\n",
            "_________________________________________________________________\n",
            "Layer (type)                 Output Shape              Param #   \n",
            "=================================================================\n",
            "conv2d_5 (Conv2D)            (None, 254, 254, 64)      1792      \n",
            "_________________________________________________________________\n",
            "conv2d_6 (Conv2D)            (None, 254, 254, 128)     73856     \n",
            "_________________________________________________________________\n",
            "batch_normalization_4 (Batch (None, 254, 254, 128)     512       \n",
            "_________________________________________________________________\n",
            "max_pooling2d_4 (MaxPooling2 (None, 127, 127, 128)     0         \n",
            "_________________________________________________________________\n",
            "conv2d_7 (Conv2D)            (None, 127, 127, 128)     147584    \n",
            "_________________________________________________________________\n",
            "batch_normalization_5 (Batch (None, 127, 127, 128)     512       \n",
            "_________________________________________________________________\n",
            "max_pooling2d_5 (MaxPooling2 (None, 63, 63, 128)       0         \n",
            "_________________________________________________________________\n",
            "conv2d_8 (Conv2D)            (None, 63, 63, 128)       147584    \n",
            "_________________________________________________________________\n",
            "batch_normalization_6 (Batch (None, 63, 63, 128)       512       \n",
            "_________________________________________________________________\n",
            "max_pooling2d_6 (MaxPooling2 (None, 31, 31, 128)       0         \n",
            "_________________________________________________________________\n",
            "conv2d_9 (Conv2D)            (None, 31, 31, 256)       295168    \n",
            "_________________________________________________________________\n",
            "batch_normalization_7 (Batch (None, 31, 31, 256)       1024      \n",
            "_________________________________________________________________\n",
            "max_pooling2d_7 (MaxPooling2 (None, 15, 15, 256)       0         \n",
            "_________________________________________________________________\n",
            "dropout_1 (Dropout)          (None, 15, 15, 256)       0         \n",
            "_________________________________________________________________\n",
            "flatten_1 (Flatten)          (None, 57600)             0         \n",
            "_________________________________________________________________\n",
            "dense_2 (Dense)              (None, 256)               14745856  \n",
            "_________________________________________________________________\n",
            "dense_3 (Dense)              (None, 365)               93805     \n",
            "=================================================================\n",
            "Total params: 15,508,205\n",
            "Trainable params: 15,506,925\n",
            "Non-trainable params: 1,280\n",
            "_________________________________________________________________\n"
          ]
        }
      ]
    },
    {
      "cell_type": "code",
      "metadata": {
        "id": "25aZjElzaXSj"
      },
      "source": [
        "model2.compile(loss = 'categorical_crossentropy', \n",
        "              optimizer=tf.keras.optimizers.RMSprop(learning_rate=0.01), \n",
        "              metrics=['acc'])"
      ],
      "execution_count": null,
      "outputs": []
    },
    {
      "cell_type": "code",
      "metadata": {
        "colab": {
          "base_uri": "https://localhost:8080/"
        },
        "id": "fzKEfQZs2Jhj",
        "outputId": "d0a3d2a6-575c-435c-c6fe-5c4d4b40b019"
      },
      "source": [
        "config = tf.compat.v1.ConfigProto()\n",
        "config.gpu_options.allow_growth = True\n",
        "tf.compat.v1.Session(config = config)"
      ],
      "execution_count": null,
      "outputs": [
        {
          "output_type": "execute_result",
          "data": {
            "text/plain": [
              "<tensorflow.python.client.session.Session at 0x7f160a7fc490>"
            ]
          },
          "metadata": {},
          "execution_count": 40
        }
      ]
    },
    {
      "cell_type": "code",
      "metadata": {
        "colab": {
          "base_uri": "https://localhost:8080/"
        },
        "id": "jNebg5yNZ2FT",
        "outputId": "c1b4587b-a20a-44a2-df17-d0bb8b334b4d"
      },
      "source": [
        "history2 = model2.fit(train_generator, \n",
        "                    epochs=100, \n",
        "                    steps_per_epoch=64,\n",
        "                    validation_data = validation_generator, \n",
        "                    verbose = 1, \n",
        "                    validation_steps=32)"
      ],
      "execution_count": null,
      "outputs": [
        {
          "output_type": "stream",
          "name": "stdout",
          "text": [
            "Epoch 1/100\n",
            "64/64 [==============================] - 34s 507ms/step - loss: 45.8133 - acc: 0.0029 - val_loss: 5.9389 - val_acc: 0.0039\n",
            "Epoch 2/100\n",
            "64/64 [==============================] - 32s 504ms/step - loss: 6.8380 - acc: 0.0034 - val_loss: 5.9616 - val_acc: 0.0029\n",
            "Epoch 3/100\n",
            "64/64 [==============================] - 32s 502ms/step - loss: 5.9129 - acc: 0.0054 - val_loss: 6.1926 - val_acc: 0.0029\n",
            "Epoch 4/100\n",
            "64/64 [==============================] - 32s 504ms/step - loss: 5.9133 - acc: 0.0020 - val_loss: 5.9128 - val_acc: 0.0020\n",
            "Epoch 5/100\n",
            "64/64 [==============================] - 32s 503ms/step - loss: 5.9147 - acc: 0.0015 - val_loss: 5.9135 - val_acc: 0.0020\n",
            "Epoch 6/100\n",
            "64/64 [==============================] - 32s 495ms/step - loss: 6.2710 - acc: 0.0034 - val_loss: 48.6008 - val_acc: 0.0020\n",
            "Epoch 7/100\n",
            "64/64 [==============================] - 32s 500ms/step - loss: 5.9175 - acc: 0.0020 - val_loss: 6.1752 - val_acc: 0.0039\n",
            "Epoch 8/100\n",
            "64/64 [==============================] - 32s 497ms/step - loss: 5.9089 - acc: 0.0044 - val_loss: 5.9133 - val_acc: 0.0039\n",
            "Epoch 9/100\n",
            "64/64 [==============================] - 32s 500ms/step - loss: 5.9129 - acc: 0.0039 - val_loss: 5.9211 - val_acc: 0.0029\n",
            "Epoch 10/100\n",
            "64/64 [==============================] - 32s 498ms/step - loss: 5.9156 - acc: 9.7656e-04 - val_loss: 5.9142 - val_acc: 0.0039\n",
            "Epoch 11/100\n",
            "64/64 [==============================] - 32s 494ms/step - loss: 5.9179 - acc: 0.0029 - val_loss: 5.9175 - val_acc: 0.0039\n",
            "Epoch 12/100\n",
            "64/64 [==============================] - 32s 498ms/step - loss: 5.9198 - acc: 9.7656e-04 - val_loss: 5.9245 - val_acc: 0.0029\n",
            "Epoch 13/100\n",
            "64/64 [==============================] - 32s 497ms/step - loss: 5.9174 - acc: 0.0039 - val_loss: 5.9073 - val_acc: 0.0059\n",
            "Epoch 14/100\n",
            "64/64 [==============================] - 32s 497ms/step - loss: 5.9138 - acc: 0.0000e+00 - val_loss: 5.9212 - val_acc: 0.0029\n",
            "Epoch 15/100\n",
            "64/64 [==============================] - 32s 497ms/step - loss: 5.9170 - acc: 9.7656e-04 - val_loss: 5.9150 - val_acc: 0.0039\n",
            "Epoch 16/100\n",
            "64/64 [==============================] - 32s 494ms/step - loss: 5.9172 - acc: 0.0024 - val_loss: 5.9276 - val_acc: 0.0020\n",
            "Epoch 17/100\n",
            "64/64 [==============================] - 32s 498ms/step - loss: 5.9157 - acc: 0.0034 - val_loss: 5.9256 - val_acc: 0.0020\n",
            "Epoch 18/100\n",
            "64/64 [==============================] - 32s 495ms/step - loss: 5.9162 - acc: 0.0024 - val_loss: 5.9073 - val_acc: 0.0039\n",
            "Epoch 19/100\n",
            "64/64 [==============================] - 32s 496ms/step - loss: 5.9106 - acc: 0.0049 - val_loss: 5.9186 - val_acc: 0.0039\n",
            "Epoch 20/100\n",
            "64/64 [==============================] - 32s 501ms/step - loss: 5.9137 - acc: 9.7656e-04 - val_loss: 5.9216 - val_acc: 0.0039\n",
            "Epoch 21/100\n",
            "64/64 [==============================] - 32s 497ms/step - loss: 5.9265 - acc: 0.0024 - val_loss: 5.9076 - val_acc: 0.0029\n",
            "Epoch 22/100\n",
            "64/64 [==============================] - 32s 503ms/step - loss: 5.9290 - acc: 0.0024 - val_loss: 5.9026 - val_acc: 0.0020\n",
            "Epoch 23/100\n",
            "64/64 [==============================] - 32s 499ms/step - loss: 5.9175 - acc: 0.0015 - val_loss: 5.9271 - val_acc: 0.0020\n",
            "Epoch 24/100\n",
            "64/64 [==============================] - 32s 496ms/step - loss: 5.9088 - acc: 0.0024 - val_loss: 5.9112 - val_acc: 0.0039\n",
            "Epoch 25/100\n",
            "64/64 [==============================] - 32s 502ms/step - loss: 5.9123 - acc: 0.0034 - val_loss: 5.9149 - val_acc: 0.0029\n",
            "Epoch 26/100\n",
            "64/64 [==============================] - 32s 497ms/step - loss: 5.9154 - acc: 0.0024 - val_loss: 5.9146 - val_acc: 0.0029\n",
            "Epoch 27/100\n",
            "64/64 [==============================] - 32s 500ms/step - loss: 5.9179 - acc: 9.7656e-04 - val_loss: 5.9134 - val_acc: 9.7656e-04\n",
            "Epoch 28/100\n",
            "64/64 [==============================] - 32s 501ms/step - loss: 5.9140 - acc: 0.0034 - val_loss: 5.9199 - val_acc: 0.0029\n",
            "Epoch 29/100\n",
            "64/64 [==============================] - 32s 498ms/step - loss: 5.9187 - acc: 0.0024 - val_loss: 5.9201 - val_acc: 0.0039\n",
            "Epoch 30/100\n",
            "64/64 [==============================] - 32s 503ms/step - loss: 5.9189 - acc: 0.0054 - val_loss: 5.9271 - val_acc: 0.0020\n",
            "Epoch 31/100\n",
            "64/64 [==============================] - 32s 496ms/step - loss: 5.9251 - acc: 0.0029 - val_loss: 5.9105 - val_acc: 0.0020\n",
            "Epoch 32/100\n",
            "64/64 [==============================] - 32s 500ms/step - loss: 5.9177 - acc: 0.0024 - val_loss: 5.9230 - val_acc: 0.0020\n",
            "Epoch 33/100\n",
            "64/64 [==============================] - 32s 494ms/step - loss: 5.9132 - acc: 0.0024 - val_loss: 5.9116 - val_acc: 9.7656e-04\n",
            "Epoch 34/100\n",
            "64/64 [==============================] - 32s 498ms/step - loss: 5.9084 - acc: 0.0054 - val_loss: 5.9155 - val_acc: 9.7656e-04\n",
            "Epoch 35/100\n",
            "64/64 [==============================] - 32s 499ms/step - loss: 5.9208 - acc: 0.0039 - val_loss: 5.9157 - val_acc: 0.0049\n",
            "Epoch 36/100\n",
            "64/64 [==============================] - 32s 496ms/step - loss: 5.9157 - acc: 0.0034 - val_loss: 5.9210 - val_acc: 0.0029\n",
            "Epoch 37/100\n",
            "64/64 [==============================] - 32s 497ms/step - loss: 5.9155 - acc: 0.0020 - val_loss: 5.9185 - val_acc: 0.0029\n",
            "Epoch 38/100\n",
            "64/64 [==============================] - 32s 494ms/step - loss: 5.9163 - acc: 0.0020 - val_loss: 5.9223 - val_acc: 0.0000e+00\n",
            "Epoch 39/100\n",
            "64/64 [==============================] - 32s 495ms/step - loss: 5.9189 - acc: 0.0029 - val_loss: 5.9142 - val_acc: 0.0020\n",
            "Epoch 40/100\n",
            "64/64 [==============================] - 32s 496ms/step - loss: 5.9172 - acc: 0.0024 - val_loss: 5.9302 - val_acc: 0.0029\n",
            "Epoch 41/100\n",
            "64/64 [==============================] - 32s 496ms/step - loss: 5.9142 - acc: 0.0020 - val_loss: 5.9223 - val_acc: 9.7656e-04\n",
            "Epoch 42/100\n",
            "64/64 [==============================] - 32s 502ms/step - loss: 5.9185 - acc: 0.0039 - val_loss: 5.9080 - val_acc: 0.0020\n",
            "Epoch 43/100\n",
            "64/64 [==============================] - 32s 498ms/step - loss: 5.9308 - acc: 0.0034 - val_loss: 5.9094 - val_acc: 0.0039\n",
            "Epoch 44/100\n",
            "64/64 [==============================] - 32s 498ms/step - loss: 5.9126 - acc: 0.0015 - val_loss: 5.9137 - val_acc: 0.0029\n",
            "Epoch 45/100\n",
            "64/64 [==============================] - 32s 499ms/step - loss: 5.9205 - acc: 0.0029 - val_loss: 5.9103 - val_acc: 9.7656e-04\n",
            "Epoch 46/100\n",
            "64/64 [==============================] - 32s 498ms/step - loss: 5.9164 - acc: 0.0020 - val_loss: 5.9141 - val_acc: 0.0020\n",
            "Epoch 47/100\n",
            "64/64 [==============================] - 32s 497ms/step - loss: 5.9120 - acc: 0.0044 - val_loss: 5.9117 - val_acc: 0.0020\n",
            "Epoch 48/100\n",
            "64/64 [==============================] - 32s 496ms/step - loss: 5.9261 - acc: 0.0020 - val_loss: 5.9109 - val_acc: 0.0029\n",
            "Epoch 49/100\n",
            "64/64 [==============================] - 32s 495ms/step - loss: 5.9146 - acc: 0.0015 - val_loss: 5.9132 - val_acc: 0.0020\n",
            "Epoch 50/100\n",
            "64/64 [==============================] - 32s 499ms/step - loss: 5.9113 - acc: 0.0015 - val_loss: 5.9142 - val_acc: 0.0029\n",
            "Epoch 51/100\n",
            "64/64 [==============================] - 32s 500ms/step - loss: 5.9161 - acc: 0.0024 - val_loss: 5.9182 - val_acc: 0.0039\n",
            "Epoch 52/100\n",
            "64/64 [==============================] - 32s 498ms/step - loss: 5.9127 - acc: 0.0039 - val_loss: 5.9122 - val_acc: 0.0039\n",
            "Epoch 53/100\n",
            "64/64 [==============================] - 32s 495ms/step - loss: 5.9162 - acc: 0.0024 - val_loss: 5.9126 - val_acc: 9.7656e-04\n",
            "Epoch 54/100\n",
            "64/64 [==============================] - 32s 497ms/step - loss: 5.9212 - acc: 0.0015 - val_loss: 5.9148 - val_acc: 9.7656e-04\n",
            "Epoch 55/100\n",
            "64/64 [==============================] - 32s 492ms/step - loss: 5.9143 - acc: 0.0020 - val_loss: 5.9103 - val_acc: 0.0059\n",
            "Epoch 56/100\n",
            "64/64 [==============================] - 32s 499ms/step - loss: 5.9144 - acc: 0.0024 - val_loss: 5.9225 - val_acc: 0.0039\n",
            "Epoch 57/100\n",
            "64/64 [==============================] - 32s 498ms/step - loss: 5.9178 - acc: 0.0024 - val_loss: 5.9284 - val_acc: 0.0039\n",
            "Epoch 58/100\n",
            "64/64 [==============================] - 32s 494ms/step - loss: 5.9141 - acc: 0.0039 - val_loss: 5.9180 - val_acc: 0.0068\n",
            "Epoch 59/100\n",
            "64/64 [==============================] - 32s 500ms/step - loss: 5.9235 - acc: 0.0020 - val_loss: 5.9084 - val_acc: 9.7656e-04\n",
            "Epoch 60/100\n",
            "64/64 [==============================] - 32s 497ms/step - loss: 5.9140 - acc: 0.0034 - val_loss: 5.9038 - val_acc: 0.0020\n",
            "Epoch 61/100\n",
            "64/64 [==============================] - 32s 498ms/step - loss: 5.9163 - acc: 0.0034 - val_loss: 5.9149 - val_acc: 0.0039\n",
            "Epoch 62/100\n",
            "64/64 [==============================] - 32s 497ms/step - loss: 5.9197 - acc: 0.0020 - val_loss: 5.9131 - val_acc: 0.0039\n",
            "Epoch 63/100\n",
            "64/64 [==============================] - 32s 495ms/step - loss: 5.9104 - acc: 0.0015 - val_loss: 5.9227 - val_acc: 0.0000e+00\n",
            "Epoch 64/100\n",
            "64/64 [==============================] - 32s 495ms/step - loss: 5.9171 - acc: 0.0020 - val_loss: 5.9238 - val_acc: 0.0020\n",
            "Epoch 65/100\n",
            "64/64 [==============================] - 32s 496ms/step - loss: 5.9145 - acc: 0.0039 - val_loss: 5.9191 - val_acc: 0.0029\n",
            "Epoch 66/100\n",
            "64/64 [==============================] - 32s 496ms/step - loss: 5.9144 - acc: 0.0034 - val_loss: 5.9212 - val_acc: 0.0029\n",
            "Epoch 67/100\n",
            "64/64 [==============================] - 32s 495ms/step - loss: 5.9179 - acc: 0.0029 - val_loss: 5.9237 - val_acc: 0.0029\n",
            "Epoch 68/100\n",
            "64/64 [==============================] - 32s 495ms/step - loss: 5.9124 - acc: 0.0063 - val_loss: 5.9131 - val_acc: 0.0020\n",
            "Epoch 69/100\n",
            "64/64 [==============================] - 32s 495ms/step - loss: 5.9161 - acc: 0.0015 - val_loss: 5.9065 - val_acc: 0.0039\n",
            "Epoch 70/100\n",
            "64/64 [==============================] - 34s 536ms/step - loss: 5.9160 - acc: 0.0024 - val_loss: 5.9154 - val_acc: 9.7656e-04\n",
            "Epoch 71/100\n",
            "64/64 [==============================] - 32s 496ms/step - loss: 5.9085 - acc: 0.0015 - val_loss: 5.9246 - val_acc: 0.0039\n",
            "Epoch 72/100\n",
            "64/64 [==============================] - 32s 498ms/step - loss: 5.9193 - acc: 0.0034 - val_loss: 5.9198 - val_acc: 9.7656e-04\n",
            "Epoch 73/100\n",
            "64/64 [==============================] - 32s 495ms/step - loss: 5.9233 - acc: 9.7656e-04 - val_loss: 5.9185 - val_acc: 0.0059\n",
            "Epoch 74/100\n",
            "64/64 [==============================] - 32s 493ms/step - loss: 5.9223 - acc: 0.0029 - val_loss: 5.9212 - val_acc: 0.0049\n",
            "Epoch 75/100\n",
            "64/64 [==============================] - 32s 496ms/step - loss: 5.9182 - acc: 0.0044 - val_loss: 5.9085 - val_acc: 0.0029\n",
            "Epoch 76/100\n",
            "64/64 [==============================] - 32s 493ms/step - loss: 5.9127 - acc: 0.0039 - val_loss: 5.9073 - val_acc: 0.0059\n",
            "Epoch 77/100\n",
            "64/64 [==============================] - 32s 495ms/step - loss: 5.9084 - acc: 0.0039 - val_loss: 5.9158 - val_acc: 0.0000e+00\n",
            "Epoch 78/100\n",
            "64/64 [==============================] - 32s 492ms/step - loss: 5.9194 - acc: 0.0015 - val_loss: 5.9155 - val_acc: 9.7656e-04\n",
            "Epoch 79/100\n",
            "64/64 [==============================] - 32s 497ms/step - loss: 5.9200 - acc: 0.0039 - val_loss: 5.9152 - val_acc: 0.0059\n",
            "Epoch 80/100\n",
            "64/64 [==============================] - 32s 499ms/step - loss: 5.9159 - acc: 0.0039 - val_loss: 5.9249 - val_acc: 0.0029\n",
            "Epoch 81/100\n",
            "64/64 [==============================] - 32s 495ms/step - loss: 5.9168 - acc: 0.0020 - val_loss: 5.9169 - val_acc: 0.0020\n",
            "Epoch 82/100\n",
            "64/64 [==============================] - 32s 496ms/step - loss: 5.9204 - acc: 0.0024 - val_loss: 5.9129 - val_acc: 9.7656e-04\n",
            "Epoch 83/100\n",
            "64/64 [==============================] - 32s 493ms/step - loss: 5.9187 - acc: 0.0034 - val_loss: 5.9085 - val_acc: 0.0020\n",
            "Epoch 84/100\n",
            "64/64 [==============================] - 32s 491ms/step - loss: 5.9132 - acc: 0.0029 - val_loss: 5.9179 - val_acc: 0.0039\n",
            "Epoch 85/100\n",
            "64/64 [==============================] - 32s 494ms/step - loss: 5.9141 - acc: 0.0029 - val_loss: 5.9201 - val_acc: 0.0020\n",
            "Epoch 86/100\n",
            "64/64 [==============================] - 32s 494ms/step - loss: 5.9182 - acc: 0.0044 - val_loss: 5.9144 - val_acc: 0.0029\n",
            "Epoch 87/100\n",
            "64/64 [==============================] - 32s 496ms/step - loss: 5.9119 - acc: 0.0029 - val_loss: 5.9131 - val_acc: 9.7656e-04\n",
            "Epoch 88/100\n",
            "64/64 [==============================] - 32s 495ms/step - loss: 5.9174 - acc: 0.0054 - val_loss: 5.9192 - val_acc: 0.0020\n",
            "Epoch 89/100\n",
            "64/64 [==============================] - 33s 508ms/step - loss: 5.9165 - acc: 0.0020 - val_loss: 5.9107 - val_acc: 0.0049\n",
            "Epoch 90/100\n",
            "64/64 [==============================] - 32s 502ms/step - loss: 5.9151 - acc: 0.0039 - val_loss: 5.9182 - val_acc: 0.0029\n",
            "Epoch 91/100\n",
            "64/64 [==============================] - 32s 496ms/step - loss: 5.9145 - acc: 0.0024 - val_loss: 5.9142 - val_acc: 0.0029\n",
            "Epoch 92/100\n",
            "64/64 [==============================] - 32s 496ms/step - loss: 5.9166 - acc: 0.0024 - val_loss: 5.9222 - val_acc: 9.7656e-04\n",
            "Epoch 93/100\n",
            "64/64 [==============================] - 32s 493ms/step - loss: 5.9129 - acc: 9.7656e-04 - val_loss: 5.9283 - val_acc: 0.0039\n",
            "Epoch 94/100\n",
            "64/64 [==============================] - 32s 492ms/step - loss: 5.9191 - acc: 9.7656e-04 - val_loss: 5.9235 - val_acc: 9.7656e-04\n",
            "Epoch 95/100\n",
            "64/64 [==============================] - 32s 494ms/step - loss: 5.9146 - acc: 0.0044 - val_loss: 5.9229 - val_acc: 0.0020\n",
            "Epoch 96/100\n",
            "64/64 [==============================] - 32s 491ms/step - loss: 5.9192 - acc: 0.0029 - val_loss: 5.9192 - val_acc: 0.0039\n",
            "Epoch 97/100\n",
            "64/64 [==============================] - 34s 529ms/step - loss: 5.9179 - acc: 0.0015 - val_loss: 5.9127 - val_acc: 0.0029\n",
            "Epoch 98/100\n",
            "64/64 [==============================] - 32s 497ms/step - loss: 5.9280 - acc: 0.0024 - val_loss: 5.9163 - val_acc: 0.0020\n",
            "Epoch 99/100\n",
            "64/64 [==============================] - 32s 497ms/step - loss: 5.9150 - acc: 0.0034 - val_loss: 5.9059 - val_acc: 0.0020\n",
            "Epoch 100/100\n",
            "64/64 [==============================] - 32s 495ms/step - loss: 5.9176 - acc: 0.0029 - val_loss: 5.9165 - val_acc: 0.0020\n"
          ]
        }
      ]
    },
    {
      "cell_type": "code",
      "metadata": {
        "colab": {
          "base_uri": "https://localhost:8080/",
          "height": 413
        },
        "id": "NEKB0OuZetFa",
        "outputId": "6f8d5cfd-2e19-4ff0-9a0d-4a4fd3c7d55b"
      },
      "source": [
        "%matplotlib inline\n",
        "\n",
        "import matplotlib.pyplot as plt\n",
        "import numpy as np\n",
        "\n",
        "plt.style.use(\"ggplot\")\n",
        "fig, axes = plt.subplots(nrows=1, ncols=2, figsize=(15, 7))\n",
        "axes[0].plot(np.arange(0, 100), history.history[\"acc\"], label=\"train_acc_model1\")\n",
        "axes[0].plot(np.arange(0, 100), history.history[\"val_acc\"], label=\"val_acc_model1\")\n",
        "axes[0].plot(np.arange(0, 100), history2.history[\"acc\"], label=\"train_acc_model2\")\n",
        "axes[0].plot(np.arange(0, 100), history2.history[\"val_acc\"], label=\"val_acc_model2\")\n",
        "axes[0].legend()\n",
        "axes[1].plot(np.arange(0, 100), history.history[\"loss\"], label=\"train_loss_model1\")\n",
        "axes[1].plot(np.arange(0, 100), history.history[\"val_loss\"], label=\"val_loss_model1\")\n",
        "axes[1].plot(np.arange(0, 100), history2.history[\"loss\"], label=\"train_loss_model2\")\n",
        "axes[1].plot(np.arange(0, 100), history2.history[\"val_loss\"], label=\"val_loss_model2\")\n",
        "axes[1].legend()\n",
        "plt.setp(axes[0],title='Acc Result Plot', xlabel=\"Epoch #\", ylabel=\"Acc\")\n",
        "plt.setp(axes[1],title='Loss Result Plot', xlabel=\"Epoch #\", ylabel=\"Loss\")\n",
        "fig.tight_layout()"
      ],
      "execution_count": null,
      "outputs": [
        {
          "output_type": "display_data",
          "data": {
            "image/png": "[encoded data removed]",
            "text/plain": [
              "<Figure size 1080x504 with 2 Axes>"
            ]
          },
          "metadata": {}
        }
      ]
    },
    {
      "cell_type": "code",
      "metadata": {
        "id": "bS2Ci6drfFl_"
      },
      "source": [
        "model.save('/content/drive/MyDrive/Model/model1placesmod.h5')\n",
        "model2.save('/content/drive/MyDrive/Model/model2places.h5')"
      ],
      "execution_count": null,
      "outputs": []
    }
  ]
}