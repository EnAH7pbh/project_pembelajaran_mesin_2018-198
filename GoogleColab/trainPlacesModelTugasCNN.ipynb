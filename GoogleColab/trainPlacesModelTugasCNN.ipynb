{
  "nbformat": 4,
  "nbformat_minor": 0,
  "metadata": {
    "colab": {
      "name": "trainPlacesModelTugasCNN.ipynb",
      "provenance": [],
      "machine_shape": "hm",
      "mount_file_id": "1UdJipcsuDOyca6bGK5Yq_WBU2jEbJKkJ",
      "authorship_tag": "ABX9TyMA4Gt/aOLNzHDngv5iT+S8",
      "include_colab_link": true
    },
    "kernelspec": {
      "name": "python3",
      "display_name": "Python 3"
    },
    "language_info": {
      "name": "python"
    },
    "accelerator": "GPU"
  },
  "cells": [
    {
      "cell_type": "markdown",
      "metadata": {
        "id": "view-in-github",
        "colab_type": "text"
      },
      "source": [
        "<a href=\"https://colab.research.google.com/github/ahmadcah/project_pembelajaran_mesin_2018-198/blob/main/GoogleColab/trainPlacesModelTugasCNN.ipynb\" target=\"_parent\"><img src=\"https://colab.research.google.com/assets/colab-badge.svg\" alt=\"Open In Colab\"/></a>"
      ]
    },
    {
      "cell_type": "code",
      "metadata": {
        "id": "FWzv0Bkd12Ac"
      },
      "source": [
        "!rm -rf /content/p365s"
      ],
      "execution_count": null,
      "outputs": []
    },
    {
      "cell_type": "code",
      "metadata": {
        "id": "UOs5GZ65o1wK"
      },
      "source": [
        "!rm -rf /content/places365_standard"
      ],
      "execution_count": null,
      "outputs": []
    },
    {
      "cell_type": "code",
      "metadata": {
        "id": "y7FbRPwpntxz"
      },
      "source": [
        "from numba import cuda \n",
        "device = cuda.get_current_device()\n",
        "device.reset()"
      ],
      "execution_count": null,
      "outputs": []
    },
    {
      "cell_type": "code",
      "metadata": {
        "id": "nCTlnm1CM6yX"
      },
      "source": [
        "import tarfile\n",
        "\n",
        "tar = tarfile.open(\"/content/drive/MyDrive/Data/places365standard_easyformat.tar\", \"r:\")\n",
        "tar.extractall(path='/content')\n",
        "tar.close()"
      ],
      "execution_count": 1,
      "outputs": []
    },
    {
      "cell_type": "code",
      "metadata": {
        "id": "AgNPcB4Mt6V4"
      },
      "source": [
        "import os\n",
        "\n",
        "def count_file(target):\n",
        "  totalImageFile = 0\n",
        "  for f in os.listdir(target):\n",
        "    for i in os.listdir(target+\"/\"+f):\n",
        "      totalImageFile +=1\n",
        "  print(totalImageFile)"
      ],
      "execution_count": 2,
      "outputs": []
    },
    {
      "cell_type": "code",
      "metadata": {
        "colab": {
          "base_uri": "https://localhost:8080/"
        },
        "id": "jFJcZb7OppX0",
        "outputId": "6a85db5e-0f0c-4f25-c5ed-6b0e61560f5c"
      },
      "source": [
        "count_file(\"/content/places365_standard/train\")\n",
        "count_file(\"/content/places365_standard/val\")"
      ],
      "execution_count": 3,
      "outputs": [
        {
          "output_type": "stream",
          "name": "stdout",
          "text": [
            "1803460\n",
            "36500\n"
          ]
        }
      ]
    },
    {
      "cell_type": "code",
      "metadata": {
        "colab": {
          "base_uri": "https://localhost:8080/"
        },
        "id": "gHzkvZFLxJsI",
        "outputId": "70b7d5ba-0f0a-4c63-8d18-c0f03977bc2b"
      },
      "source": [
        "print(1803460+36500)"
      ],
      "execution_count": null,
      "outputs": [
        {
          "output_type": "stream",
          "name": "stdout",
          "text": [
            "1839960\n"
          ]
        }
      ]
    },
    {
      "cell_type": "code",
      "metadata": {
        "colab": {
          "base_uri": "https://localhost:8080/"
        },
        "id": "xB09D_kfoOk9",
        "outputId": "e0f02d6e-fc06-42d6-a17d-f15b179446db"
      },
      "source": [
        "total = 1839960\n",
        "train = int(total*0.80)\n",
        "valid = int(total*0.19)\n",
        "test = int(total*0.01)\n",
        "print(\"total: \",total,\"train: \",train,\"valid: \",valid,\"test: \",test)"
      ],
      "execution_count": null,
      "outputs": [
        {
          "output_type": "stream",
          "name": "stdout",
          "text": [
            "total:  1839960 train:  1471968 valid:  349592 test:  18399\n"
          ]
        }
      ]
    },
    {
      "cell_type": "code",
      "metadata": {
        "id": "8VQUgjtNukKT"
      },
      "source": [
        "import shutil\n",
        "valF = \"/content/places365_standard/val\"\n",
        "for f in os.listdir(valF):\n",
        "  t = valF+\"/\"+f\n",
        "  for i in os.listdir(t):\n",
        "    original = t+\"/\"+i\n",
        "    target = '/content/places365_standard/train/'+f+\"/\"+i\n",
        "    shutil.move(original,target)"
      ],
      "execution_count": 4,
      "outputs": []
    },
    {
      "cell_type": "code",
      "metadata": {
        "colab": {
          "base_uri": "https://localhost:8080/"
        },
        "id": "4GcK88sawy6j",
        "outputId": "ecce808d-3910-4ef5-b6f9-8a695a41d791"
      },
      "source": [
        "count_file(\"/content/places365_standard/train\")\n",
        "count_file(\"/content/places365_standard/val\")"
      ],
      "execution_count": null,
      "outputs": [
        {
          "output_type": "stream",
          "name": "stdout",
          "text": [
            "1839960\n",
            "0\n"
          ]
        }
      ]
    },
    {
      "cell_type": "code",
      "metadata": {
        "id": "0GJnqlBHxar9"
      },
      "source": [
        "root = \"/content/p365s\"\n",
        "train_dir = \"/content/p365s/train\"\n",
        "valid_dir = \"/content/p365s/valid\"\n",
        "testi_dir = \"/content/p365s/testing\" \n",
        "os.mkdir(root)\n",
        "os.mkdir(train_dir)\n",
        "os.mkdir(valid_dir)\n",
        "os.mkdir(testi_dir)\n",
        "for i in os.listdir(\"/content/places365_standard/train\"):\n",
        "  os.mkdir(train_dir+\"/\"+i)\n",
        "  os.mkdir(valid_dir+\"/\"+i)\n",
        "  os.mkdir(testi_dir+\"/\"+i)"
      ],
      "execution_count": 5,
      "outputs": []
    },
    {
      "cell_type": "code",
      "metadata": {
        "colab": {
          "base_uri": "https://localhost:8080/"
        },
        "id": "yqWPL2RKytoA",
        "outputId": "82ad4624-f5bb-4e51-84de-32222b1cfcb4"
      },
      "source": [
        "print(len(os.listdir(train_dir)))\n",
        "print(len(os.listdir(valid_dir)))\n",
        "print(len(os.listdir(testi_dir)))"
      ],
      "execution_count": null,
      "outputs": [
        {
          "output_type": "stream",
          "name": "stdout",
          "text": [
            "365\n",
            "365\n",
            "365\n"
          ]
        }
      ]
    },
    {
      "cell_type": "code",
      "metadata": {
        "id": "_eO5Ww0_pEQ4"
      },
      "source": [
        "import random\n",
        "\n",
        "def split_data(SOURCE, TRAINING, VALIDATION, TESTING, VAL_SIZE, TEST_SIZE):\n",
        "    l = len(os.listdir(SOURCE))\n",
        "    VAL_limit = int(l * VAL_SIZE)\n",
        "    TEST_limit = int(l * TEST_SIZE)\n",
        "    for i, f in enumerate(random.sample(os.listdir(SOURCE), l)):\n",
        "        if os.path.getsize(SOURCE + \"/\" + f) > 0:\n",
        "            if i < TEST_limit:\n",
        "                shutil.move(SOURCE + \"/\" + f, TESTING + \"/\" + f)\n",
        "            elif i >= TEST_limit and i < VAL_limit+TEST_limit:\n",
        "                shutil.move(SOURCE + \"/\" + f, VALIDATION + \"/\" + f)\n",
        "            else:\n",
        "              shutil.move(SOURCE + \"/\" + f, TRAINING + \"/\" + f)\n",
        "        else:\n",
        "            print(f + \" is zero length, so ignoring\")"
      ],
      "execution_count": 6,
      "outputs": []
    },
    {
      "cell_type": "code",
      "metadata": {
        "id": "89x428NEzh9C"
      },
      "source": [
        "roots = \"/content/places365_standard/train\"\n",
        "for f in os.listdir(roots):\n",
        "  SOURCE = roots+\"/\"+f\n",
        "  TRAINING = train_dir+\"/\"+f\n",
        "  VALIDATION = valid_dir+\"/\"+f\n",
        "  TESTING = testi_dir+\"/\"+f\n",
        "  VAL_SIZE = 0.19\n",
        "  TEST_SIZE = 0.01\n",
        "  split_data(SOURCE, TRAINING, VALIDATION, TESTING, VAL_SIZE, TEST_SIZE)"
      ],
      "execution_count": 7,
      "outputs": []
    },
    {
      "cell_type": "code",
      "metadata": {
        "colab": {
          "base_uri": "https://localhost:8080/"
        },
        "id": "vy3IrrKM7hR-",
        "outputId": "b77a9f8d-61d2-4b91-d5c9-2faf6925bf6e"
      },
      "source": [
        "count_file(\"/content/places365_standard/train\")\n",
        "count_file(\"/content/places365_standard/val\")"
      ],
      "execution_count": 8,
      "outputs": [
        {
          "output_type": "stream",
          "name": "stdout",
          "text": [
            "0\n",
            "0\n"
          ]
        }
      ]
    },
    {
      "cell_type": "code",
      "metadata": {
        "colab": {
          "base_uri": "https://localhost:8080/"
        },
        "id": "ja2_PlAeNrO3",
        "outputId": "7bb3da2d-63ee-445d-ed4b-944ea02d160b"
      },
      "source": [
        "import tensorflow as tf\n",
        "\n",
        "bs = 64\n",
        "\n",
        "training_datagen = tf.keras.preprocessing.image.ImageDataGenerator(\n",
        "      rescale = 1./255,\n",
        "\t    rotation_range=40,\n",
        "      width_shift_range=0.2,\n",
        "      height_shift_range=0.2,\n",
        "      shear_range=0.2,\n",
        "      zoom_range=0.2,\n",
        "      horizontal_flip=True,\n",
        "      fill_mode='nearest')\n",
        "\n",
        "train_generator = training_datagen.flow_from_directory(\n",
        "\ttrain_dir,\n",
        "\ttarget_size=(256,256),\n",
        "\tclass_mode='categorical',\n",
        "  batch_size=bs)\n",
        "\n",
        "validation_datagen = tf.keras.preprocessing.image.ImageDataGenerator(rescale = 1./255)\n",
        "\n",
        "validation_generator = validation_datagen.flow_from_directory(\n",
        "\tvalid_dir,\n",
        "\ttarget_size=(256,256),\n",
        "\tclass_mode='categorical',\n",
        "  batch_size=bs)\n",
        "\n",
        "testing_datagen = tf.keras.preprocessing.image.ImageDataGenerator(rescale = 1./255)\n",
        "\n",
        "testing_generator = validation_datagen.flow_from_directory(\n",
        "\ttesti_dir,\n",
        "\ttarget_size=(256,256),\n",
        "\tclass_mode='categorical',\n",
        "  batch_size=bs)"
      ],
      "execution_count": 16,
      "outputs": [
        {
          "output_type": "stream",
          "name": "stdout",
          "text": [
            "Found 1471994 images belonging to 365 classes.\n",
            "Found 349578 images belonging to 365 classes.\n",
            "Found 18388 images belonging to 365 classes.\n"
          ]
        }
      ]
    },
    {
      "cell_type": "code",
      "metadata": {
        "colab": {
          "base_uri": "https://localhost:8080/"
        },
        "id": "xN28gmPW7j5b",
        "outputId": "cc5096eb-1305-4b5e-cf62-8d866fc5635d"
      },
      "source": [
        "ltc = len(train_generator.classes) \n",
        "lvc = len(validation_generator.classes)\n",
        "ltsc = len(testing_generator.classes) \n",
        "totalgen = ltc + lvc + ltsc\n",
        "print(\"gen total: \",totalgen)\n",
        "print(\"train: \",ltc/totalgen*100,\"%\")\n",
        "print(\"valid: \",lvc/totalgen*100,\"%\")\n",
        "print(\"testi: \",ltsc/totalgen*100,\"%\")"
      ],
      "execution_count": 17,
      "outputs": [
        {
          "output_type": "stream",
          "name": "stdout",
          "text": [
            "gen total:  1839960\n",
            "train:  80.00141307419727 %\n",
            "valid:  18.999217374290744 %\n",
            "testi:  0.9993695515119894 %\n"
          ]
        }
      ]
    },
    {
      "cell_type": "code",
      "metadata": {
        "colab": {
          "base_uri": "https://localhost:8080/"
        },
        "id": "k0gfX44_7GUH",
        "outputId": "8e542f23-0d79-463b-a343-5b6d7ccd303e"
      },
      "source": [
        "total = 1839960\n",
        "train = int(total*0.80)\n",
        "valid = int(total*0.19)\n",
        "test = int(total*0.01)\n",
        "print(\"total: \",total,\"train: \",train,\"valid: \",valid,\"test: \",test)"
      ],
      "execution_count": 18,
      "outputs": [
        {
          "output_type": "stream",
          "name": "stdout",
          "text": [
            "total:  1839960 train:  1471968 valid:  349592 test:  18399\n"
          ]
        }
      ]
    },
    {
      "cell_type": "code",
      "metadata": {
        "colab": {
          "base_uri": "https://localhost:8080/"
        },
        "id": "0q6ecXrVSgw9",
        "outputId": "2040a0f6-3d57-43c9-94f2-7a0e58ca328a"
      },
      "source": [
        "model = tf.keras.models.Sequential([\n",
        "    tf.keras.layers.Conv2D(64, (3,3), activation='relu', input_shape=(256, 256, 3)),\n",
        "    tf.keras.layers.Conv2D(64, (3,3), activation='relu'),\n",
        "    tf.keras.layers.MaxPooling2D(2,2),\n",
        "\n",
        "    tf.keras.layers.Conv2D(128, (3,3), activation='relu'),\n",
        "    tf.keras.layers.Conv2D(128, (3,3), activation='relu'),\n",
        "    tf.keras.layers.MaxPooling2D(2,2),\n",
        "\n",
        "    tf.keras.layers.Conv2D(256, (3,3), activation='relu'),\n",
        "    tf.keras.layers.Conv2D(256, (3,3), activation='relu'),\n",
        "    tf.keras.layers.Conv2D(256, (3,3), activation='relu'),\n",
        "    tf.keras.layers.Conv2D(256, (3,3), activation='relu'),\n",
        "    tf.keras.layers.MaxPooling2D(2,2),\n",
        "\n",
        "    tf.keras.layers.Conv2D(512, (3,3), activation='relu'),\n",
        "    tf.keras.layers.Conv2D(512, (3,3), activation='relu'),\n",
        "    tf.keras.layers.Conv2D(512, (3,3), activation='relu'),\n",
        "    tf.keras.layers.Conv2D(512, (3,3), activation='relu'),\n",
        "    tf.keras.layers.MaxPooling2D(2,2),\n",
        "  \n",
        "    tf.keras.layers.Flatten(),\n",
        "    tf.keras.layers.Dense(4096, activation='relu'),\n",
        "    tf.keras.layers.Dropout(0.5),\n",
        "    tf.keras.layers.Dense(4096, activation='relu'),\n",
        "    tf.keras.layers.Dropout(0.5),\n",
        "    tf.keras.layers.Dense(365, activation='softmax')\n",
        "])\n",
        "model.summary()"
      ],
      "execution_count": 19,
      "outputs": [
        {
          "output_type": "stream",
          "name": "stdout",
          "text": [
            "Model: \"sequential_1\"\n",
            "_________________________________________________________________\n",
            " Layer (type)                Output Shape              Param #   \n",
            "=================================================================\n",
            " conv2d_12 (Conv2D)          (None, 254, 254, 64)      1792      \n",
            "                                                                 \n",
            " conv2d_13 (Conv2D)          (None, 252, 252, 64)      36928     \n",
            "                                                                 \n",
            " max_pooling2d_4 (MaxPooling  (None, 126, 126, 64)     0         \n",
            " 2D)                                                             \n",
            "                                                                 \n",
            " conv2d_14 (Conv2D)          (None, 124, 124, 128)     73856     \n",
            "                                                                 \n",
            " conv2d_15 (Conv2D)          (None, 122, 122, 128)     147584    \n",
            "                                                                 \n",
            " max_pooling2d_5 (MaxPooling  (None, 61, 61, 128)      0         \n",
            " 2D)                                                             \n",
            "                                                                 \n",
            " conv2d_16 (Conv2D)          (None, 59, 59, 256)       295168    \n",
            "                                                                 \n",
            " conv2d_17 (Conv2D)          (None, 57, 57, 256)       590080    \n",
            "                                                                 \n",
            " conv2d_18 (Conv2D)          (None, 55, 55, 256)       590080    \n",
            "                                                                 \n",
            " conv2d_19 (Conv2D)          (None, 53, 53, 256)       590080    \n",
            "                                                                 \n",
            " max_pooling2d_6 (MaxPooling  (None, 26, 26, 256)      0         \n",
            " 2D)                                                             \n",
            "                                                                 \n",
            " conv2d_20 (Conv2D)          (None, 24, 24, 512)       1180160   \n",
            "                                                                 \n",
            " conv2d_21 (Conv2D)          (None, 22, 22, 512)       2359808   \n",
            "                                                                 \n",
            " conv2d_22 (Conv2D)          (None, 20, 20, 512)       2359808   \n",
            "                                                                 \n",
            " conv2d_23 (Conv2D)          (None, 18, 18, 512)       2359808   \n",
            "                                                                 \n",
            " max_pooling2d_7 (MaxPooling  (None, 9, 9, 512)        0         \n",
            " 2D)                                                             \n",
            "                                                                 \n",
            " flatten_1 (Flatten)         (None, 41472)             0         \n",
            "                                                                 \n",
            " dense_3 (Dense)             (None, 4096)              169873408 \n",
            "                                                                 \n",
            " dropout_2 (Dropout)         (None, 4096)              0         \n",
            "                                                                 \n",
            " dense_4 (Dense)             (None, 4096)              16781312  \n",
            "                                                                 \n",
            " dropout_3 (Dropout)         (None, 4096)              0         \n",
            "                                                                 \n",
            " dense_5 (Dense)             (None, 365)               1495405   \n",
            "                                                                 \n",
            "=================================================================\n",
            "Total params: 198,735,277\n",
            "Trainable params: 198,735,277\n",
            "Non-trainable params: 0\n",
            "_________________________________________________________________\n"
          ]
        }
      ]
    },
    {
      "cell_type": "code",
      "metadata": {
        "id": "MUk0QNF08vrB"
      },
      "source": [
        "callbacksEarlyStopping = tf.keras.callbacks.EarlyStopping(monitor='loss', patience=5)\n",
        "class CallbackAccuracy(tf.keras.callbacks.Callback):\n",
        "    def on_epoch_end(self, epoch, logs=None):\n",
        "        if logs is None:\n",
        "            logs = {}\n",
        "        if logs.get('acc') > 0.98 and logs.get('val_acc') > 0.98:\n",
        "            self.model.stop_training = True"
      ],
      "execution_count": 20,
      "outputs": []
    },
    {
      "cell_type": "code",
      "metadata": {
        "id": "MCKoRvjMTZ2W"
      },
      "source": [
        "model.compile(loss = 'categorical_crossentropy', \n",
        "              optimizer='rmsprop', \n",
        "              metrics=['acc'])"
      ],
      "execution_count": 21,
      "outputs": []
    },
    {
      "cell_type": "code",
      "metadata": {
        "colab": {
          "base_uri": "https://localhost:8080/"
        },
        "id": "njjRPYYJ9Lsz",
        "outputId": "98535a56-e183-47ed-d8df-853255e89d4e"
      },
      "source": [
        "spe = ltc //bs\n",
        "print(spe)\n",
        "vs = len(validation_generator.classes)//bs\n",
        "print(vs)"
      ],
      "execution_count": null,
      "outputs": [
        {
          "output_type": "stream",
          "name": "stdout",
          "text": [
            "45999\n",
            "10924\n"
          ]
        }
      ]
    },
    {
      "cell_type": "code",
      "metadata": {
        "colab": {
          "base_uri": "https://localhost:8080/"
        },
        "id": "z2__HbF6ToO2",
        "outputId": "c34cd099-0981-44fe-ed39-22582802385e"
      },
      "source": [
        "history = model.fit(train_generator, \n",
        "                    epochs=100, \n",
        "                    steps_per_epoch=256,\n",
        "                    validation_data = validation_generator, \n",
        "                    verbose = 1, \n",
        "                    validation_steps=128,\n",
        "                    callbacks=[CallbackAccuracy(),callbacksEarlyStopping])"
      ],
      "execution_count": 22,
      "outputs": [
        {
          "output_type": "stream",
          "name": "stdout",
          "text": [
            "Epoch 1/100\n",
            "256/256 [==============================] - 297s 1s/step - loss: 452.7677 - acc: 0.0036 - val_loss: 5.8994 - val_acc: 0.0029\n",
            "Epoch 2/100\n",
            "256/256 [==============================] - 292s 1s/step - loss: 5.8995 - acc: 0.0020 - val_loss: 5.8997 - val_acc: 0.0033\n",
            "Epoch 3/100\n",
            "256/256 [==============================] - 295s 1s/step - loss: 5.8997 - acc: 0.0028 - val_loss: 5.8993 - val_acc: 0.0028\n",
            "Epoch 4/100\n",
            "256/256 [==============================] - 293s 1s/step - loss: 5.8996 - acc: 0.0024 - val_loss: 5.8993 - val_acc: 0.0032\n",
            "Epoch 5/100\n",
            "256/256 [==============================] - 285s 1s/step - loss: 5.8993 - acc: 0.0028 - val_loss: 5.8989 - val_acc: 0.0042\n",
            "Epoch 6/100\n",
            "256/256 [==============================] - 287s 1s/step - loss: 5.8992 - acc: 0.0031 - val_loss: 5.9001 - val_acc: 0.0024\n",
            "Epoch 7/100\n",
            "256/256 [==============================] - 291s 1s/step - loss: 5.8998 - acc: 0.0027 - val_loss: 5.8994 - val_acc: 0.0026\n",
            "Epoch 8/100\n",
            "256/256 [==============================] - 289s 1s/step - loss: 5.8988 - acc: 0.0032 - val_loss: 5.8997 - val_acc: 0.0020\n",
            "Epoch 9/100\n",
            "256/256 [==============================] - 298s 1s/step - loss: 5.9000 - acc: 0.0027 - val_loss: 5.8983 - val_acc: 0.0027\n",
            "Epoch 10/100\n",
            "256/256 [==============================] - 287s 1s/step - loss: 5.8991 - acc: 0.0041 - val_loss: 5.8994 - val_acc: 0.0027\n",
            "Epoch 11/100\n",
            "256/256 [==============================] - 296s 1s/step - loss: 5.8995 - acc: 0.0025 - val_loss: 5.8999 - val_acc: 0.0028\n",
            "Epoch 12/100\n",
            "256/256 [==============================] - 313s 1s/step - loss: 5.8994 - acc: 0.0027 - val_loss: 5.8998 - val_acc: 0.0029\n",
            "Epoch 13/100\n",
            "256/256 [==============================] - 313s 1s/step - loss: 5.8988 - acc: 0.0026 - val_loss: 5.8989 - val_acc: 0.0024\n",
            "Epoch 14/100\n",
            "256/256 [==============================] - 316s 1s/step - loss: 5.8996 - acc: 0.0036 - val_loss: 5.8993 - val_acc: 0.0029\n",
            "Epoch 15/100\n",
            "256/256 [==============================] - 317s 1s/step - loss: 5.8987 - acc: 0.0027 - val_loss: 5.8987 - val_acc: 0.0023\n",
            "Epoch 16/100\n",
            "256/256 [==============================] - 319s 1s/step - loss: 5.8998 - acc: 0.0032 - val_loss: 5.8988 - val_acc: 0.0028\n",
            "Epoch 17/100\n",
            "256/256 [==============================] - 320s 1s/step - loss: 5.8982 - acc: 0.0032 - val_loss: 5.8987 - val_acc: 0.0027\n",
            "Epoch 18/100\n",
            "256/256 [==============================] - 320s 1s/step - loss: 5.8992 - acc: 0.0029 - val_loss: 5.8991 - val_acc: 0.0026\n",
            "Epoch 19/100\n",
            "256/256 [==============================] - 324s 1s/step - loss: 5.9000 - acc: 0.0025 - val_loss: 5.8998 - val_acc: 0.0026\n",
            "Epoch 20/100\n",
            "256/256 [==============================] - 322s 1s/step - loss: 5.8990 - acc: 0.0025 - val_loss: 5.8991 - val_acc: 0.0032\n",
            "Epoch 21/100\n",
            "256/256 [==============================] - 321s 1s/step - loss: 5.8993 - acc: 0.0029 - val_loss: 5.9001 - val_acc: 0.0020\n",
            "Epoch 22/100\n",
            "256/256 [==============================] - 321s 1s/step - loss: 5.8995 - acc: 0.0026 - val_loss: 5.8988 - val_acc: 0.0035\n"
          ]
        }
      ]
    },
    {
      "cell_type": "code",
      "metadata": {
        "colab": {
          "base_uri": "https://localhost:8080/",
          "height": 513
        },
        "id": "NEKB0OuZetFa",
        "outputId": "e401f7ea-ed11-4afa-c3f1-3b00ba51a309"
      },
      "source": [
        "%matplotlib inline\n",
        "\n",
        "import matplotlib.pyplot as plt\n",
        "import numpy as np\n",
        "\n",
        "plt.style.use(\"ggplot\")\n",
        "fig, axes = plt.subplots(nrows=1, ncols=2, figsize=(15, 7))\n",
        "axes[0].plot(np.arange(0, 22), history.history[\"acc\"], label=\"train_acc_model1\")\n",
        "axes[0].plot(np.arange(0, 22), history.history[\"val_acc\"], label=\"val_acc_model1\")\n",
        "axes[0].legend()\n",
        "axes[1].plot(np.arange(0, 22), history.history[\"loss\"], label=\"train_loss_model1\")\n",
        "axes[1].plot(np.arange(0, 22), history.history[\"val_loss\"], label=\"val_loss_model1\")\n",
        "axes[1].legend()\n",
        "plt.setp(axes[0],title='Acc Result Plot', xlabel=\"Epoch #\", ylabel=\"Acc\")\n",
        "plt.setp(axes[1],title='Loss Result Plot', xlabel=\"Epoch #\", ylabel=\"Loss\")\n",
        "fig.tight_layout()"
      ],
      "execution_count": 23,
      "outputs": [
        {
          "output_type": "display_data",
          "data": {
            "image/png": "[encoded data removed]",
            "text/plain": [
              "<Figure size 1080x504 with 2 Axes>"
            ]
          },
          "metadata": {}
        }
      ]
    },
    {
      "cell_type": "code",
      "metadata": {
        "id": "IpdBBEAa9J8d"
      },
      "source": [
        "label = list(validation_generator.class_indices.keys())"
      ],
      "execution_count": 25,
      "outputs": []
    },
    {
      "cell_type": "code",
      "metadata": {
        "colab": {
          "base_uri": "https://localhost:8080/"
        },
        "id": "x3sgYcOR3Hew",
        "outputId": "297521e6-ee10-43ab-8c57-f459ef2adaa2"
      },
      "source": [
        "from sklearn.metrics import classification_report\n",
        "from sklearn.metrics import confusion_matrix, ConfusionMatrixDisplay\n",
        "num_of_test_samples = len(validation_generator.filenames)\n",
        "\n",
        "Y_pred = model.predict(validation_generator)\n",
        "y_pred = np.argmax(Y_pred, axis=1)\n",
        "\n",
        "print('\\nConfusion Matrix\\n')\n",
        "print(confusion_matrix(validation_generator.classes, y_pred))\n",
        "print('\\n\\nClassification Report\\n')\n",
        "print(classification_report(validation_generator.classes, y_pred, target_names=label))"
      ],
      "execution_count": 26,
      "outputs": [
        {
          "output_type": "stream",
          "name": "stdout",
          "text": [
            "\n",
            "Confusion Matrix\n",
            "\n",
            "[[0 0 0 ... 0 0 0]\n",
            " [0 0 0 ... 0 0 0]\n",
            " [0 0 0 ... 0 0 0]\n",
            " ...\n",
            " [0 0 0 ... 0 0 0]\n",
            " [0 0 0 ... 0 0 0]\n",
            " [0 0 0 ... 0 0 0]]\n",
            "\n",
            "\n",
            "Classification Report\n",
            "\n"
          ]
        },
        {
          "output_type": "stream",
          "name": "stderr",
          "text": [
            "/usr/local/lib/python3.7/dist-packages/sklearn/metrics/_classification.py:1272: UndefinedMetricWarning: Precision and F-score are ill-defined and being set to 0.0 in labels with no predicted samples. Use `zero_division` parameter to control this behavior.\n",
            "  _warn_prf(average, modifier, msg_start, len(result))\n"
          ]
        },
        {
          "output_type": "stream",
          "name": "stdout",
          "text": [
            "                            precision    recall  f1-score   support\n",
            "\n",
            "                  airfield       0.00      0.00      0.00       969\n",
            "            airplane_cabin       0.00      0.00      0.00       969\n",
            "          airport_terminal       0.00      0.00      0.00       969\n",
            "                    alcove       0.00      0.00      0.00       969\n",
            "                     alley       0.00      0.00      0.00       969\n",
            "              amphitheater       0.00      0.00      0.00       969\n",
            "          amusement_arcade       0.00      0.00      0.00       969\n",
            "            amusement_park       0.00      0.00      0.00       969\n",
            "apartment_building-outdoor       0.00      0.00      0.00       969\n",
            "                  aquarium       0.00      0.00      0.00       969\n",
            "                  aqueduct       0.00      0.00      0.00       969\n",
            "                    arcade       0.00      0.00      0.00       969\n",
            "                      arch       0.00      0.00      0.00       969\n",
            "  archaelogical_excavation       0.00      0.00      0.00       969\n",
            "                   archive       0.00      0.00      0.00       969\n",
            "              arena-hockey       0.00      0.00      0.00       969\n",
            "         arena-performance       0.00      0.00      0.00       969\n",
            "               arena-rodeo       0.00      0.00      0.00       969\n",
            "                 army_base       0.00      0.00      0.00       969\n",
            "               art_gallery       0.00      0.00      0.00       969\n",
            "                art_school       0.00      0.00      0.00       969\n",
            "                art_studio       0.00      0.00      0.00       969\n",
            "              artists_loft       0.00      0.00      0.00       969\n",
            "             assembly_line       0.00      0.00      0.00       810\n",
            "    athletic_field-outdoor       0.00      0.00      0.00       969\n",
            "             atrium-public       0.00      0.00      0.00       969\n",
            "                     attic       0.00      0.00      0.00       969\n",
            "                auditorium       0.00      0.00      0.00       969\n",
            "              auto_factory       0.00      0.00      0.00       969\n",
            "             auto_showroom       0.00      0.00      0.00       969\n",
            "                  badlands       0.00      0.00      0.00       969\n",
            "               bakery-shop       0.00      0.00      0.00       969\n",
            "          balcony-exterior       0.00      0.00      0.00       969\n",
            "          balcony-interior       0.00      0.00      0.00       969\n",
            "                  ball_pit       0.00      0.00      0.00       969\n",
            "                  ballroom       0.00      0.00      0.00       969\n",
            "             bamboo_forest       0.00      0.00      0.00       969\n",
            "                bank_vault       0.00      0.00      0.00       684\n",
            "              banquet_hall       0.00      0.00      0.00       969\n",
            "                       bar       0.00      0.00      0.00       969\n",
            "                      barn       0.00      0.00      0.00       969\n",
            "                  barndoor       0.00      0.00      0.00       969\n",
            "            baseball_field       0.00      0.00      0.00       969\n",
            "                  basement       0.00      0.00      0.00       969\n",
            "   basketball_court-indoor       0.00      0.00      0.00       969\n",
            "                  bathroom       0.00      0.00      0.00       969\n",
            "             bazaar-indoor       0.00      0.00      0.00       858\n",
            "            bazaar-outdoor       0.00      0.00      0.00       969\n",
            "                     beach       0.00      0.00      0.00       969\n",
            "               beach_house       0.00      0.00      0.00       969\n",
            "              beauty_salon       0.00      0.00      0.00       969\n",
            "                bedchamber       0.00      0.00      0.00       969\n",
            "                   bedroom       0.00      0.00      0.00       969\n",
            "               beer_garden       0.00      0.00      0.00       969\n",
            "                 beer_hall       0.00      0.00      0.00       969\n",
            "                     berth       0.00      0.00      0.00       969\n",
            "        biology_laboratory       0.00      0.00      0.00       678\n",
            "                 boardwalk       0.00      0.00      0.00       969\n",
            "                 boat_deck       0.00      0.00      0.00       969\n",
            "                 boathouse       0.00      0.00      0.00       969\n",
            "                 bookstore       0.00      0.00      0.00       969\n",
            "              booth-indoor       0.00      0.00      0.00       969\n",
            "          botanical_garden       0.00      0.00      0.00       969\n",
            "         bow_window-indoor       0.00      0.00      0.00       969\n",
            "             bowling_alley       0.00      0.00      0.00       969\n",
            "               boxing_ring       0.00      0.00      0.00       969\n",
            "                    bridge       0.00      0.00      0.00       969\n",
            "           building_facade       0.00      0.00      0.00       969\n",
            "                  bullring       0.00      0.00      0.00       908\n",
            "            burial_chamber       0.00      0.00      0.00       969\n",
            "              bus_interior       0.00      0.00      0.00       969\n",
            "        bus_station-indoor       0.00      0.00      0.00       969\n",
            "             butchers_shop       0.00      0.00      0.00       969\n",
            "                     butte       0.00      0.00      0.00       969\n",
            "             cabin-outdoor       0.00      0.00      0.00       969\n",
            "                 cafeteria       0.00      0.00      0.00       969\n",
            "                  campsite       0.00      0.00      0.00       969\n",
            "                    campus       0.00      0.00      0.00       969\n",
            "             canal-natural       0.00      0.00      0.00       969\n",
            "               canal-urban       0.00      0.00      0.00       969\n",
            "               candy_store       0.00      0.00      0.00       969\n",
            "                    canyon       0.00      0.00      0.00       969\n",
            "              car_interior       0.00      0.00      0.00       969\n",
            "                 carrousel       0.00      0.00      0.00       969\n",
            "                    castle       0.00      0.00      0.00       969\n",
            "                  catacomb       0.00      0.00      0.00       969\n",
            "                  cemetery       0.00      0.00      0.00       969\n",
            "                    chalet       0.00      0.00      0.00       969\n",
            "             chemistry_lab       0.00      0.00      0.00       673\n",
            "               childs_room       0.00      0.00      0.00       969\n",
            "             church-indoor       0.00      0.00      0.00       969\n",
            "            church-outdoor       0.00      0.00      0.00       969\n",
            "                 classroom       0.00      0.00      0.00       969\n",
            "                clean_room       0.00      0.00      0.00       754\n",
            "                     cliff       0.00      0.00      0.00       969\n",
            "                    closet       0.00      0.00      0.00       969\n",
            "            clothing_store       0.00      0.00      0.00       969\n",
            "                     coast       0.00      0.00      0.00       969\n",
            "                   cockpit       0.00      0.00      0.00       969\n",
            "               coffee_shop       0.00      0.00      0.00       969\n",
            "             computer_room       0.00      0.00      0.00       706\n",
            "         conference_center       0.00      0.00      0.00       969\n",
            "           conference_room       0.00      0.00      0.00       969\n",
            "         construction_site       0.00      0.00      0.00       969\n",
            "                corn_field       0.00      0.00      0.00       969\n",
            "                    corral       0.00      0.00      0.00       969\n",
            "                  corridor       0.00      0.00      0.00       969\n",
            "                   cottage       0.00      0.00      0.00       969\n",
            "                courthouse       0.00      0.00      0.00       969\n",
            "                 courtyard       0.00      0.00      0.00       969\n",
            "                     creek       0.00      0.00      0.00       969\n",
            "                  crevasse       0.00      0.00      0.00       865\n",
            "                 crosswalk       0.00      0.00      0.00       969\n",
            "                       dam       0.00      0.00      0.00       969\n",
            "              delicatessen       0.00      0.00      0.00       969\n",
            "          department_store       0.00      0.00      0.00       969\n",
            "               desert-sand       0.00      0.00      0.00       969\n",
            "         desert-vegetation       0.00      0.00      0.00       969\n",
            "               desert_road       0.00      0.00      0.00       969\n",
            "             diner-outdoor       0.00      0.00      0.00       969\n",
            "               dining_hall       0.00      0.00      0.00       969\n",
            "               dining_room       0.00      0.00      0.00       969\n",
            "               discotheque       0.00      0.00      0.00       969\n",
            "           doorway-outdoor       0.00      0.00      0.00       969\n",
            "                 dorm_room       0.00      0.00      0.00       969\n",
            "                  downtown       0.00      0.00      0.00       969\n",
            "             dressing_room       0.00      0.00      0.00       601\n",
            "                  driveway       0.00      0.00      0.00       969\n",
            "                 drugstore       0.00      0.00      0.00       737\n",
            "             elevator-door       0.00      0.00      0.00       866\n",
            "            elevator_lobby       0.00      0.00      0.00       969\n",
            "            elevator_shaft       0.00      0.00      0.00       969\n",
            "                   embassy       0.00      0.00      0.00       969\n",
            "               engine_room       0.00      0.00      0.00       969\n",
            "             entrance_hall       0.00      0.00      0.00       969\n",
            "          escalator-indoor       0.00      0.00      0.00       827\n",
            "                excavation       0.00      0.00      0.00       969\n",
            "              fabric_store       0.00      0.00      0.00       752\n",
            "                      farm       0.00      0.00      0.00       969\n",
            "       fastfood_restaurant       0.00      0.00      0.00       969\n",
            "          field-cultivated       0.00      0.00      0.00       969\n",
            "                field-wild       0.00      0.00      0.00       969\n",
            "                field_road       0.00      0.00      0.00       969\n",
            "               fire_escape       0.00      0.00      0.00       969\n",
            "              fire_station       0.00      0.00      0.00       969\n",
            "                  fishpond       0.00      0.00      0.00       969\n",
            "        flea_market-indoor       0.00      0.00      0.00       969\n",
            "       florist_shop-indoor       0.00      0.00      0.00       969\n",
            "                food_court       0.00      0.00      0.00       969\n",
            "            football_field       0.00      0.00      0.00       969\n",
            "          forest-broadleaf       0.00      0.00      0.00       969\n",
            "               forest_path       0.00      0.00      0.00       969\n",
            "               forest_road       0.00      0.00      0.00       969\n",
            "             formal_garden       0.00      0.00      0.00       969\n",
            "                  fountain       0.00      0.00      0.00       969\n",
            "                    galley       0.00      0.00      0.00       841\n",
            "             garage-indoor       0.00      0.00      0.00       969\n",
            "            garage-outdoor       0.00      0.00      0.00       969\n",
            "               gas_station       0.00      0.00      0.00       969\n",
            "           gazebo-exterior       0.00      0.00      0.00       969\n",
            "      general_store-indoor       0.00      0.00      0.00       918\n",
            "     general_store-outdoor       0.00      0.00      0.00       969\n",
            "                 gift_shop       0.00      0.00      0.00       969\n",
            "                   glacier       0.00      0.00      0.00       969\n",
            "               golf_course       0.00      0.00      0.00       969\n",
            "         greenhouse-indoor       0.00      0.00      0.00       969\n",
            "        greenhouse-outdoor       0.00      0.00      0.00       957\n",
            "                    grotto       0.00      0.00      0.00       969\n",
            "          gymnasium-indoor       0.00      0.00      0.00       951\n",
            "             hangar-indoor       0.00      0.00      0.00       969\n",
            "            hangar-outdoor       0.00      0.00      0.00       969\n",
            "                    harbor       0.00      0.00      0.00       969\n",
            "            hardware_store       0.00      0.00      0.00       969\n",
            "                  hayfield       0.00      0.00      0.00       969\n",
            "                  heliport       0.00      0.00      0.00       969\n",
            "                   highway       0.00      0.00      0.00       969\n",
            "               home_office       0.00      0.00      0.00       969\n",
            "              home_theater       0.00      0.00      0.00       969\n",
            "                  hospital       0.00      0.00      0.00       969\n",
            "             hospital_room       0.00      0.00      0.00       969\n",
            "                hot_spring       0.00      0.00      0.00       969\n",
            "             hotel-outdoor       0.00      0.00      0.00       969\n",
            "                hotel_room       0.00      0.00      0.00       969\n",
            "                     house       0.00      0.00      0.00       969\n",
            "     hunting_lodge-outdoor       0.00      0.00      0.00       969\n",
            "          ice_cream_parlor       0.00      0.00      0.00       969\n",
            "                  ice_floe       0.00      0.00      0.00       969\n",
            "                 ice_shelf       0.00      0.00      0.00       969\n",
            "   ice_skating_rink-indoor       0.00      0.00      0.00       798\n",
            "  ice_skating_rink-outdoor       0.00      0.00      0.00       969\n",
            "                   iceberg       0.00      0.00      0.00       969\n",
            "                     igloo       0.00      0.00      0.00       969\n",
            "           industrial_area       0.00      0.00      0.00       969\n",
            "               inn-outdoor       0.00      0.00      0.00       969\n",
            "                     islet       0.00      0.00      0.00       969\n",
            "            jacuzzi-indoor       0.00      0.00      0.00       611\n",
            "                 jail_cell       0.00      0.00      0.00       969\n",
            "           japanese_garden       0.00      0.00      0.00       969\n",
            "              jewelry_shop       0.00      0.00      0.00       969\n",
            "                  junkyard       0.00      0.00      0.00       969\n",
            "                    kasbah       0.00      0.00      0.00       969\n",
            "            kennel-outdoor       0.00      0.00      0.00       969\n",
            "    kindergarden_classroom       0.00      0.00      0.00       969\n",
            "                   kitchen       0.00      0.00      0.00       969\n",
            "                    lagoon       0.00      0.00      0.00       969\n",
            "              lake-natural       0.00      0.00      0.00       969\n",
            "                  landfill       0.00      0.00      0.00       969\n",
            "              landing_deck       0.00      0.00      0.00       969\n",
            "                laundromat       0.00      0.00      0.00       969\n",
            "                      lawn       0.00      0.00      0.00       969\n",
            "              lecture_room       0.00      0.00      0.00       969\n",
            "       legislative_chamber       0.00      0.00      0.00       969\n",
            "            library-indoor       0.00      0.00      0.00       969\n",
            "           library-outdoor       0.00      0.00      0.00       969\n",
            "                lighthouse       0.00      0.00      0.00       969\n",
            "               living_room       0.00      0.00      0.00       969\n",
            "              loading_dock       0.00      0.00      0.00       969\n",
            "                     lobby       0.00      0.00      0.00       969\n",
            "              lock_chamber       0.00      0.00      0.00       969\n",
            "               locker_room       0.00      0.00      0.00       969\n",
            "                   mansion       0.00      0.00      0.00       969\n",
            "         manufactured_home       0.00      0.00      0.00       969\n",
            "             market-indoor       0.00      0.00      0.00       829\n",
            "            market-outdoor       0.00      0.00      0.00       969\n",
            "                     marsh       0.00      0.00      0.00       969\n",
            "          martial_arts_gym       0.00      0.00      0.00       969\n",
            "                 mausoleum       0.00      0.00      0.00       969\n",
            "                    medina       0.00      0.00      0.00       969\n",
            "                 mezzanine       0.00      0.00      0.00       969\n",
            "                moat-water       0.00      0.00      0.00       969\n",
            "            mosque-outdoor       0.00      0.00      0.00       969\n",
            "                     motel       0.00      0.00      0.00       969\n",
            "                  mountain       0.00      0.00      0.00       969\n",
            "             mountain_path       0.00      0.00      0.00       969\n",
            "            mountain_snowy       0.00      1.00      0.01       969\n",
            "      movie_theater-indoor       0.00      0.00      0.00       969\n",
            "             museum-indoor       0.00      0.00      0.00       969\n",
            "            museum-outdoor       0.00      0.00      0.00       969\n",
            "              music_studio       0.00      0.00      0.00       969\n",
            "    natural_history_museum       0.00      0.00      0.00       969\n",
            "                   nursery       0.00      0.00      0.00       969\n",
            "              nursing_home       0.00      0.00      0.00       969\n",
            "                oast_house       0.00      0.00      0.00       969\n",
            "                     ocean       0.00      0.00      0.00       969\n",
            "                    office       0.00      0.00      0.00       969\n",
            "           office_building       0.00      0.00      0.00       969\n",
            "           office_cubicles       0.00      0.00      0.00       969\n",
            "                    oilrig       0.00      0.00      0.00       969\n",
            "            operating_room       0.00      0.00      0.00       935\n",
            "                   orchard       0.00      0.00      0.00       969\n",
            "             orchestra_pit       0.00      0.00      0.00       969\n",
            "                    pagoda       0.00      0.00      0.00       969\n",
            "                    palace       0.00      0.00      0.00       969\n",
            "                    pantry       0.00      0.00      0.00       969\n",
            "                      park       0.00      0.00      0.00       969\n",
            "     parking_garage-indoor       0.00      0.00      0.00       969\n",
            "    parking_garage-outdoor       0.00      0.00      0.00       969\n",
            "               parking_lot       0.00      0.00      0.00       969\n",
            "                   pasture       0.00      0.00      0.00       969\n",
            "                     patio       0.00      0.00      0.00       969\n",
            "                  pavilion       0.00      0.00      0.00       969\n",
            "                  pet_shop       0.00      0.00      0.00       966\n",
            "                  pharmacy       0.00      0.00      0.00       969\n",
            "               phone_booth       0.00      0.00      0.00       969\n",
            "        physics_laboratory       0.00      0.00      0.00       969\n",
            "               picnic_area       0.00      0.00      0.00       969\n",
            "                      pier       0.00      0.00      0.00       969\n",
            "                  pizzeria       0.00      0.00      0.00       969\n",
            "                playground       0.00      0.00      0.00       969\n",
            "                  playroom       0.00      0.00      0.00       969\n",
            "                     plaza       0.00      0.00      0.00       969\n",
            "                      pond       0.00      0.00      0.00       969\n",
            "                     porch       0.00      0.00      0.00       969\n",
            "                 promenade       0.00      0.00      0.00       969\n",
            "                pub-indoor       0.00      0.00      0.00       969\n",
            "                racecourse       0.00      0.00      0.00       969\n",
            "                   raceway       0.00      0.00      0.00       969\n",
            "                      raft       0.00      0.00      0.00       969\n",
            "            railroad_track       0.00      0.00      0.00       969\n",
            "                rainforest       0.00      0.00      0.00       969\n",
            "                 reception       0.00      0.00      0.00       969\n",
            "           recreation_room       0.00      0.00      0.00       969\n",
            "               repair_shop       0.00      0.00      0.00       969\n",
            "  residential_neighborhood       0.00      0.00      0.00       969\n",
            "                restaurant       0.00      0.00      0.00       969\n",
            "        restaurant_kitchen       0.00      0.00      0.00       969\n",
            "          restaurant_patio       0.00      0.00      0.00       969\n",
            "                rice_paddy       0.00      0.00      0.00       969\n",
            "                     river       0.00      0.00      0.00       969\n",
            "                 rock_arch       0.00      0.00      0.00       969\n",
            "               roof_garden       0.00      0.00      0.00       969\n",
            "               rope_bridge       0.00      0.00      0.00       969\n",
            "                      ruin       0.00      0.00      0.00       969\n",
            "                    runway       0.00      0.00      0.00       969\n",
            "                   sandbox       0.00      0.00      0.00       969\n",
            "                     sauna       0.00      0.00      0.00       782\n",
            "               schoolhouse       0.00      0.00      0.00       969\n",
            "            science_museum       0.00      0.00      0.00       969\n",
            "               server_room       0.00      0.00      0.00       969\n",
            "                      shed       0.00      0.00      0.00       969\n",
            "                 shoe_shop       0.00      0.00      0.00       969\n",
            "                 shopfront       0.00      0.00      0.00       969\n",
            "      shopping_mall-indoor       0.00      0.00      0.00       969\n",
            "                    shower       0.00      0.00      0.00       969\n",
            "                ski_resort       0.00      0.00      0.00       969\n",
            "                 ski_slope       0.00      0.00      0.00       969\n",
            "                       sky       0.00      0.00      0.00       969\n",
            "                skyscraper       0.00      0.00      0.00       969\n",
            "                      slum       0.00      0.00      0.00       969\n",
            "                 snowfield       0.00      0.00      0.00       969\n",
            "              soccer_field       0.00      0.00      0.00       969\n",
            "                    stable       0.00      0.00      0.00       969\n",
            "          stadium-baseball       0.00      0.00      0.00       969\n",
            "          stadium-football       0.00      0.00      0.00       969\n",
            "            stadium-soccer       0.00      0.00      0.00       969\n",
            "              stage-indoor       0.00      0.00      0.00       969\n",
            "             stage-outdoor       0.00      0.00      0.00       969\n",
            "                 staircase       0.00      0.00      0.00       969\n",
            "              storage_room       0.00      0.00      0.00       969\n",
            "                    street       0.00      0.00      0.00       969\n",
            "   subway_station-platform       0.00      0.00      0.00       969\n",
            "               supermarket       0.00      0.00      0.00       969\n",
            "                 sushi_bar       0.00      0.00      0.00       969\n",
            "                     swamp       0.00      0.00      0.00       969\n",
            "             swimming_hole       0.00      0.00      0.00       969\n",
            "      swimming_pool-indoor       0.00      0.00      0.00       969\n",
            "     swimming_pool-outdoor       0.00      0.00      0.00       969\n",
            "         synagogue-outdoor       0.00      0.00      0.00       969\n",
            "           television_room       0.00      0.00      0.00       969\n",
            "         television_studio       0.00      0.00      0.00       969\n",
            "               temple-asia       0.00      0.00      0.00       969\n",
            "               throne_room       0.00      0.00      0.00       969\n",
            "              ticket_booth       0.00      0.00      0.00       969\n",
            "            topiary_garden       0.00      0.00      0.00       969\n",
            "                     tower       0.00      0.00      0.00       969\n",
            "                   toyshop       0.00      0.00      0.00       969\n",
            "            train_interior       0.00      0.00      0.00       969\n",
            "    train_station-platform       0.00      0.00      0.00       969\n",
            "                 tree_farm       0.00      0.00      0.00       969\n",
            "                tree_house       0.00      0.00      0.00       969\n",
            "                    trench       0.00      0.00      0.00       969\n",
            "                    tundra       0.00      0.00      0.00       969\n",
            "     underwater-ocean_deep       0.00      0.00      0.00       969\n",
            "              utility_room       0.00      0.00      0.00       969\n",
            "                    valley       0.00      0.00      0.00       969\n",
            "          vegetable_garden       0.00      0.00      0.00       969\n",
            "      veterinarians_office       0.00      0.00      0.00       932\n",
            "                   viaduct       0.00      0.00      0.00       969\n",
            "                   village       0.00      0.00      0.00       969\n",
            "                  vineyard       0.00      0.00      0.00       969\n",
            "                   volcano       0.00      0.00      0.00       969\n",
            "  volleyball_court-outdoor       0.00      0.00      0.00       848\n",
            "              waiting_room       0.00      0.00      0.00       969\n",
            "                water_park       0.00      0.00      0.00       969\n",
            "               water_tower       0.00      0.00      0.00       969\n",
            "                 waterfall       0.00      0.00      0.00       969\n",
            "             watering_hole       0.00      0.00      0.00       969\n",
            "                      wave       0.00      0.00      0.00       969\n",
            "                   wet_bar       0.00      0.00      0.00       969\n",
            "               wheat_field       0.00      0.00      0.00       969\n",
            "                 wind_farm       0.00      0.00      0.00       969\n",
            "                  windmill       0.00      0.00      0.00       969\n",
            "                      yard       0.00      0.00      0.00       969\n",
            "              youth_hostel       0.00      0.00      0.00       969\n",
            "                zen_garden       0.00      0.00      0.00       969\n",
            "\n",
            "                  accuracy                           0.00    349578\n",
            "                 macro avg       0.00      0.00      0.00    349578\n",
            "              weighted avg       0.00      0.00      0.00    349578\n",
            "\n"
          ]
        }
      ]
    }
  ]
}