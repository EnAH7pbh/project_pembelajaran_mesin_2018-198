{
  "cells": [
    {
      "cell_type": "markdown",
      "metadata": {
        "id": "view-in-github",
        "colab_type": "text"
      },
      "source": [
        "<a href=\"https://colab.research.google.com/github/ahmadcah/project_pembelajaran_mesin_2018-198/blob/main/GoogleColab/trainPlacesModel.ipynb\" target=\"_parent\"><img src=\"https://colab.research.google.com/assets/colab-badge.svg\" alt=\"Open In Colab\"/></a>"
      ]
    },
    {
      "cell_type": "markdown",
      "metadata": {
        "id": "73QPcRfpiKhR"
      },
      "source": [
        "# **DATA**"
      ]
    },
    {
      "cell_type": "code",
      "execution_count": null,
      "metadata": {
        "colab": {
          "base_uri": "https://localhost:8080/"
        },
        "id": "PW4EBpzEZ47Z",
        "outputId": "ed599bd0-4440-4378-ec52-5ad32d8a37d0"
      },
      "outputs": [
        {
          "output_type": "execute_result",
          "data": {
            "text/plain": [
              "4"
            ]
          },
          "metadata": {},
          "execution_count": 1
        }
      ],
      "source": [
        "import multiprocessing\n",
        "multiprocessing.cpu_count()"
      ]
    },
    {
      "cell_type": "code",
      "execution_count": null,
      "metadata": {
        "id": "FWzv0Bkd12Ac"
      },
      "outputs": [],
      "source": [
        "!rm -rf /content/p365s"
      ]
    },
    {
      "cell_type": "code",
      "execution_count": null,
      "metadata": {
        "id": "UOs5GZ65o1wK"
      },
      "outputs": [],
      "source": [
        "!rm -rf /content/places365_standard"
      ]
    },
    {
      "cell_type": "code",
      "execution_count": null,
      "metadata": {
        "colab": {
          "base_uri": "https://localhost:8080/"
        },
        "id": "Jfk1PKhzUMIR",
        "outputId": "0793f80d-720a-4933-c0a5-94c1bf3114bc"
      },
      "outputs": [
        {
          "name": "stdout",
          "output_type": "stream",
          "text": [
            "Collecting patool\n",
            "  Downloading patool-1.12-py2.py3-none-any.whl (77 kB)\n",
            "\u001b[?25l\r\u001b[K     |████▎                           | 10 kB 22.8 MB/s eta 0:00:01\r\u001b[K     |████████▌                       | 20 kB 27.0 MB/s eta 0:00:01\r\u001b[K     |████████████▊                   | 30 kB 11.3 MB/s eta 0:00:01\r\u001b[K     |█████████████████               | 40 kB 9.3 MB/s eta 0:00:01\r\u001b[K     |█████████████████████▏          | 51 kB 5.2 MB/s eta 0:00:01\r\u001b[K     |█████████████████████████▍      | 61 kB 5.7 MB/s eta 0:00:01\r\u001b[K     |█████████████████████████████▋  | 71 kB 5.7 MB/s eta 0:00:01\r\u001b[K     |████████████████████████████████| 77 kB 3.4 MB/s \n",
            "\u001b[?25hInstalling collected packages: patool\n",
            "Successfully installed patool-1.12\n"
          ]
        }
      ],
      "source": [
        "!pip install patool"
      ]
    },
    {
      "cell_type": "code",
      "execution_count": null,
      "metadata": {
        "colab": {
          "base_uri": "https://localhost:8080/"
        },
        "id": "cXUMm8IaTqcU",
        "outputId": "92d3deb0-b775-4d8f-a447-c6468be3c274"
      },
      "outputs": [
        {
          "name": "stdout",
          "output_type": "stream",
          "text": [
            "patool: Extracting /content/drive/MyDrive/Data/p365s.rar ...\n",
            "patool: running /usr/bin/unrar x -- /content/drive/MyDrive/Data/p365s.rar\n",
            "patool:     with cwd='/content/'\n",
            "patool: ... /content/drive/MyDrive/Data/p365s.rar extracted to `/content/'.\n"
          ]
        },
        {
          "data": {
            "application/vnd.google.colaboratory.intrinsic+json": {
              "type": "string"
            },
            "text/plain": [
              "'/content/'"
            ]
          },
          "execution_count": 2,
          "metadata": {},
          "output_type": "execute_result"
        }
      ],
      "source": [
        "import patoolib\n",
        "patoolib.extract_archive(\"/content/drive/MyDrive/Data/p365s.rar\", outdir=\"/content/\")"
      ]
    },
    {
      "cell_type": "code",
      "execution_count": null,
      "metadata": {
        "colab": {
          "base_uri": "https://localhost:8080/"
        },
        "id": "NKODS3ftLuoe",
        "outputId": "b54b36c9-c2d4-4f73-a7f1-b9c8ec8d47aa"
      },
      "outputs": [
        {
          "name": "stdout",
          "output_type": "stream",
          "text": [
            "Reading package lists... Done\n",
            "Building dependency tree       \n",
            "Reading state information... Done\n",
            "The following NEW packages will be installed:\n",
            "  rar\n",
            "0 upgraded, 1 newly installed, 0 to remove and 37 not upgraded.\n",
            "Need to get 295 kB of archives.\n",
            "After this operation, 799 kB of additional disk space will be used.\n",
            "Get:1 http://archive.ubuntu.com/ubuntu bionic/multiverse amd64 rar amd64 2:5.5.0-1 [295 kB]\n",
            "Fetched 295 kB in 1s (336 kB/s)\n",
            "Selecting previously unselected package rar.\n",
            "(Reading database ... 155222 files and directories currently installed.)\n",
            "Preparing to unpack .../rar_2%3a5.5.0-1_amd64.deb ...\n",
            "Unpacking rar (2:5.5.0-1) ...\n",
            "Setting up rar (2:5.5.0-1) ...\n",
            "Processing triggers for man-db (2.8.3-2ubuntu0.1) ...\n"
          ]
        }
      ],
      "source": [
        "!apt-get install rar"
      ]
    },
    {
      "cell_type": "code",
      "execution_count": null,
      "metadata": {
        "id": "elK6Cya3K9_6"
      },
      "outputs": [],
      "source": [
        "!rar a /content/drive/MyDrive/Data/p365s.rar /content/p365s"
      ]
    },
    {
      "cell_type": "code",
      "execution_count": null,
      "metadata": {
        "id": "nCTlnm1CM6yX"
      },
      "outputs": [],
      "source": [
        "import tarfile\n",
        "\n",
        "tar = tarfile.open(\"/content/drive/MyDrive/Data/places365standard_easyformat.tar\", \"r:\")\n",
        "tar.extractall(path='/content')\n",
        "tar.close()"
      ]
    },
    {
      "cell_type": "markdown",
      "metadata": {
        "id": "VtgBG9lliXrm"
      },
      "source": [
        "# **Preprocessing**"
      ]
    },
    {
      "cell_type": "code",
      "execution_count": null,
      "metadata": {
        "id": "AgNPcB4Mt6V4"
      },
      "outputs": [],
      "source": [
        "import os\n",
        "\n",
        "def count_file(target):\n",
        "  totalImageFile = 0\n",
        "  for f in os.listdir(target):\n",
        "    for i in os.listdir(target+\"/\"+f):\n",
        "      totalImageFile +=1\n",
        "  print(totalImageFile)"
      ]
    },
    {
      "cell_type": "code",
      "execution_count": null,
      "metadata": {
        "colab": {
          "base_uri": "https://localhost:8080/"
        },
        "id": "9RTfU10BKBaY",
        "outputId": "5dcd3d65-4a7a-4b6d-d86e-6b9327eb8297"
      },
      "outputs": [
        {
          "data": {
            "text/plain": [
              "32512"
            ]
          },
          "execution_count": 13,
          "metadata": {},
          "output_type": "execute_result"
        }
      ],
      "source": [
        "os.system('')"
      ]
    },
    {
      "cell_type": "code",
      "execution_count": null,
      "metadata": {
        "colab": {
          "base_uri": "https://localhost:8080/"
        },
        "id": "jFJcZb7OppX0",
        "outputId": "b04d19b5-74d7-4567-91e0-1a5fe9ee3e27"
      },
      "outputs": [
        {
          "name": "stdout",
          "output_type": "stream",
          "text": [
            "1803460\n",
            "36500\n"
          ]
        }
      ],
      "source": [
        "count_file(\"/content/places365_standard/train\")\n",
        "count_file(\"/content/places365_standard/val\")"
      ]
    },
    {
      "cell_type": "code",
      "execution_count": null,
      "metadata": {
        "id": "8VQUgjtNukKT"
      },
      "outputs": [],
      "source": [
        "import shutil\n",
        "valF = \"/content/places365_standard/val\"\n",
        "for f in os.listdir(valF):\n",
        "  t = valF+\"/\"+f\n",
        "  for i in os.listdir(t):\n",
        "    original = t+\"/\"+i\n",
        "    target = '/content/places365_standard/train/'+f+\"/\"+i\n",
        "    shutil.move(original,target)"
      ]
    },
    {
      "cell_type": "code",
      "execution_count": null,
      "metadata": {
        "colab": {
          "base_uri": "https://localhost:8080/"
        },
        "id": "4GcK88sawy6j",
        "outputId": "3e0082e1-dadf-4cbb-8046-5794ca0663f4"
      },
      "outputs": [
        {
          "name": "stdout",
          "output_type": "stream",
          "text": [
            "1839960\n",
            "0\n"
          ]
        }
      ],
      "source": [
        "count_file(\"/content/places365_standard/train\")\n",
        "count_file(\"/content/places365_standard/val\")"
      ]
    },
    {
      "cell_type": "code",
      "execution_count": null,
      "metadata": {
        "id": "0GJnqlBHxar9"
      },
      "outputs": [],
      "source": [
        "root = \"/content/p365s\"\n",
        "train_dir = \"/content/p365s/train\"\n",
        "valid_dir = \"/content/p365s/valid\"\n",
        "testi_dir = \"/content/p365s/testing\" \n",
        "os.mkdir(root)\n",
        "os.mkdir(train_dir)\n",
        "os.mkdir(valid_dir)\n",
        "os.mkdir(testi_dir)\n",
        "for i in os.listdir(\"/content/places365_standard/train\"):\n",
        "  os.mkdir(train_dir+\"/\"+i)\n",
        "  os.mkdir(valid_dir+\"/\"+i)\n",
        "  os.mkdir(testi_dir+\"/\"+i)"
      ]
    },
    {
      "cell_type": "code",
      "execution_count": null,
      "metadata": {
        "colab": {
          "base_uri": "https://localhost:8080/"
        },
        "id": "yqWPL2RKytoA",
        "outputId": "a3f7b64e-1bd8-4806-aedb-d65deaa0dca9"
      },
      "outputs": [
        {
          "name": "stdout",
          "output_type": "stream",
          "text": [
            "365\n",
            "365\n",
            "365\n"
          ]
        }
      ],
      "source": [
        "print(len(os.listdir(train_dir)))\n",
        "print(len(os.listdir(valid_dir)))\n",
        "print(len(os.listdir(testi_dir)))"
      ]
    },
    {
      "cell_type": "code",
      "execution_count": null,
      "metadata": {
        "id": "_eO5Ww0_pEQ4"
      },
      "outputs": [],
      "source": [
        "import random\n",
        "\n",
        "def split_data(SOURCE, TRAINING, VALIDATION, TESTING, VAL_SIZE, TEST_SIZE):\n",
        "    l = len(os.listdir(SOURCE))\n",
        "    VAL_limit = int(l * VAL_SIZE)\n",
        "    TEST_limit = int(l * TEST_SIZE)\n",
        "    for i, f in enumerate(random.sample(os.listdir(SOURCE), l)):\n",
        "        if os.path.getsize(SOURCE + \"/\" + f) > 0:\n",
        "            if i < TEST_limit:\n",
        "                shutil.move(SOURCE + \"/\" + f, TESTING + \"/\" + f)\n",
        "            elif i >= TEST_limit and i < VAL_limit+TEST_limit:\n",
        "                shutil.move(SOURCE + \"/\" + f, VALIDATION + \"/\" + f)\n",
        "            else:\n",
        "              shutil.move(SOURCE + \"/\" + f, TRAINING + \"/\" + f)\n",
        "        else:\n",
        "            print(f + \" is zero length, so ignoring\")"
      ]
    },
    {
      "cell_type": "code",
      "execution_count": null,
      "metadata": {
        "id": "89x428NEzh9C"
      },
      "outputs": [],
      "source": [
        "roots = \"/content/places365_standard/train\"\n",
        "for f in os.listdir(roots):\n",
        "  SOURCE = roots+\"/\"+f\n",
        "  TRAINING = train_dir+\"/\"+f\n",
        "  VALIDATION = valid_dir+\"/\"+f\n",
        "  TESTING = testi_dir+\"/\"+f\n",
        "  VAL_SIZE = 0.19\n",
        "  TEST_SIZE = 0.01\n",
        "  split_data(SOURCE, TRAINING, VALIDATION, TESTING, VAL_SIZE, TEST_SIZE)"
      ]
    },
    {
      "cell_type": "code",
      "execution_count": null,
      "metadata": {
        "colab": {
          "base_uri": "https://localhost:8080/"
        },
        "id": "vy3IrrKM7hR-",
        "outputId": "fe8c4ccb-7496-4bdc-994d-bc19e0ad4f9b"
      },
      "outputs": [
        {
          "name": "stdout",
          "output_type": "stream",
          "text": [
            "0\n",
            "0\n"
          ]
        }
      ],
      "source": [
        "count_file(\"/content/places365_standard/train\")\n",
        "count_file(\"/content/places365_standard/val\")"
      ]
    },
    {
      "cell_type": "code",
      "execution_count": null,
      "metadata": {
        "id": "_I5WLaOHYC5I"
      },
      "outputs": [],
      "source": [
        "train_dir = \"/content/content/p365s/train\"\n",
        "valid_dir = \"/content/content/p365s/valid\"\n",
        "testi_dir = \"/content/content/p365s/testing\""
      ]
    },
    {
      "cell_type": "code",
      "execution_count": null,
      "metadata": {
        "id": "ja2_PlAeNrO3",
        "colab": {
          "base_uri": "https://localhost:8080/"
        },
        "outputId": "99ed0da1-f09d-416f-e865-6c21f67ca9ca"
      },
      "outputs": [
        {
          "output_type": "stream",
          "name": "stdout",
          "text": [
            "Found 1803460 images belonging to 365 classes.\n",
            "Found 36500 images belonging to 365 classes.\n"
          ]
        }
      ],
      "source": [
        "from tensorflow.keras.preprocessing.image import ImageDataGenerator\n",
        "\n",
        "bs = 64\n",
        "ts = (100,100)\n",
        "cm = 'categorical'\n",
        "s = True\n",
        "training_datagen = ImageDataGenerator(rescale = 1./255,\n",
        "rotation_range = 30,\n",
        "width_shift_range = 0.1,\n",
        "height_shift_range=0.1,\n",
        "shear_range=0.2,\n",
        "zoom_range=0.8,\n",
        "horizontal_flip=True,\n",
        "fill_mode='nearest')\n",
        "\n",
        "train_generator = training_datagen.flow_from_directory(\n",
        "    '/content/places365_standard/train',\n",
        "    target_size=ts,\n",
        "    class_mode= cm,\n",
        "    shuffle=s,\n",
        "  batch_size=bs)\n",
        "\n",
        "validation_datagen = ImageDataGenerator(rescale = 1./255)\n",
        "\n",
        "validation_generator = validation_datagen.flow_from_directory(\n",
        "    '/content/places365_standard/val',\n",
        "    target_size=ts,\n",
        "    class_mode=cm,\n",
        "    shuffle=s,\n",
        "  batch_size=bs)\n"
      ]
    },
    {
      "cell_type": "markdown",
      "metadata": {
        "id": "wzN3p8kzihwN"
      },
      "source": [
        "# **Save Classes**"
      ]
    },
    {
      "cell_type": "code",
      "execution_count": null,
      "metadata": {
        "id": "X54fqSGq2NAj"
      },
      "outputs": [],
      "source": [
        "lc = [i for i in validation_generator.class_indices.keys()]"
      ]
    },
    {
      "cell_type": "code",
      "execution_count": null,
      "metadata": {
        "id": "9DTmA88QsCa2"
      },
      "outputs": [],
      "source": [
        "import pickle\n",
        "\n",
        "with open('/content/drive/MyDrive/Data/classlist', 'wb') as fp:\n",
        "    pickle.dump(lc, fp)"
      ]
    },
    {
      "cell_type": "code",
      "execution_count": null,
      "metadata": {
        "id": "YyqNsOcV8YOE"
      },
      "outputs": [],
      "source": [
        "with open ('/content/drive/MyDrive/Data/classlist', 'rb') as fp:\n",
        "    itemlist = pickle.load(fp)\n",
        "itemlist"
      ]
    },
    {
      "cell_type": "markdown",
      "metadata": {
        "id": "iVLuWbgbirF4"
      },
      "source": [
        "# **HPARAMS**"
      ]
    },
    {
      "cell_type": "code",
      "execution_count": null,
      "metadata": {
        "id": "KH8htCQgVsjx"
      },
      "outputs": [],
      "source": [
        "from tensorboard.plugins.hparams import api as hp\n",
        "import tensorflow as tf\n",
        "HP_NUM_UNITS = hp.HParam('num_units', hp.Discrete([128]))\n",
        "HP_OPTIMIZER = hp.HParam('optimizer', hp.Discrete(['adam', 'sgd', 'rmsprop']))\n",
        "\n",
        "METRIC_ACCURACY = 'acc'\n",
        "\n",
        "with tf.summary.create_file_writer('logs/hparam_tuning').as_default():\n",
        "  hp.hparams_config(\n",
        "    hparams=[HP_NUM_UNITS, HP_OPTIMIZER],\n",
        "    metrics=[hp.Metric(METRIC_ACCURACY, display_name='Accuracy')],\n",
        "  )"
      ]
    },
    {
      "cell_type": "code",
      "execution_count": null,
      "metadata": {
        "id": "_O8Xi-6-U-6Q"
      },
      "outputs": [],
      "source": [
        "from tensorflow.keras.models import Sequential\n",
        "from tensorflow.keras.layers import Conv2D, MaxPooling2D, Flatten, Dense, Dropout, BatchNormalization\n",
        "from tensorflow.keras.regularizers import L2\n",
        "import multiprocessing\n",
        "\n",
        "w = multiprocessing.cpu_count()\n",
        "spe = 1024\n",
        "vs = 512\n",
        "\n",
        "def train_test_model(hparams):\n",
        "  model = Sequential([Conv2D(filters=64, kernel_size=3, input_shape=(224,224,3)),\n",
        "                      BatchNormalization(),\n",
        "                      Conv2D(filters=64, kernel_size=3, kernel_regularizer=L2(0.0002),  activation='relu', padding = 'same'),\n",
        "                      BatchNormalization(),\n",
        "                      MaxPooling2D(pool_size=(2, 2), strides=(2, 2)),\n",
        "\n",
        "                      Conv2D(filters=128, kernel_size=3, kernel_regularizer=L2(0.0002),  activation='relu', padding = 'same'),\n",
        "                      BatchNormalization(),\n",
        "                      Conv2D(filters=128, kernel_size=3, kernel_regularizer=L2(0.0002),  activation='relu', padding = 'same'),\n",
        "                      BatchNormalization(),\n",
        "                      MaxPooling2D(pool_size=(2, 2), strides=(2, 2)),\n",
        "\n",
        "                      Conv2D(filters=256, kernel_size=3, kernel_regularizer=L2(0.0002),  activation='relu', padding = 'same'),\n",
        "                      BatchNormalization(),\n",
        "                      Conv2D(filters=256, kernel_size=3, kernel_regularizer=L2(0.0002),  activation='relu', padding = 'same'),\n",
        "                      BatchNormalization(),\n",
        "                      Conv2D(filters=256, kernel_size=3, kernel_regularizer=L2(0.0002),  activation='relu', padding = 'same'),\n",
        "                      BatchNormalization(),\n",
        "                      MaxPooling2D(pool_size=(2, 2), strides=(2, 2)),\n",
        "\n",
        "                      Conv2D(filters=512, kernel_size=3, kernel_regularizer=L2(0.0002),  activation='relu', padding = 'same'),\n",
        "                      BatchNormalization(),\n",
        "                      Conv2D(filters=512, kernel_size=3, kernel_regularizer=L2(0.0002),  activation='relu', padding = 'same'),\n",
        "                      BatchNormalization(),\n",
        "                      Conv2D(filters=512, kernel_size=3, kernel_regularizer=L2(0.0002),  activation='relu', padding = 'same'),\n",
        "                      BatchNormalization(),\n",
        "                      MaxPooling2D(pool_size=(2, 2), strides=(2, 2)),\n",
        "                                    \n",
        "                      Conv2D(filters=512, kernel_size=3, kernel_regularizer=L2(0.0002),  activation='relu', padding = 'same'),\n",
        "                      BatchNormalization(),\n",
        "                      Conv2D(filters=512, kernel_size=3, kernel_regularizer=L2(0.0002),  activation='relu', padding = 'same'),\n",
        "                      BatchNormalization(),\n",
        "                      Conv2D(filters=512, kernel_size=3, kernel_regularizer=L2(0.0002),  activation='relu', padding = 'same'),\n",
        "                      BatchNormalization(),\n",
        "                      MaxPooling2D(pool_size=(2, 2), strides=(2, 2)),\n",
        "\n",
        "                      Flatten(),                         \n",
        "                      Dense(hparams[HP_NUM_UNITS], activation='ReLU'),\n",
        "                      Dropout(0.2),\n",
        "                      Dense(hparams[HP_NUM_UNITS], activation='ReLU'),\n",
        "                      Dropout(0.2),\n",
        "                      Dense(365, activation='softmax')])\n",
        "\n",
        "  model.compile(\n",
        "      optimizer=hparams[HP_OPTIMIZER],\n",
        "      loss='categorical_crossentropy',\n",
        "      metrics=['acc'],\n",
        "  )\n",
        "\n",
        "  hist = model.fit(train_generator, \n",
        "            validation_data=validation_generator, \n",
        "            epochs=5,\n",
        "            steps_per_epoch=spe,\n",
        "            validation_steps=vs,\n",
        "            workers = w)\n",
        "  _, accuracy = model.evaluate(validation_generator)\n",
        "  return hist, model, accuracy"
      ]
    },
    {
      "cell_type": "code",
      "execution_count": null,
      "metadata": {
        "id": "NiDwJmlpVMmJ"
      },
      "outputs": [],
      "source": [
        "def run(run_dir, hparams):\n",
        "  with tf.summary.create_file_writer(run_dir).as_default():\n",
        "    hp.hparams(hparams)  # record the values used in this trial\n",
        "    mh,mm,acc = train_test_model(hparams)\n",
        "    tf.summary.scalar(METRIC_ACCURACY, acc, step=5)\n",
        "  return [mh,mm]"
      ]
    },
    {
      "cell_type": "code",
      "execution_count": null,
      "metadata": {
        "colab": {
          "base_uri": "https://localhost:8080/"
        },
        "id": "kgtrJZ9SVP1W",
        "outputId": "6e3679ac-1665-47a1-d103-8091dd455f17"
      },
      "outputs": [
        {
          "name": "stdout",
          "output_type": "stream",
          "text": [
            "--- Starting trial: run-0\n",
            "{'num_units': 128, 'optimizer': 'adam'}\n",
            "Epoch 1/5\n",
            "1024/1024 [==============================] - 367s 355ms/step - loss: 6.3879 - acc: 0.0027 - val_loss: 6.1144 - val_acc: 0.0028\n",
            "Epoch 2/5\n",
            "1024/1024 [==============================] - 363s 353ms/step - loss: 6.0082 - acc: 0.0027 - val_loss: 5.9798 - val_acc: 0.0027\n",
            "Epoch 3/5\n",
            "1024/1024 [==============================] - 360s 350ms/step - loss: 5.9850 - acc: 0.0027 - val_loss: 5.9429 - val_acc: 0.0028\n",
            "Epoch 4/5\n",
            "1024/1024 [==============================] - 360s 350ms/step - loss: 5.9337 - acc: 0.0026 - val_loss: 5.9832 - val_acc: 0.0028\n",
            "Epoch 5/5\n",
            "1024/1024 [==============================] - 358s 349ms/step - loss: 5.9080 - acc: 0.0028 - val_loss: 5.9028 - val_acc: 0.0027\n",
            "286/286 [==============================] - 52s 181ms/step - loss: 5.9027 - acc: 0.0027\n",
            "--- Starting trial: run-1\n",
            "{'num_units': 128, 'optimizer': 'rmsprop'}\n",
            "Epoch 1/5\n",
            "1024/1024 [==============================] - 397s 383ms/step - loss: 6.0719 - acc: 0.0032 - val_loss: 5.9573 - val_acc: 0.0026\n",
            "Epoch 2/5\n",
            "1024/1024 [==============================] - 364s 354ms/step - loss: 5.9517 - acc: 0.0030 - val_loss: 5.9181 - val_acc: 0.0028\n",
            "Epoch 3/5\n",
            "1024/1024 [==============================] - 361s 351ms/step - loss: 5.9031 - acc: 0.0040 - val_loss: 5.9374 - val_acc: 0.0028\n",
            "Epoch 4/5\n",
            "1024/1024 [==============================] - 358s 349ms/step - loss: 5.8703 - acc: 0.0047 - val_loss: 6.0798 - val_acc: 0.0036\n",
            "Epoch 5/5\n",
            "1024/1024 [==============================] - 359s 350ms/step - loss: 5.8565 - acc: 0.0049 - val_loss: 6.1782 - val_acc: 0.0042\n",
            "286/286 [==============================] - 52s 180ms/step - loss: 6.1783 - acc: 0.0043\n",
            "--- Starting trial: run-2\n",
            "{'num_units': 128, 'optimizer': 'sgd'}\n",
            "Epoch 1/5\n",
            "1024/1024 [==============================] - 355s 344ms/step - loss: 6.6758 - acc: 0.0033 - val_loss: 6.6564 - val_acc: 0.0043\n",
            "Epoch 2/5\n",
            "1024/1024 [==============================] - 355s 346ms/step - loss: 6.6351 - acc: 0.0059 - val_loss: 6.5736 - val_acc: 0.0092\n",
            "Epoch 3/5\n",
            "1024/1024 [==============================] - 355s 345ms/step - loss: 6.5323 - acc: 0.0099 - val_loss: 6.3891 - val_acc: 0.0185\n",
            "Epoch 4/5\n",
            "1024/1024 [==============================] - 358s 349ms/step - loss: 6.3894 - acc: 0.0147 - val_loss: 6.2327 - val_acc: 0.0230\n",
            "Epoch 5/5\n",
            "1024/1024 [==============================] - 388s 378ms/step - loss: 6.2637 - acc: 0.0179 - val_loss: 6.0317 - val_acc: 0.0327\n",
            "286/286 [==============================] - 52s 180ms/step - loss: 6.0324 - acc: 0.0327\n"
          ]
        }
      ],
      "source": [
        "modelHist= []\n",
        "modelList =[]\n",
        "session_num = 0\n",
        "\n",
        "for num_units in HP_NUM_UNITS.domain.values:\n",
        "    for optimizer in HP_OPTIMIZER.domain.values:\n",
        "      hparams = {\n",
        "          HP_NUM_UNITS: num_units,\n",
        "          HP_OPTIMIZER: optimizer}\n",
        "      run_name = \"run-%d\" % session_num\n",
        "      print('--- Starting trial: %s' % run_name)\n",
        "      print({h.name: hparams[h] for h in hparams})\n",
        "      temp = run('logs/hparam_tuning/' + run_name, hparams)\n",
        "      modelHist.append(temp[0])  \n",
        "      modelList.append(temp[1]) \n",
        "      session_num += 1"
      ]
    },
    {
      "cell_type": "code",
      "execution_count": null,
      "metadata": {
        "id": "olHRv1KMlQUZ"
      },
      "outputs": [],
      "source": [
        "%load_ext tensorboard"
      ]
    },
    {
      "cell_type": "code",
      "execution_count": null,
      "metadata": {
        "id": "UbuMKCN2lRR5"
      },
      "outputs": [],
      "source": [
        "%tensorboard --logdir logs/hparam_tuning"
      ]
    },
    {
      "cell_type": "code",
      "execution_count": null,
      "metadata": {
        "id": "NoPZ-kBFmYTb"
      },
      "outputs": [],
      "source": [
        "!mv /content/logs /content/drive/MyDrive/logs/placeLogs"
      ]
    },
    {
      "cell_type": "markdown",
      "metadata": {
        "id": "X9Z-s9Eni0K4"
      },
      "source": [
        "# **Model**"
      ]
    },
    {
      "cell_type": "code",
      "execution_count": null,
      "metadata": {
        "id": "2qKZeiZ6hOt-"
      },
      "outputs": [],
      "source": [
        "from tensorflow.keras.models import Sequential\n",
        "from tensorflow.keras.layers import Conv2D, MaxPooling2D, Flatten, Dense, Dropout, BatchNormalization\n",
        "from tensorflow.keras.regularizers import L2\n",
        "import multiprocessing\n",
        "\n",
        "w = multiprocessing.cpu_count()\n",
        "spe = 512\n",
        "vs = 256"
      ]
    },
    {
      "cell_type": "code",
      "execution_count": null,
      "metadata": {
        "colab": {
          "base_uri": "https://localhost:8080/"
        },
        "id": "0q6ecXrVSgw9",
        "outputId": "54c702e1-e420-4c1d-d079-a63e79c2641e"
      },
      "outputs": [
        {
          "output_type": "stream",
          "name": "stdout",
          "text": [
            "Model: \"sequential_2\"\n",
            "_________________________________________________________________\n",
            " Layer (type)                Output Shape              Param #   \n",
            "=================================================================\n",
            " conv2d_26 (Conv2D)          (None, 222, 222, 64)      1792      \n",
            "                                                                 \n",
            " batch_normalization_26 (Bat  (None, 222, 222, 64)     256       \n",
            " chNormalization)                                                \n",
            "                                                                 \n",
            " conv2d_27 (Conv2D)          (None, 222, 222, 64)      36928     \n",
            "                                                                 \n",
            " batch_normalization_27 (Bat  (None, 222, 222, 64)     256       \n",
            " chNormalization)                                                \n",
            "                                                                 \n",
            " max_pooling2d_10 (MaxPoolin  (None, 111, 111, 64)     0         \n",
            " g2D)                                                            \n",
            "                                                                 \n",
            " conv2d_28 (Conv2D)          (None, 111, 111, 128)     73856     \n",
            "                                                                 \n",
            " batch_normalization_28 (Bat  (None, 111, 111, 128)    512       \n",
            " chNormalization)                                                \n",
            "                                                                 \n",
            " conv2d_29 (Conv2D)          (None, 111, 111, 128)     147584    \n",
            "                                                                 \n",
            " batch_normalization_29 (Bat  (None, 111, 111, 128)    512       \n",
            " chNormalization)                                                \n",
            "                                                                 \n",
            " max_pooling2d_11 (MaxPoolin  (None, 55, 55, 128)      0         \n",
            " g2D)                                                            \n",
            "                                                                 \n",
            " conv2d_30 (Conv2D)          (None, 55, 55, 256)       295168    \n",
            "                                                                 \n",
            " batch_normalization_30 (Bat  (None, 55, 55, 256)      1024      \n",
            " chNormalization)                                                \n",
            "                                                                 \n",
            " conv2d_31 (Conv2D)          (None, 55, 55, 256)       590080    \n",
            "                                                                 \n",
            " batch_normalization_31 (Bat  (None, 55, 55, 256)      1024      \n",
            " chNormalization)                                                \n",
            "                                                                 \n",
            " conv2d_32 (Conv2D)          (None, 55, 55, 256)       590080    \n",
            "                                                                 \n",
            " batch_normalization_32 (Bat  (None, 55, 55, 256)      1024      \n",
            " chNormalization)                                                \n",
            "                                                                 \n",
            " max_pooling2d_12 (MaxPoolin  (None, 27, 27, 256)      0         \n",
            " g2D)                                                            \n",
            "                                                                 \n",
            " conv2d_33 (Conv2D)          (None, 27, 27, 512)       1180160   \n",
            "                                                                 \n",
            " batch_normalization_33 (Bat  (None, 27, 27, 512)      2048      \n",
            " chNormalization)                                                \n",
            "                                                                 \n",
            " conv2d_34 (Conv2D)          (None, 27, 27, 512)       2359808   \n",
            "                                                                 \n",
            " batch_normalization_34 (Bat  (None, 27, 27, 512)      2048      \n",
            " chNormalization)                                                \n",
            "                                                                 \n",
            " conv2d_35 (Conv2D)          (None, 27, 27, 512)       2359808   \n",
            "                                                                 \n",
            " batch_normalization_35 (Bat  (None, 27, 27, 512)      2048      \n",
            " chNormalization)                                                \n",
            "                                                                 \n",
            " max_pooling2d_13 (MaxPoolin  (None, 13, 13, 512)      0         \n",
            " g2D)                                                            \n",
            "                                                                 \n",
            " conv2d_36 (Conv2D)          (None, 13, 13, 512)       2359808   \n",
            "                                                                 \n",
            " batch_normalization_36 (Bat  (None, 13, 13, 512)      2048      \n",
            " chNormalization)                                                \n",
            "                                                                 \n",
            " conv2d_37 (Conv2D)          (None, 13, 13, 512)       2359808   \n",
            "                                                                 \n",
            " batch_normalization_37 (Bat  (None, 13, 13, 512)      2048      \n",
            " chNormalization)                                                \n",
            "                                                                 \n",
            " conv2d_38 (Conv2D)          (None, 13, 13, 512)       2359808   \n",
            "                                                                 \n",
            " batch_normalization_38 (Bat  (None, 13, 13, 512)      2048      \n",
            " chNormalization)                                                \n",
            "                                                                 \n",
            " max_pooling2d_14 (MaxPoolin  (None, 6, 6, 512)        0         \n",
            " g2D)                                                            \n",
            "                                                                 \n",
            " flatten_2 (Flatten)         (None, 18432)             0         \n",
            "                                                                 \n",
            " dense_6 (Dense)             (None, 4096)              75501568  \n",
            "                                                                 \n",
            " dropout_4 (Dropout)         (None, 4096)              0         \n",
            "                                                                 \n",
            " dense_7 (Dense)             (None, 4096)              16781312  \n",
            "                                                                 \n",
            " dropout_5 (Dropout)         (None, 4096)              0         \n",
            "                                                                 \n",
            " dense_8 (Dense)             (None, 365)               1495405   \n",
            "                                                                 \n",
            "=================================================================\n",
            "Total params: 108,509,869\n",
            "Trainable params: 108,501,421\n",
            "Non-trainable params: 8,448\n",
            "_________________________________________________________________\n"
          ]
        }
      ],
      "source": [
        "model = Sequential([Conv2D(filters=64, kernel_size=3, input_shape=(224,224,3)),\n",
        "                      BatchNormalization(),\n",
        "                      Conv2D(filters=64, kernel_size=3, kernel_regularizer=L2(0.0002),  activation='relu', padding = 'same'),\n",
        "                      BatchNormalization(),\n",
        "                      MaxPooling2D(pool_size=(2, 2), strides=(2, 2)),\n",
        "\n",
        "                      Conv2D(filters=128, kernel_size=3, kernel_regularizer=L2(0.0002),  activation='relu', padding = 'same'),\n",
        "                      BatchNormalization(),\n",
        "                      Conv2D(filters=128, kernel_size=3, kernel_regularizer=L2(0.0002),  activation='relu', padding = 'same'),\n",
        "                      BatchNormalization(),\n",
        "                      MaxPooling2D(pool_size=(2, 2), strides=(2, 2)),\n",
        "\n",
        "                      Conv2D(filters=256, kernel_size=3, kernel_regularizer=L2(0.0002),  activation='relu', padding = 'same'),\n",
        "                      BatchNormalization(),\n",
        "                      Conv2D(filters=256, kernel_size=3, kernel_regularizer=L2(0.0002),  activation='relu', padding = 'same'),\n",
        "                      BatchNormalization(),\n",
        "                      Conv2D(filters=256, kernel_size=3, kernel_regularizer=L2(0.0002),  activation='relu', padding = 'same'),\n",
        "                      BatchNormalization(),\n",
        "                      MaxPooling2D(pool_size=(2, 2), strides=(2, 2)),\n",
        "\n",
        "                      Conv2D(filters=512, kernel_size=3, kernel_regularizer=L2(0.0002),  activation='relu', padding = 'same'),\n",
        "                      BatchNormalization(),\n",
        "                      Conv2D(filters=512, kernel_size=3, kernel_regularizer=L2(0.0002),  activation='relu', padding = 'same'),\n",
        "                      BatchNormalization(),\n",
        "                      Conv2D(filters=512, kernel_size=3, kernel_regularizer=L2(0.0002),  activation='relu', padding = 'same'),\n",
        "                      BatchNormalization(),\n",
        "                      MaxPooling2D(pool_size=(2, 2), strides=(2, 2)),\n",
        "                                    \n",
        "                      Conv2D(filters=512, kernel_size=3, kernel_regularizer=L2(0.0002),  activation='relu', padding = 'same'),\n",
        "                      BatchNormalization(),\n",
        "                      Conv2D(filters=512, kernel_size=3, kernel_regularizer=L2(0.0002),  activation='relu', padding = 'same'),\n",
        "                      BatchNormalization(),\n",
        "                      Conv2D(filters=512, kernel_size=3, kernel_regularizer=L2(0.0002),  activation='relu', padding = 'same'),\n",
        "                      BatchNormalization(),\n",
        "                      MaxPooling2D(pool_size=(2, 2), strides=(2, 2)),\n",
        "\n",
        "                      Flatten(),                         \n",
        "                      Dense(4096, activation='ReLU'),\n",
        "                      Dropout(0.5),\n",
        "                      Dense(4096, activation='ReLU'),\n",
        "                      Dropout(0.5),\n",
        "                      Dense(365, activation='softmax')])\n",
        "model.summary()"
      ]
    },
    {
      "cell_type": "code",
      "execution_count": null,
      "metadata": {
        "id": "MUk0QNF08vrB"
      },
      "outputs": [],
      "source": [
        "import math\n",
        "import os\n",
        "import tensorflow as tf\n",
        "\n",
        "callbacksEarlyStopping = tf.keras.callbacks.EarlyStopping(monitor='loss', \n",
        "                                                          patience=10)\n",
        "\n",
        "class CallbackAccuracy(tf.keras.callbacks.Callback):\n",
        "    def on_epoch_end(self, epoch, logs=None):\n",
        "        if logs is None:\n",
        "            logs = {}\n",
        "        if logs.get('acc') > 0.98 and logs.get('val_acc') > 0.98:\n",
        "            self.model.stop_training = True\n",
        "\n",
        "initial_learning_rate = 0.001\n",
        "ep = 100\n",
        "decay = initial_learning_rate / ep \n",
        "def lr_time_based_decay(epoch,lr):\n",
        "  return lr * 1 / (1 + decay * epoch)\n",
        "\n",
        "lr_callback = tf.keras.callbacks.LearningRateScheduler(lr_time_based_decay)\n",
        "\n",
        "checkpoint_path = \"/content/drive/MyDrive/Model/places checkpoint/cp3.ckpt\"\n",
        "checkpoint_dir = os.path.dirname(checkpoint_path)\n",
        "\n",
        "# Create a callback that saves the model's weights\n",
        "cp_callback = tf.keras.callbacks.ModelCheckpoint(filepath=checkpoint_path,\n",
        "                                                 save_weights_only=True,\n",
        "                                                 verbose=1)"
      ]
    },
    {
      "cell_type": "code",
      "source": [
        "model.load_weights('/content/drive/MyDrive/Model/places checkpoint/cp2.ckpt')"
      ],
      "metadata": {
        "id": "aPMBqZKwcoOF"
      },
      "execution_count": null,
      "outputs": []
    },
    {
      "cell_type": "code",
      "execution_count": null,
      "metadata": {
        "id": "MCKoRvjMTZ2W"
      },
      "outputs": [],
      "source": [
        "from tensorflow.keras.optimizers import SGD\n",
        "model.compile(loss = 'categorical_crossentropy', \n",
        "              optimizer=SGD(learning_rate=initial_learning_rate,momentum=0.9), \n",
        "              metrics=['acc'])"
      ]
    },
    {
      "cell_type": "code",
      "source": [
        "from tensorflow.keras import backend as K\n",
        "K.set_value(model.optimizer.learning_rate, 0.001)"
      ],
      "metadata": {
        "id": "MFKc2H2GGk0h"
      },
      "execution_count": null,
      "outputs": []
    },
    {
      "cell_type": "code",
      "execution_count": null,
      "metadata": {
        "id": "QqGhcNmmNlhm"
      },
      "outputs": [],
      "source": [
        "from tensorflow.keras.models import load_model\n",
        "model = load_model('/content/drive/MyDrive/Model/places4.h5')"
      ]
    },
    {
      "cell_type": "code",
      "source": [
        "model.summary()"
      ],
      "metadata": {
        "colab": {
          "base_uri": "https://localhost:8080/"
        },
        "id": "mH_oYx46hrRj",
        "outputId": "e92f83bd-2911-4315-a230-cf289bca9a28"
      },
      "execution_count": null,
      "outputs": [
        {
          "output_type": "stream",
          "name": "stdout",
          "text": [
            "Model: \"sequential_2\"\n",
            "_________________________________________________________________\n",
            " Layer (type)                Output Shape              Param #   \n",
            "=================================================================\n",
            " conv2d_26 (Conv2D)          (None, 222, 222, 64)      1792      \n",
            "                                                                 \n",
            " batch_normalization_26 (Bat  (None, 222, 222, 64)     256       \n",
            " chNormalization)                                                \n",
            "                                                                 \n",
            " conv2d_27 (Conv2D)          (None, 222, 222, 64)      36928     \n",
            "                                                                 \n",
            " batch_normalization_27 (Bat  (None, 222, 222, 64)     256       \n",
            " chNormalization)                                                \n",
            "                                                                 \n",
            " max_pooling2d_10 (MaxPoolin  (None, 111, 111, 64)     0         \n",
            " g2D)                                                            \n",
            "                                                                 \n",
            " conv2d_28 (Conv2D)          (None, 111, 111, 128)     73856     \n",
            "                                                                 \n",
            " batch_normalization_28 (Bat  (None, 111, 111, 128)    512       \n",
            " chNormalization)                                                \n",
            "                                                                 \n",
            " conv2d_29 (Conv2D)          (None, 111, 111, 128)     147584    \n",
            "                                                                 \n",
            " batch_normalization_29 (Bat  (None, 111, 111, 128)    512       \n",
            " chNormalization)                                                \n",
            "                                                                 \n",
            " max_pooling2d_11 (MaxPoolin  (None, 55, 55, 128)      0         \n",
            " g2D)                                                            \n",
            "                                                                 \n",
            " conv2d_30 (Conv2D)          (None, 55, 55, 256)       295168    \n",
            "                                                                 \n",
            " batch_normalization_30 (Bat  (None, 55, 55, 256)      1024      \n",
            " chNormalization)                                                \n",
            "                                                                 \n",
            " conv2d_31 (Conv2D)          (None, 55, 55, 256)       590080    \n",
            "                                                                 \n",
            " batch_normalization_31 (Bat  (None, 55, 55, 256)      1024      \n",
            " chNormalization)                                                \n",
            "                                                                 \n",
            " conv2d_32 (Conv2D)          (None, 55, 55, 256)       590080    \n",
            "                                                                 \n",
            " batch_normalization_32 (Bat  (None, 55, 55, 256)      1024      \n",
            " chNormalization)                                                \n",
            "                                                                 \n",
            " max_pooling2d_12 (MaxPoolin  (None, 27, 27, 256)      0         \n",
            " g2D)                                                            \n",
            "                                                                 \n",
            " conv2d_33 (Conv2D)          (None, 27, 27, 512)       1180160   \n",
            "                                                                 \n",
            " batch_normalization_33 (Bat  (None, 27, 27, 512)      2048      \n",
            " chNormalization)                                                \n",
            "                                                                 \n",
            " conv2d_34 (Conv2D)          (None, 27, 27, 512)       2359808   \n",
            "                                                                 \n",
            " batch_normalization_34 (Bat  (None, 27, 27, 512)      2048      \n",
            " chNormalization)                                                \n",
            "                                                                 \n",
            " conv2d_35 (Conv2D)          (None, 27, 27, 512)       2359808   \n",
            "                                                                 \n",
            " batch_normalization_35 (Bat  (None, 27, 27, 512)      2048      \n",
            " chNormalization)                                                \n",
            "                                                                 \n",
            " max_pooling2d_13 (MaxPoolin  (None, 13, 13, 512)      0         \n",
            " g2D)                                                            \n",
            "                                                                 \n",
            " conv2d_36 (Conv2D)          (None, 13, 13, 512)       2359808   \n",
            "                                                                 \n",
            " batch_normalization_36 (Bat  (None, 13, 13, 512)      2048      \n",
            " chNormalization)                                                \n",
            "                                                                 \n",
            " conv2d_37 (Conv2D)          (None, 13, 13, 512)       2359808   \n",
            "                                                                 \n",
            " batch_normalization_37 (Bat  (None, 13, 13, 512)      2048      \n",
            " chNormalization)                                                \n",
            "                                                                 \n",
            " conv2d_38 (Conv2D)          (None, 13, 13, 512)       2359808   \n",
            "                                                                 \n",
            " batch_normalization_38 (Bat  (None, 13, 13, 512)      2048      \n",
            " chNormalization)                                                \n",
            "                                                                 \n",
            " max_pooling2d_14 (MaxPoolin  (None, 6, 6, 512)        0         \n",
            " g2D)                                                            \n",
            "                                                                 \n",
            " flatten_2 (Flatten)         (None, 18432)             0         \n",
            "                                                                 \n",
            " dense_6 (Dense)             (None, 4096)              75501568  \n",
            "                                                                 \n",
            " dropout_4 (Dropout)         (None, 4096)              0         \n",
            "                                                                 \n",
            " dense_7 (Dense)             (None, 4096)              16781312  \n",
            "                                                                 \n",
            " dropout_5 (Dropout)         (None, 4096)              0         \n",
            "                                                                 \n",
            " dense_8 (Dense)             (None, 365)               1495405   \n",
            "                                                                 \n",
            "=================================================================\n",
            "Total params: 108,509,869\n",
            "Trainable params: 108,501,421\n",
            "Non-trainable params: 8,448\n",
            "_________________________________________________________________\n"
          ]
        }
      ]
    },
    {
      "cell_type": "code",
      "execution_count": null,
      "metadata": {
        "colab": {
          "base_uri": "https://localhost:8080/"
        },
        "id": "z2__HbF6ToO2",
        "outputId": "03deab25-c90e-42e4-fa96-f1f18c7e8f81"
      },
      "outputs": [
        {
          "output_type": "stream",
          "name": "stdout",
          "text": [
            "Epoch 1/100\n",
            "  6/512 [..............................] - ETA: 58s - loss: 3.1429 - acc: 0.3125WARNING:tensorflow:Callback method `on_train_batch_end` is slow compared to the batch time (batch time: 0.0448s vs `on_train_batch_end` time: 0.0571s). Check your callbacks.\n",
            "512/512 [==============================] - ETA: 0s - loss: 3.0858 - acc: 0.3230\n",
            "Epoch 00001: saving model to /content/drive/MyDrive/Model/places checkpoint/cp3.ckpt\n",
            "512/512 [==============================] - 97s 167ms/step - loss: 3.0858 - acc: 0.3230 - val_loss: 2.6727 - val_acc: 0.3957 - lr: 9.5172e-04\n",
            "Epoch 2/100\n",
            "512/512 [==============================] - ETA: 0s - loss: 3.1105 - acc: 0.3240\n",
            "Epoch 00002: saving model to /content/drive/MyDrive/Model/places checkpoint/cp3.ckpt\n",
            "512/512 [==============================] - 84s 164ms/step - loss: 3.1105 - acc: 0.3240 - val_loss: 2.7909 - val_acc: 0.3734 - lr: 9.5171e-04\n",
            "Epoch 3/100\n",
            "512/512 [==============================] - ETA: 0s - loss: 3.1235 - acc: 0.3161\n",
            "Epoch 00003: saving model to /content/drive/MyDrive/Model/places checkpoint/cp3.ckpt\n",
            "512/512 [==============================] - 82s 160ms/step - loss: 3.1235 - acc: 0.3161 - val_loss: 2.6813 - val_acc: 0.3965 - lr: 9.5169e-04\n",
            "Epoch 4/100\n",
            "512/512 [==============================] - ETA: 0s - loss: 3.1026 - acc: 0.3228\n",
            "Epoch 00004: saving model to /content/drive/MyDrive/Model/places checkpoint/cp3.ckpt\n",
            "512/512 [==============================] - 82s 159ms/step - loss: 3.1026 - acc: 0.3228 - val_loss: 2.7955 - val_acc: 0.3661 - lr: 9.5166e-04\n",
            "Epoch 5/100\n",
            "512/512 [==============================] - ETA: 0s - loss: 3.1092 - acc: 0.3275\n",
            "Epoch 00005: saving model to /content/drive/MyDrive/Model/places checkpoint/cp3.ckpt\n",
            "512/512 [==============================] - 82s 158ms/step - loss: 3.1092 - acc: 0.3275 - val_loss: 2.6837 - val_acc: 0.3936 - lr: 9.5163e-04\n",
            "Epoch 6/100\n",
            "512/512 [==============================] - ETA: 0s - loss: 3.1152 - acc: 0.3239\n",
            "Epoch 00006: saving model to /content/drive/MyDrive/Model/places checkpoint/cp3.ckpt\n",
            "512/512 [==============================] - 82s 159ms/step - loss: 3.1152 - acc: 0.3239 - val_loss: 2.7345 - val_acc: 0.3771 - lr: 9.5158e-04\n",
            "Epoch 7/100\n",
            "512/512 [==============================] - ETA: 0s - loss: 3.1112 - acc: 0.3204\n",
            "Epoch 00007: saving model to /content/drive/MyDrive/Model/places checkpoint/cp3.ckpt\n",
            "512/512 [==============================] - 82s 160ms/step - loss: 3.1112 - acc: 0.3204 - val_loss: 2.7456 - val_acc: 0.3777 - lr: 9.5152e-04\n",
            "Epoch 8/100\n",
            "512/512 [==============================] - ETA: 0s - loss: 3.1410 - acc: 0.3177\n",
            "Epoch 00008: saving model to /content/drive/MyDrive/Model/places checkpoint/cp3.ckpt\n",
            "512/512 [==============================] - 81s 157ms/step - loss: 3.1410 - acc: 0.3177 - val_loss: 2.7322 - val_acc: 0.3835 - lr: 9.5145e-04\n",
            "Epoch 9/100\n",
            "512/512 [==============================] - ETA: 0s - loss: 3.1140 - acc: 0.3246\n",
            "Epoch 00009: saving model to /content/drive/MyDrive/Model/places checkpoint/cp3.ckpt\n",
            "512/512 [==============================] - 81s 158ms/step - loss: 3.1140 - acc: 0.3246 - val_loss: 2.7042 - val_acc: 0.3903 - lr: 9.5138e-04\n",
            "Epoch 10/100\n",
            "512/512 [==============================] - ETA: 0s - loss: 3.1283 - acc: 0.3181\n",
            "Epoch 00010: saving model to /content/drive/MyDrive/Model/places checkpoint/cp3.ckpt\n",
            "512/512 [==============================] - 82s 160ms/step - loss: 3.1283 - acc: 0.3181 - val_loss: 2.7787 - val_acc: 0.3790 - lr: 9.5129e-04\n",
            "Epoch 11/100\n",
            "512/512 [==============================] - ETA: 0s - loss: 3.1002 - acc: 0.3242\n",
            "Epoch 00011: saving model to /content/drive/MyDrive/Model/places checkpoint/cp3.ckpt\n",
            "512/512 [==============================] - 81s 158ms/step - loss: 3.1002 - acc: 0.3242 - val_loss: 2.7166 - val_acc: 0.3895 - lr: 9.5120e-04\n"
          ]
        }
      ],
      "source": [
        "history = model.fit(train_generator, \n",
        "                    epochs=100, \n",
        "                    steps_per_epoch=spe,\n",
        "                    validation_data = validation_generator, \n",
        "                    verbose = 1, \n",
        "                    validation_steps=vs,\n",
        "                    workers = w,\n",
        "                    callbacks=[lr_callback,\n",
        "                               callbacksEarlyStopping,\n",
        "                               CallbackAccuracy(),\n",
        "                               cp_callback])"
      ]
    },
    {
      "cell_type": "code",
      "execution_count": null,
      "metadata": {
        "id": "C3ta58suU4nw"
      },
      "outputs": [],
      "source": [
        "model.save('/content/drive/MyDrive/Model/places4.h5')"
      ]
    },
    {
      "cell_type": "markdown",
      "metadata": {
        "id": "jaUa9cyDi_8r"
      },
      "source": [
        "# **Evaluation**"
      ]
    },
    {
      "cell_type": "code",
      "execution_count": null,
      "metadata": {
        "id": "NEKB0OuZetFa",
        "colab": {
          "base_uri": "https://localhost:8080/",
          "height": 797
        },
        "outputId": "20423427-9147-4af3-ec51-9de06d7fbc00"
      },
      "outputs": [
        {
          "output_type": "error",
          "ename": "ValueError",
          "evalue": "ignored",
          "traceback": [
            "\u001b[0;31m---------------------------------------------------------------------------\u001b[0m",
            "\u001b[0;31mValueError\u001b[0m                                Traceback (most recent call last)",
            "\u001b[0;32m<ipython-input-8-c9e8bd231a4c>\u001b[0m in \u001b[0;36m<module>\u001b[0;34m()\u001b[0m\n\u001b[1;32m      6\u001b[0m \u001b[0mplt\u001b[0m\u001b[0;34m.\u001b[0m\u001b[0mstyle\u001b[0m\u001b[0;34m.\u001b[0m\u001b[0muse\u001b[0m\u001b[0;34m(\u001b[0m\u001b[0;34m\"ggplot\"\u001b[0m\u001b[0;34m)\u001b[0m\u001b[0;34m\u001b[0m\u001b[0;34m\u001b[0m\u001b[0m\n\u001b[1;32m      7\u001b[0m \u001b[0mfig\u001b[0m\u001b[0;34m,\u001b[0m \u001b[0maxes\u001b[0m \u001b[0;34m=\u001b[0m \u001b[0mplt\u001b[0m\u001b[0;34m.\u001b[0m\u001b[0msubplots\u001b[0m\u001b[0;34m(\u001b[0m\u001b[0mnrows\u001b[0m\u001b[0;34m=\u001b[0m\u001b[0;36m1\u001b[0m\u001b[0;34m,\u001b[0m \u001b[0mncols\u001b[0m\u001b[0;34m=\u001b[0m\u001b[0;36m2\u001b[0m\u001b[0;34m,\u001b[0m \u001b[0mfigsize\u001b[0m\u001b[0;34m=\u001b[0m\u001b[0;34m(\u001b[0m\u001b[0;36m15\u001b[0m\u001b[0;34m,\u001b[0m \u001b[0;36m7\u001b[0m\u001b[0;34m)\u001b[0m\u001b[0;34m)\u001b[0m\u001b[0;34m\u001b[0m\u001b[0;34m\u001b[0m\u001b[0m\n\u001b[0;32m----> 8\u001b[0;31m \u001b[0maxes\u001b[0m\u001b[0;34m[\u001b[0m\u001b[0;36m0\u001b[0m\u001b[0;34m]\u001b[0m\u001b[0;34m.\u001b[0m\u001b[0mplot\u001b[0m\u001b[0;34m(\u001b[0m\u001b[0mnp\u001b[0m\u001b[0;34m.\u001b[0m\u001b[0marange\u001b[0m\u001b[0;34m(\u001b[0m\u001b[0;36m0\u001b[0m\u001b[0;34m,\u001b[0m \u001b[0;36m100\u001b[0m\u001b[0;34m)\u001b[0m\u001b[0;34m,\u001b[0m \u001b[0mhistory\u001b[0m\u001b[0;34m.\u001b[0m\u001b[0mhistory\u001b[0m\u001b[0;34m[\u001b[0m\u001b[0;34m\"acc\"\u001b[0m\u001b[0;34m]\u001b[0m\u001b[0;34m,\u001b[0m \u001b[0mlabel\u001b[0m\u001b[0;34m=\u001b[0m\u001b[0;34m\"train_acc_model1\"\u001b[0m\u001b[0;34m)\u001b[0m\u001b[0;34m\u001b[0m\u001b[0;34m\u001b[0m\u001b[0m\n\u001b[0m\u001b[1;32m      9\u001b[0m \u001b[0maxes\u001b[0m\u001b[0;34m[\u001b[0m\u001b[0;36m0\u001b[0m\u001b[0;34m]\u001b[0m\u001b[0;34m.\u001b[0m\u001b[0mplot\u001b[0m\u001b[0;34m(\u001b[0m\u001b[0mnp\u001b[0m\u001b[0;34m.\u001b[0m\u001b[0marange\u001b[0m\u001b[0;34m(\u001b[0m\u001b[0;36m0\u001b[0m\u001b[0;34m,\u001b[0m \u001b[0;36m100\u001b[0m\u001b[0;34m)\u001b[0m\u001b[0;34m,\u001b[0m \u001b[0mhistory\u001b[0m\u001b[0;34m.\u001b[0m\u001b[0mhistory\u001b[0m\u001b[0;34m[\u001b[0m\u001b[0;34m\"val_acc\"\u001b[0m\u001b[0;34m]\u001b[0m\u001b[0;34m,\u001b[0m \u001b[0mlabel\u001b[0m\u001b[0;34m=\u001b[0m\u001b[0;34m\"val_acc_model1\"\u001b[0m\u001b[0;34m)\u001b[0m\u001b[0;34m\u001b[0m\u001b[0;34m\u001b[0m\u001b[0m\n\u001b[1;32m     10\u001b[0m \u001b[0maxes\u001b[0m\u001b[0;34m[\u001b[0m\u001b[0;36m0\u001b[0m\u001b[0;34m]\u001b[0m\u001b[0;34m.\u001b[0m\u001b[0mlegend\u001b[0m\u001b[0;34m(\u001b[0m\u001b[0;34m)\u001b[0m\u001b[0;34m\u001b[0m\u001b[0;34m\u001b[0m\u001b[0m\n",
            "\u001b[0;32m/usr/local/lib/python3.7/dist-packages/matplotlib/axes/_axes.py\u001b[0m in \u001b[0;36mplot\u001b[0;34m(self, scalex, scaley, data, *args, **kwargs)\u001b[0m\n\u001b[1;32m   1645\u001b[0m         \"\"\"\n\u001b[1;32m   1646\u001b[0m         \u001b[0mkwargs\u001b[0m \u001b[0;34m=\u001b[0m \u001b[0mcbook\u001b[0m\u001b[0;34m.\u001b[0m\u001b[0mnormalize_kwargs\u001b[0m\u001b[0;34m(\u001b[0m\u001b[0mkwargs\u001b[0m\u001b[0;34m,\u001b[0m \u001b[0mmlines\u001b[0m\u001b[0;34m.\u001b[0m\u001b[0mLine2D\u001b[0m\u001b[0;34m)\u001b[0m\u001b[0;34m\u001b[0m\u001b[0;34m\u001b[0m\u001b[0m\n\u001b[0;32m-> 1647\u001b[0;31m         \u001b[0mlines\u001b[0m \u001b[0;34m=\u001b[0m \u001b[0;34m[\u001b[0m\u001b[0;34m*\u001b[0m\u001b[0mself\u001b[0m\u001b[0;34m.\u001b[0m\u001b[0m_get_lines\u001b[0m\u001b[0;34m(\u001b[0m\u001b[0;34m*\u001b[0m\u001b[0margs\u001b[0m\u001b[0;34m,\u001b[0m \u001b[0mdata\u001b[0m\u001b[0;34m=\u001b[0m\u001b[0mdata\u001b[0m\u001b[0;34m,\u001b[0m \u001b[0;34m**\u001b[0m\u001b[0mkwargs\u001b[0m\u001b[0;34m)\u001b[0m\u001b[0;34m]\u001b[0m\u001b[0;34m\u001b[0m\u001b[0;34m\u001b[0m\u001b[0m\n\u001b[0m\u001b[1;32m   1648\u001b[0m         \u001b[0;32mfor\u001b[0m \u001b[0mline\u001b[0m \u001b[0;32min\u001b[0m \u001b[0mlines\u001b[0m\u001b[0;34m:\u001b[0m\u001b[0;34m\u001b[0m\u001b[0;34m\u001b[0m\u001b[0m\n\u001b[1;32m   1649\u001b[0m             \u001b[0mself\u001b[0m\u001b[0;34m.\u001b[0m\u001b[0madd_line\u001b[0m\u001b[0;34m(\u001b[0m\u001b[0mline\u001b[0m\u001b[0;34m)\u001b[0m\u001b[0;34m\u001b[0m\u001b[0;34m\u001b[0m\u001b[0m\n",
            "\u001b[0;32m/usr/local/lib/python3.7/dist-packages/matplotlib/axes/_base.py\u001b[0m in \u001b[0;36m__call__\u001b[0;34m(self, *args, **kwargs)\u001b[0m\n\u001b[1;32m    214\u001b[0m                 \u001b[0mthis\u001b[0m \u001b[0;34m+=\u001b[0m \u001b[0margs\u001b[0m\u001b[0;34m[\u001b[0m\u001b[0;36m0\u001b[0m\u001b[0;34m]\u001b[0m\u001b[0;34m,\u001b[0m\u001b[0;34m\u001b[0m\u001b[0;34m\u001b[0m\u001b[0m\n\u001b[1;32m    215\u001b[0m                 \u001b[0margs\u001b[0m \u001b[0;34m=\u001b[0m \u001b[0margs\u001b[0m\u001b[0;34m[\u001b[0m\u001b[0;36m1\u001b[0m\u001b[0;34m:\u001b[0m\u001b[0;34m]\u001b[0m\u001b[0;34m\u001b[0m\u001b[0;34m\u001b[0m\u001b[0m\n\u001b[0;32m--> 216\u001b[0;31m             \u001b[0;32myield\u001b[0m \u001b[0;32mfrom\u001b[0m \u001b[0mself\u001b[0m\u001b[0;34m.\u001b[0m\u001b[0m_plot_args\u001b[0m\u001b[0;34m(\u001b[0m\u001b[0mthis\u001b[0m\u001b[0;34m,\u001b[0m \u001b[0mkwargs\u001b[0m\u001b[0;34m)\u001b[0m\u001b[0;34m\u001b[0m\u001b[0;34m\u001b[0m\u001b[0m\n\u001b[0m\u001b[1;32m    217\u001b[0m \u001b[0;34m\u001b[0m\u001b[0m\n\u001b[1;32m    218\u001b[0m     \u001b[0;32mdef\u001b[0m \u001b[0mget_next_color\u001b[0m\u001b[0;34m(\u001b[0m\u001b[0mself\u001b[0m\u001b[0;34m)\u001b[0m\u001b[0;34m:\u001b[0m\u001b[0;34m\u001b[0m\u001b[0;34m\u001b[0m\u001b[0m\n",
            "\u001b[0;32m/usr/local/lib/python3.7/dist-packages/matplotlib/axes/_base.py\u001b[0m in \u001b[0;36m_plot_args\u001b[0;34m(self, tup, kwargs)\u001b[0m\n\u001b[1;32m    340\u001b[0m \u001b[0;34m\u001b[0m\u001b[0m\n\u001b[1;32m    341\u001b[0m         \u001b[0;32mif\u001b[0m \u001b[0mx\u001b[0m\u001b[0;34m.\u001b[0m\u001b[0mshape\u001b[0m\u001b[0;34m[\u001b[0m\u001b[0;36m0\u001b[0m\u001b[0;34m]\u001b[0m \u001b[0;34m!=\u001b[0m \u001b[0my\u001b[0m\u001b[0;34m.\u001b[0m\u001b[0mshape\u001b[0m\u001b[0;34m[\u001b[0m\u001b[0;36m0\u001b[0m\u001b[0;34m]\u001b[0m\u001b[0;34m:\u001b[0m\u001b[0;34m\u001b[0m\u001b[0;34m\u001b[0m\u001b[0m\n\u001b[0;32m--> 342\u001b[0;31m             raise ValueError(f\"x and y must have same first dimension, but \"\n\u001b[0m\u001b[1;32m    343\u001b[0m                              f\"have shapes {x.shape} and {y.shape}\")\n\u001b[1;32m    344\u001b[0m         \u001b[0;32mif\u001b[0m \u001b[0mx\u001b[0m\u001b[0;34m.\u001b[0m\u001b[0mndim\u001b[0m \u001b[0;34m>\u001b[0m \u001b[0;36m2\u001b[0m \u001b[0;32mor\u001b[0m \u001b[0my\u001b[0m\u001b[0;34m.\u001b[0m\u001b[0mndim\u001b[0m \u001b[0;34m>\u001b[0m \u001b[0;36m2\u001b[0m\u001b[0;34m:\u001b[0m\u001b[0;34m\u001b[0m\u001b[0;34m\u001b[0m\u001b[0m\n",
            "\u001b[0;31mValueError\u001b[0m: x and y must have same first dimension, but have shapes (100,) and (75,)"
          ]
        },
        {
          "output_type": "display_data",
          "data": {
            "image/png": "[encoded data removed]",
            "text/plain": [
              "<Figure size 1080x504 with 2 Axes>"
            ]
          },
          "metadata": {}
        }
      ],
      "source": [
        "%matplotlib inline\n",
        "\n",
        "import matplotlib.pyplot as plt\n",
        "import numpy as np\n",
        "\n",
        "plt.style.use(\"ggplot\")\n",
        "fig, axes = plt.subplots(nrows=1, ncols=2, figsize=(15, 7))\n",
        "axes[0].plot(np.arange(0, 100), history.history[\"acc\"], label=\"train_acc_model1\")\n",
        "axes[0].plot(np.arange(0, 100), history.history[\"val_acc\"], label=\"val_acc_model1\")\n",
        "axes[0].legend()\n",
        "axes[1].plot(np.arange(0, 100), history.history[\"loss\"], label=\"train_loss_model1\")\n",
        "axes[1].plot(np.arange(0, 100), history.history[\"val_loss\"], label=\"val_loss_model1\")\n",
        "axes[1].legend()\n",
        "plt.setp(axes[0],title='Acc Result Plot', xlabel=\"Epoch #\", ylabel=\"Acc\")\n",
        "plt.setp(axes[1],title='Loss Result Plot', xlabel=\"Epoch #\", ylabel=\"Loss\")\n",
        "fig.tight_layout()\n",
        "plt.savefig(\"/content/drive/MyDrive/Model/EvaluationPlaces44.svg\")"
      ]
    },
    {
      "cell_type": "code",
      "execution_count": null,
      "metadata": {
        "id": "IpdBBEAa9J8d"
      },
      "outputs": [],
      "source": [
        "lc = [i for i in validation_generator.class_indices.keys()]"
      ]
    },
    {
      "cell_type": "code",
      "execution_count": null,
      "metadata": {
        "colab": {
          "base_uri": "https://localhost:8080/"
        },
        "id": "KZU877LH95QW",
        "outputId": "8fc6e722-a1d7-46cc-b9b8-70b630bc083d"
      },
      "outputs": [
        {
          "output_type": "stream",
          "name": "stdout",
          "text": [
            "prediction: ball_pit\n"
          ]
        }
      ],
      "source": [
        "from PIL import Image\n",
        "import numpy as np\n",
        "\n",
        "img = Image.open('/content/places365_standard/val/beach_house/Places365_val_00002370.jpg')\n",
        "img = img.resize((100,100))\n",
        "img = np.array(img)\n",
        "img = np.expand_dims(img, axis=0)\n",
        "img = np.vstack([img])\n",
        "classes = model.predict(img)\n",
        "result = lc[np.argmax(classes)]\n",
        "print('prediction: '+ result)"
      ]
    },
    {
      "cell_type": "code",
      "execution_count": null,
      "metadata": {
        "colab": {
          "base_uri": "https://localhost:8080/"
        },
        "id": "x3sgYcOR3Hew",
        "outputId": "eb094593-2edf-4ef3-8ca5-177910d49ed6"
      },
      "outputs": [
        {
          "output_type": "stream",
          "name": "stdout",
          "text": [
            "\n",
            "Confusion Matrix\n",
            "\n",
            "[[0 0 0 ... 0 1 0]\n",
            " [1 0 0 ... 0 1 0]\n",
            " [0 0 0 ... 0 0 0]\n",
            " ...\n",
            " [0 1 0 ... 0 1 2]\n",
            " [0 0 0 ... 0 0 0]\n",
            " [0 0 0 ... 0 0 0]]\n",
            "\n",
            "\n",
            "Classification Report\n",
            "\n",
            "                            precision    recall  f1-score   support\n",
            "\n",
            "                  airfield       0.00      0.00      0.00       100\n",
            "            airplane_cabin       0.00      0.00      0.00       100\n",
            "          airport_terminal       0.00      0.00      0.00       100\n",
            "                    alcove       0.00      0.00      0.00       100\n",
            "                     alley       0.01      0.01      0.01       100\n",
            "              amphitheater       0.00      0.00      0.00       100\n",
            "          amusement_arcade       0.00      0.00      0.00       100\n",
            "            amusement_park       0.00      0.00      0.00       100\n",
            "apartment_building-outdoor       0.01      0.01      0.01       100\n",
            "                  aquarium       0.00      0.00      0.00       100\n",
            "                  aqueduct       0.01      0.01      0.01       100\n",
            "                    arcade       0.01      0.01      0.01       100\n",
            "                      arch       0.00      0.00      0.00       100\n",
            "  archaelogical_excavation       0.00      0.00      0.00       100\n",
            "                   archive       0.01      0.01      0.01       100\n",
            "              arena-hockey       0.00      0.00      0.00       100\n",
            "         arena-performance       0.00      0.00      0.00       100\n",
            "               arena-rodeo       0.00      0.00      0.00       100\n",
            "                 army_base       0.00      0.00      0.00       100\n",
            "               art_gallery       0.00      0.00      0.00       100\n",
            "                art_school       0.01      0.01      0.01       100\n",
            "                art_studio       0.00      0.00      0.00       100\n",
            "              artists_loft       0.00      0.00      0.00       100\n",
            "             assembly_line       0.03      0.01      0.01       100\n",
            "    athletic_field-outdoor       0.00      0.00      0.00       100\n",
            "             atrium-public       0.00      0.00      0.00       100\n",
            "                     attic       0.00      0.00      0.00       100\n",
            "                auditorium       0.00      0.00      0.00       100\n",
            "              auto_factory       0.00      0.00      0.00       100\n",
            "             auto_showroom       0.00      0.00      0.00       100\n",
            "                  badlands       0.00      0.00      0.00       100\n",
            "               bakery-shop       0.00      0.00      0.00       100\n",
            "          balcony-exterior       0.00      0.00      0.00       100\n",
            "          balcony-interior       0.01      0.02      0.02       100\n",
            "                  ball_pit       0.00      0.00      0.00       100\n",
            "                  ballroom       0.00      0.00      0.00       100\n",
            "             bamboo_forest       0.00      0.00      0.00       100\n",
            "                bank_vault       0.00      0.00      0.00       100\n",
            "              banquet_hall       0.00      0.00      0.00       100\n",
            "                       bar       0.01      0.01      0.01       100\n",
            "                      barn       0.01      0.01      0.01       100\n",
            "                  barndoor       0.01      0.01      0.01       100\n",
            "            baseball_field       0.00      0.00      0.00       100\n",
            "                  basement       0.00      0.00      0.00       100\n",
            "   basketball_court-indoor       0.00      0.00      0.00       100\n",
            "                  bathroom       0.00      0.00      0.00       100\n",
            "             bazaar-indoor       0.00      0.00      0.00       100\n",
            "            bazaar-outdoor       0.00      0.00      0.00       100\n",
            "                     beach       0.00      0.00      0.00       100\n",
            "               beach_house       0.00      0.00      0.00       100\n",
            "              beauty_salon       0.00      0.00      0.00       100\n",
            "                bedchamber       0.00      0.01      0.01       100\n",
            "                   bedroom       0.00      0.00      0.00       100\n",
            "               beer_garden       0.00      0.00      0.00       100\n",
            "                 beer_hall       0.02      0.01      0.01       100\n",
            "                     berth       0.00      0.00      0.00       100\n",
            "        biology_laboratory       0.00      0.00      0.00       100\n",
            "                 boardwalk       0.00      0.00      0.00       100\n",
            "                 boat_deck       0.00      0.00      0.00       100\n",
            "                 boathouse       0.00      0.00      0.00       100\n",
            "                 bookstore       0.00      0.00      0.00       100\n",
            "              booth-indoor       0.00      0.02      0.01       100\n",
            "          botanical_garden       0.00      0.00      0.00       100\n",
            "         bow_window-indoor       0.01      0.01      0.01       100\n",
            "             bowling_alley       0.01      0.01      0.01       100\n",
            "               boxing_ring       0.00      0.00      0.00       100\n",
            "                    bridge       0.00      0.00      0.00       100\n",
            "           building_facade       0.00      0.00      0.00       100\n",
            "                  bullring       0.00      0.00      0.00       100\n",
            "            burial_chamber       0.01      0.01      0.01       100\n",
            "              bus_interior       0.01      0.01      0.01       100\n",
            "        bus_station-indoor       0.00      0.00      0.00       100\n",
            "             butchers_shop       0.00      0.00      0.00       100\n",
            "                     butte       0.01      0.01      0.01       100\n",
            "             cabin-outdoor       0.00      0.00      0.00       100\n",
            "                 cafeteria       0.00      0.00      0.00       100\n",
            "                  campsite       0.00      0.00      0.00       100\n",
            "                    campus       0.00      0.00      0.00       100\n",
            "             canal-natural       0.00      0.00      0.00       100\n",
            "               canal-urban       0.00      0.00      0.00       100\n",
            "               candy_store       0.02      0.01      0.01       100\n",
            "                    canyon       0.00      0.00      0.00       100\n",
            "              car_interior       0.00      0.00      0.00       100\n",
            "                 carrousel       0.01      0.01      0.01       100\n",
            "                    castle       0.00      0.00      0.00       100\n",
            "                  catacomb       0.00      0.00      0.00       100\n",
            "                  cemetery       0.00      0.00      0.00       100\n",
            "                    chalet       0.00      0.00      0.00       100\n",
            "             chemistry_lab       0.00      0.00      0.00       100\n",
            "               childs_room       0.00      0.00      0.00       100\n",
            "             church-indoor       0.00      0.00      0.00       100\n",
            "            church-outdoor       0.00      0.00      0.00       100\n",
            "                 classroom       0.00      0.00      0.00       100\n",
            "                clean_room       0.00      0.00      0.00       100\n",
            "                     cliff       0.00      0.00      0.00       100\n",
            "                    closet       0.00      0.00      0.00       100\n",
            "            clothing_store       0.00      0.00      0.00       100\n",
            "                     coast       0.00      0.00      0.00       100\n",
            "                   cockpit       0.00      0.00      0.00       100\n",
            "               coffee_shop       0.00      0.00      0.00       100\n",
            "             computer_room       0.00      0.00      0.00       100\n",
            "         conference_center       0.00      0.00      0.00       100\n",
            "           conference_room       0.00      0.00      0.00       100\n",
            "         construction_site       0.00      0.00      0.00       100\n",
            "                corn_field       0.00      0.00      0.00       100\n",
            "                    corral       0.00      0.00      0.00       100\n",
            "                  corridor       0.02      0.02      0.02       100\n",
            "                   cottage       0.00      0.00      0.00       100\n",
            "                courthouse       0.00      0.00      0.00       100\n",
            "                 courtyard       0.00      0.00      0.00       100\n",
            "                     creek       0.01      0.01      0.01       100\n",
            "                  crevasse       0.00      0.00      0.00       100\n",
            "                 crosswalk       0.00      0.01      0.01       100\n",
            "                       dam       0.00      0.00      0.00       100\n",
            "              delicatessen       0.02      0.01      0.01       100\n",
            "          department_store       0.00      0.00      0.00       100\n",
            "               desert-sand       0.00      0.00      0.00       100\n",
            "         desert-vegetation       0.00      0.00      0.00       100\n",
            "               desert_road       0.00      0.00      0.00       100\n",
            "             diner-outdoor       0.00      0.00      0.00       100\n",
            "               dining_hall       0.00      0.00      0.00       100\n",
            "               dining_room       0.00      0.00      0.00       100\n",
            "               discotheque       0.00      0.00      0.00       100\n",
            "           doorway-outdoor       0.00      0.01      0.01       100\n",
            "                 dorm_room       0.00      0.00      0.00       100\n",
            "                  downtown       0.00      0.00      0.00       100\n",
            "             dressing_room       0.00      0.00      0.00       100\n",
            "                  driveway       0.00      0.00      0.00       100\n",
            "                 drugstore       0.00      0.00      0.00       100\n",
            "             elevator-door       0.00      0.00      0.00       100\n",
            "            elevator_lobby       0.00      0.00      0.00       100\n",
            "            elevator_shaft       0.00      0.00      0.00       100\n",
            "                   embassy       0.01      0.01      0.01       100\n",
            "               engine_room       0.00      0.00      0.00       100\n",
            "             entrance_hall       0.00      0.00      0.00       100\n",
            "          escalator-indoor       0.00      0.00      0.00       100\n",
            "                excavation       0.01      0.01      0.01       100\n",
            "              fabric_store       0.00      0.00      0.00       100\n",
            "                      farm       0.00      0.00      0.00       100\n",
            "       fastfood_restaurant       0.02      0.01      0.01       100\n",
            "          field-cultivated       0.00      0.00      0.00       100\n",
            "                field-wild       0.00      0.00      0.00       100\n",
            "                field_road       0.00      0.00      0.00       100\n",
            "               fire_escape       0.00      0.00      0.00       100\n",
            "              fire_station       0.01      0.01      0.01       100\n",
            "                  fishpond       0.00      0.00      0.00       100\n",
            "        flea_market-indoor       0.01      0.01      0.01       100\n",
            "       florist_shop-indoor       0.01      0.01      0.01       100\n",
            "                food_court       0.00      0.00      0.00       100\n",
            "            football_field       0.00      0.00      0.00       100\n",
            "          forest-broadleaf       0.00      0.00      0.00       100\n",
            "               forest_path       0.01      0.01      0.01       100\n",
            "               forest_road       0.00      0.00      0.00       100\n",
            "             formal_garden       0.00      0.00      0.00       100\n",
            "                  fountain       0.02      0.01      0.01       100\n",
            "                    galley       0.00      0.00      0.00       100\n",
            "             garage-indoor       0.00      0.00      0.00       100\n",
            "            garage-outdoor       0.00      0.00      0.00       100\n",
            "               gas_station       0.01      0.01      0.01       100\n",
            "           gazebo-exterior       0.01      0.01      0.01       100\n",
            "      general_store-indoor       0.02      0.01      0.01       100\n",
            "     general_store-outdoor       0.01      0.01      0.01       100\n",
            "                 gift_shop       0.00      0.00      0.00       100\n",
            "                   glacier       0.00      0.00      0.00       100\n",
            "               golf_course       0.00      0.00      0.00       100\n",
            "         greenhouse-indoor       0.00      0.00      0.00       100\n",
            "        greenhouse-outdoor       0.00      0.00      0.00       100\n",
            "                    grotto       0.00      0.00      0.00       100\n",
            "          gymnasium-indoor       0.00      0.00      0.00       100\n",
            "             hangar-indoor       0.00      0.00      0.00       100\n",
            "            hangar-outdoor       0.01      0.02      0.01       100\n",
            "                    harbor       0.00      0.00      0.00       100\n",
            "            hardware_store       0.00      0.00      0.00       100\n",
            "                  hayfield       0.00      0.00      0.00       100\n",
            "                  heliport       0.00      0.00      0.00       100\n",
            "                   highway       0.00      0.00      0.00       100\n",
            "               home_office       0.00      0.00      0.00       100\n",
            "              home_theater       0.02      0.02      0.02       100\n",
            "                  hospital       0.00      0.00      0.00       100\n",
            "             hospital_room       0.00      0.00      0.00       100\n",
            "                hot_spring       0.02      0.01      0.01       100\n",
            "             hotel-outdoor       0.00      0.00      0.00       100\n",
            "                hotel_room       0.00      0.00      0.00       100\n",
            "                     house       0.00      0.00      0.00       100\n",
            "     hunting_lodge-outdoor       0.00      0.00      0.00       100\n",
            "          ice_cream_parlor       0.00      0.00      0.00       100\n",
            "                  ice_floe       0.00      0.00      0.00       100\n",
            "                 ice_shelf       0.02      0.02      0.02       100\n",
            "   ice_skating_rink-indoor       0.00      0.00      0.00       100\n",
            "  ice_skating_rink-outdoor       0.00      0.00      0.00       100\n",
            "                   iceberg       0.01      0.01      0.01       100\n",
            "                     igloo       0.00      0.00      0.00       100\n",
            "           industrial_area       0.01      0.01      0.01       100\n",
            "               inn-outdoor       0.00      0.00      0.00       100\n",
            "                     islet       0.00      0.00      0.00       100\n",
            "            jacuzzi-indoor       0.00      0.00      0.00       100\n",
            "                 jail_cell       0.00      0.00      0.00       100\n",
            "           japanese_garden       0.00      0.00      0.00       100\n",
            "              jewelry_shop       0.00      0.00      0.00       100\n",
            "                  junkyard       0.02      0.02      0.02       100\n",
            "                    kasbah       0.00      0.00      0.00       100\n",
            "            kennel-outdoor       0.00      0.00      0.00       100\n",
            "    kindergarden_classroom       0.00      0.00      0.00       100\n",
            "                   kitchen       0.00      0.00      0.00       100\n",
            "                    lagoon       0.00      0.00      0.00       100\n",
            "              lake-natural       0.00      0.00      0.00       100\n",
            "                  landfill       0.00      0.00      0.00       100\n",
            "              landing_deck       0.01      0.01      0.01       100\n",
            "                laundromat       0.00      0.00      0.00       100\n",
            "                      lawn       0.02      0.02      0.02       100\n",
            "              lecture_room       0.00      0.00      0.00       100\n",
            "       legislative_chamber       0.01      0.01      0.01       100\n",
            "            library-indoor       0.00      0.00      0.00       100\n",
            "           library-outdoor       0.00      0.00      0.00       100\n",
            "                lighthouse       0.00      0.00      0.00       100\n",
            "               living_room       0.08      0.01      0.02       100\n",
            "              loading_dock       0.00      0.00      0.00       100\n",
            "                     lobby       0.00      0.00      0.00       100\n",
            "              lock_chamber       0.01      0.01      0.01       100\n",
            "               locker_room       0.01      0.01      0.01       100\n",
            "                   mansion       0.00      0.00      0.00       100\n",
            "         manufactured_home       0.00      0.01      0.01       100\n",
            "             market-indoor       0.00      0.00      0.00       100\n",
            "            market-outdoor       0.01      0.01      0.01       100\n",
            "                     marsh       0.02      0.01      0.01       100\n",
            "          martial_arts_gym       0.00      0.00      0.00       100\n",
            "                 mausoleum       0.00      0.00      0.00       100\n",
            "                    medina       0.00      0.00      0.00       100\n",
            "                 mezzanine       0.00      0.00      0.00       100\n",
            "                moat-water       0.00      0.00      0.00       100\n",
            "            mosque-outdoor       0.00      0.00      0.00       100\n",
            "                     motel       0.00      0.00      0.00       100\n",
            "                  mountain       0.00      0.00      0.00       100\n",
            "             mountain_path       0.00      0.00      0.00       100\n",
            "            mountain_snowy       0.01      0.01      0.01       100\n",
            "      movie_theater-indoor       0.01      0.01      0.01       100\n",
            "             museum-indoor       0.00      0.00      0.00       100\n",
            "            museum-outdoor       0.00      0.00      0.00       100\n",
            "              music_studio       0.01      0.01      0.01       100\n",
            "    natural_history_museum       0.00      0.00      0.00       100\n",
            "                   nursery       0.00      0.00      0.00       100\n",
            "              nursing_home       0.00      0.00      0.00       100\n",
            "                oast_house       0.00      0.00      0.00       100\n",
            "                     ocean       0.00      0.00      0.00       100\n",
            "                    office       0.00      0.00      0.00       100\n",
            "           office_building       0.03      0.01      0.01       100\n",
            "           office_cubicles       0.00      0.00      0.00       100\n",
            "                    oilrig       0.00      0.00      0.00       100\n",
            "            operating_room       0.00      0.00      0.00       100\n",
            "                   orchard       0.01      0.01      0.01       100\n",
            "             orchestra_pit       0.00      0.00      0.00       100\n",
            "                    pagoda       0.00      0.00      0.00       100\n",
            "                    palace       0.00      0.00      0.00       100\n",
            "                    pantry       0.02      0.01      0.01       100\n",
            "                      park       0.01      0.01      0.01       100\n",
            "     parking_garage-indoor       0.00      0.00      0.00       100\n",
            "    parking_garage-outdoor       0.00      0.00      0.00       100\n",
            "               parking_lot       0.00      0.00      0.00       100\n",
            "                   pasture       0.00      0.00      0.00       100\n",
            "                     patio       0.02      0.01      0.01       100\n",
            "                  pavilion       0.01      0.01      0.01       100\n",
            "                  pet_shop       0.00      0.00      0.00       100\n",
            "                  pharmacy       0.01      0.01      0.01       100\n",
            "               phone_booth       0.00      0.00      0.00       100\n",
            "        physics_laboratory       0.00      0.00      0.00       100\n",
            "               picnic_area       0.00      0.00      0.00       100\n",
            "                      pier       0.01      0.01      0.01       100\n",
            "                  pizzeria       0.00      0.00      0.00       100\n",
            "                playground       0.00      0.00      0.00       100\n",
            "                  playroom       0.01      0.01      0.01       100\n",
            "                     plaza       0.00      0.00      0.00       100\n",
            "                      pond       0.00      0.00      0.00       100\n",
            "                     porch       0.00      0.00      0.00       100\n",
            "                 promenade       0.00      0.00      0.00       100\n",
            "                pub-indoor       0.00      0.00      0.00       100\n",
            "                racecourse       0.00      0.00      0.00       100\n",
            "                   raceway       0.00      0.00      0.00       100\n",
            "                      raft       0.00      0.00      0.00       100\n",
            "            railroad_track       0.00      0.00      0.00       100\n",
            "                rainforest       0.00      0.00      0.00       100\n",
            "                 reception       0.00      0.00      0.00       100\n",
            "           recreation_room       0.00      0.00      0.00       100\n",
            "               repair_shop       0.00      0.00      0.00       100\n",
            "  residential_neighborhood       0.00      0.00      0.00       100\n",
            "                restaurant       0.00      0.00      0.00       100\n",
            "        restaurant_kitchen       0.00      0.00      0.00       100\n",
            "          restaurant_patio       0.00      0.00      0.00       100\n",
            "                rice_paddy       0.00      0.00      0.00       100\n",
            "                     river       0.00      0.00      0.00       100\n",
            "                 rock_arch       0.01      0.01      0.01       100\n",
            "               roof_garden       0.00      0.00      0.00       100\n",
            "               rope_bridge       0.00      0.00      0.00       100\n",
            "                      ruin       0.00      0.00      0.00       100\n",
            "                    runway       0.01      0.01      0.01       100\n",
            "                   sandbox       0.00      0.00      0.00       100\n",
            "                     sauna       0.00      0.00      0.00       100\n",
            "               schoolhouse       0.01      0.01      0.01       100\n",
            "            science_museum       0.00      0.00      0.00       100\n",
            "               server_room       0.00      0.00      0.00       100\n",
            "                      shed       0.02      0.01      0.01       100\n",
            "                 shoe_shop       0.00      0.00      0.00       100\n",
            "                 shopfront       0.00      0.01      0.01       100\n",
            "      shopping_mall-indoor       0.00      0.00      0.00       100\n",
            "                    shower       0.00      0.00      0.00       100\n",
            "                ski_resort       0.00      0.00      0.00       100\n",
            "                 ski_slope       0.01      0.01      0.01       100\n",
            "                       sky       0.00      0.00      0.00       100\n",
            "                skyscraper       0.00      0.00      0.00       100\n",
            "                      slum       0.00      0.00      0.00       100\n",
            "                 snowfield       0.00      0.00      0.00       100\n",
            "              soccer_field       0.00      0.00      0.00       100\n",
            "                    stable       0.00      0.00      0.00       100\n",
            "          stadium-baseball       0.01      0.01      0.01       100\n",
            "          stadium-football       0.00      0.00      0.00       100\n",
            "            stadium-soccer       0.01      0.01      0.01       100\n",
            "              stage-indoor       0.00      0.00      0.00       100\n",
            "             stage-outdoor       0.00      0.00      0.00       100\n",
            "                 staircase       0.00      0.00      0.00       100\n",
            "              storage_room       0.00      0.00      0.00       100\n",
            "                    street       0.00      0.00      0.00       100\n",
            "   subway_station-platform       0.01      0.01      0.01       100\n",
            "               supermarket       0.00      0.00      0.00       100\n",
            "                 sushi_bar       0.01      0.01      0.01       100\n",
            "                     swamp       0.00      0.00      0.00       100\n",
            "             swimming_hole       0.01      0.01      0.01       100\n",
            "      swimming_pool-indoor       0.00      0.00      0.00       100\n",
            "     swimming_pool-outdoor       0.00      0.00      0.00       100\n",
            "         synagogue-outdoor       0.00      0.00      0.00       100\n",
            "           television_room       0.01      0.01      0.01       100\n",
            "         television_studio       0.01      0.01      0.01       100\n",
            "               temple-asia       0.00      0.00      0.00       100\n",
            "               throne_room       0.01      0.01      0.01       100\n",
            "              ticket_booth       0.02      0.02      0.02       100\n",
            "            topiary_garden       0.00      0.00      0.00       100\n",
            "                     tower       0.00      0.00      0.00       100\n",
            "                   toyshop       0.00      0.00      0.00       100\n",
            "            train_interior       0.00      0.00      0.00       100\n",
            "    train_station-platform       0.00      0.00      0.00       100\n",
            "                 tree_farm       0.02      0.01      0.01       100\n",
            "                tree_house       0.01      0.01      0.01       100\n",
            "                    trench       0.00      0.00      0.00       100\n",
            "                    tundra       0.00      0.00      0.00       100\n",
            "     underwater-ocean_deep       0.00      0.00      0.00       100\n",
            "              utility_room       0.00      0.00      0.00       100\n",
            "                    valley       0.00      0.00      0.00       100\n",
            "          vegetable_garden       0.01      0.01      0.01       100\n",
            "      veterinarians_office       0.02      0.01      0.01       100\n",
            "                   viaduct       0.01      0.01      0.01       100\n",
            "                   village       0.00      0.00      0.00       100\n",
            "                  vineyard       0.00      0.00      0.00       100\n",
            "                   volcano       0.01      0.01      0.01       100\n",
            "  volleyball_court-outdoor       0.00      0.00      0.00       100\n",
            "              waiting_room       0.00      0.00      0.00       100\n",
            "                water_park       0.00      0.00      0.00       100\n",
            "               water_tower       0.02      0.03      0.03       100\n",
            "                 waterfall       0.00      0.00      0.00       100\n",
            "             watering_hole       0.00      0.00      0.00       100\n",
            "                      wave       0.01      0.02      0.01       100\n",
            "                   wet_bar       0.00      0.00      0.00       100\n",
            "               wheat_field       0.01      0.01      0.01       100\n",
            "                 wind_farm       0.00      0.00      0.00       100\n",
            "                  windmill       0.01      0.01      0.01       100\n",
            "                      yard       0.00      0.00      0.00       100\n",
            "              youth_hostel       0.00      0.00      0.00       100\n",
            "                zen_garden       0.00      0.00      0.00       100\n",
            "\n",
            "                  accuracy                           0.00     36500\n",
            "                 macro avg       0.00      0.00      0.00     36500\n",
            "              weighted avg       0.00      0.00      0.00     36500\n",
            "\n"
          ]
        }
      ],
      "source": [
        "from sklearn.metrics import classification_report\n",
        "from sklearn.metrics import confusion_matrix, ConfusionMatrixDisplay\n",
        "\n",
        "label = list(validation_generator.class_indices.keys())\n",
        "num_of_test_samples = len(validation_generator.filenames)\n",
        "\n",
        "Y_pred = model.predict(validation_generator)\n",
        "y_pred = np.argmax(Y_pred, axis=1)\n",
        "\n",
        "print('\\nConfusion Matrix\\n')\n",
        "print(confusion_matrix(validation_generator.classes, y_pred))\n",
        "print('\\n\\nClassification Report\\n')\n",
        "print(classification_report(validation_generator.classes, y_pred, target_names=label))"
      ]
    },
    {
      "cell_type": "code",
      "execution_count": null,
      "metadata": {
        "colab": {
          "base_uri": "https://localhost:8080/"
        },
        "id": "0XAQGYlEJNZy",
        "outputId": "208f6f26-a4b2-43ff-ef3f-befb168e69f8"
      },
      "outputs": [
        {
          "name": "stdout",
          "output_type": "stream",
          "text": [
            "286/286 [==============================] - 45s 156ms/step - loss: 1.3326 - acc: 0.6698\n"
          ]
        },
        {
          "data": {
            "text/plain": [
              "[1.3325960636138916, 0.6698082089424133]"
            ]
          },
          "execution_count": 22,
          "metadata": {},
          "output_type": "execute_result"
        }
      ],
      "source": [
        "model.evaluate(validation_generator)"
      ]
    }
  ],
  "metadata": {
    "accelerator": "GPU",
    "colab": {
      "collapsed_sections": [],
      "machine_shape": "hm",
      "name": "trainPlacesModel.ipynb",
      "provenance": [],
      "mount_file_id": "1UdJipcsuDOyca6bGK5Yq_WBU2jEbJKkJ",
      "authorship_tag": "ABX9TyOCbNhrXVWvHu8rZ2GNEePA",
      "include_colab_link": true
    },
    "kernelspec": {
      "display_name": "Python 3",
      "name": "python3"
    },
    "language_info": {
      "name": "python"
    }
  },
  "nbformat": 4,
  "nbformat_minor": 0
}